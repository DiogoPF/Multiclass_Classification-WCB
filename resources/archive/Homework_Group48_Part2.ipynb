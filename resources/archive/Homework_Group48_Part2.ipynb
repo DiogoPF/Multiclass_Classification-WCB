{
 "cells": [
  {
   "cell_type": "markdown",
   "id": "a648f84e",
   "metadata": {},
   "source": [
    "# <span style=\"color:#e0bda8; font-size: 40px;\">To Grant or Not to Grant - Pre-Processing, Feature Selection and Modelling</span>\n"
   ]
  },
  {
   "cell_type": "markdown",
   "id": "ea2635f0",
   "metadata": {},
   "source": [
    "# <span style=\"color:#e0bda8\">0. Context</span>\n",
    "\n",
    "The New York Workers’ Compensation Board (WCB) handles claims related to workplace injuries, a process that is often time-consuming when done manually. This project aims to develop a machine learning model to predict the \"Claim Injury Type\" based on historical claims data from 2020 to 2022. By automating this classification, we can help the WCB make quicker and more accurate decisions.\n",
    "\n",
    "The project involves building and evaluating various multiclass classification models, optimizing their performance, and exploring key features that contribute to accurate predictions. Ultimately, the goal is to identify the best model that can efficiently assist in the decision-making process for new claims.\n"
   ]
  },
  {
   "cell_type": "markdown",
   "id": "35cec82e",
   "metadata": {},
   "source": [
    "# <span style=\"color:#e0bda8\">1. Import Packages and Libraries</span>"
   ]
  },
  {
   "cell_type": "code",
   "execution_count": 1,
   "id": "cc10ee65",
   "metadata": {},
   "outputs": [],
   "source": [
    "import pandas as pd\n",
    "import numpy as np\n",
    "import matplotlib.pyplot as plt\n",
    "import seaborn as sns\n",
    "from math import ceil\n",
    "import os\n",
    "import sqlite3\n",
    "from itertools import product\n",
    "from matplotlib.colors import LinearSegmentedColormap\n",
    "from sklearn.model_selection import train_test_split\n",
    "import scipy.stats as stats\n",
    "from scipy.stats import chi2_contingency\n",
    "from sklearn.linear_model import LogisticRegression\n",
    "from sklearn.svm import SVC\n",
    "from sklearn.feature_selection import RFE\n",
    "from sklearn.linear_model import LassoCV\n",
    "from sklearn.impute import KNNImputer\n",
    "from sklearn.preprocessing import MinMaxScaler\n",
    "from sklearn.preprocessing import StandardScaler\n",
    "from sklearn.preprocessing import RobustScaler\n",
    "from sklearn.feature_selection import RFE\n",
    "from sklearn.feature_selection import RFECV\n",
    "from sklearn.model_selection import StratifiedKFold\n",
    "from sklearn.linear_model import LassoCV\n",
    "from sklearn.metrics import f1_score\n",
    "from sklearn.preprocessing import LabelEncoder\n",
    "from sklearn.linear_model import LogisticRegression\n",
    "from sklearn.neighbors import KNeighborsClassifier\n",
    "from sklearn.tree import DecisionTreeClassifier\n",
    "from sklearn.neural_network import MLPClassifier\n",
    "from sklearn.naive_bayes import CategoricalNB\n",
    "from transformers import AutoTokenizer, AutoModel\n",
    "import torch\n",
    "from sklearn.metrics import classification_report\n",
    "from imblearn.over_sampling import SMOTE"
   ]
  },
  {
   "cell_type": "markdown",
   "id": "4f0109db",
   "metadata": {},
   "source": [
    "# <span style=\"color:#e0bda8\">2. Reading the Data</span>"
   ]
  },
  {
   "cell_type": "code",
   "execution_count": 2,
   "id": "b3ebb96a",
   "metadata": {},
   "outputs": [
    {
     "name": "stderr",
     "output_type": "stream",
     "text": [
      "<ipython-input-2-ed39e2676316>:1: DtypeWarning: Columns (29) have mixed types. Specify dtype option on import or set low_memory=False.\n",
      "  df = pd.read_csv(\"./resources/train_data.csv\")\n"
     ]
    },
    {
     "data": {
      "text/html": [
       "<div>\n",
       "<style scoped>\n",
       "    .dataframe tbody tr th:only-of-type {\n",
       "        vertical-align: middle;\n",
       "    }\n",
       "\n",
       "    .dataframe tbody tr th {\n",
       "        vertical-align: top;\n",
       "    }\n",
       "\n",
       "    .dataframe thead th {\n",
       "        text-align: right;\n",
       "    }\n",
       "</style>\n",
       "<table border=\"1\" class=\"dataframe\">\n",
       "  <thead>\n",
       "    <tr style=\"text-align: right;\">\n",
       "      <th></th>\n",
       "      <th>Accident Date</th>\n",
       "      <th>Age at Injury</th>\n",
       "      <th>Alternative Dispute Resolution</th>\n",
       "      <th>Assembly Date</th>\n",
       "      <th>Attorney/Representative</th>\n",
       "      <th>Average Weekly Wage</th>\n",
       "      <th>Birth Year</th>\n",
       "      <th>C-2 Date</th>\n",
       "      <th>C-3 Date</th>\n",
       "      <th>Carrier Name</th>\n",
       "      <th>...</th>\n",
       "      <th>WCIO Cause of Injury Code</th>\n",
       "      <th>WCIO Cause of Injury Description</th>\n",
       "      <th>WCIO Nature of Injury Code</th>\n",
       "      <th>WCIO Nature of Injury Description</th>\n",
       "      <th>WCIO Part Of Body Code</th>\n",
       "      <th>WCIO Part Of Body Description</th>\n",
       "      <th>Zip Code</th>\n",
       "      <th>Agreement Reached</th>\n",
       "      <th>WCB Decision</th>\n",
       "      <th>Number of Dependents</th>\n",
       "    </tr>\n",
       "  </thead>\n",
       "  <tbody>\n",
       "    <tr>\n",
       "      <th>0</th>\n",
       "      <td>2019-12-30</td>\n",
       "      <td>31.0</td>\n",
       "      <td>N</td>\n",
       "      <td>2020-01-01</td>\n",
       "      <td>N</td>\n",
       "      <td>0.00</td>\n",
       "      <td>1988.0</td>\n",
       "      <td>2019-12-31</td>\n",
       "      <td>NaN</td>\n",
       "      <td>NEW HAMPSHIRE INSURANCE CO</td>\n",
       "      <td>...</td>\n",
       "      <td>27.0</td>\n",
       "      <td>FROM LIQUID OR GREASE SPILLS</td>\n",
       "      <td>10.0</td>\n",
       "      <td>CONTUSION</td>\n",
       "      <td>62.0</td>\n",
       "      <td>BUTTOCKS</td>\n",
       "      <td>13662</td>\n",
       "      <td>0.0</td>\n",
       "      <td>Not Work Related</td>\n",
       "      <td>1.0</td>\n",
       "    </tr>\n",
       "    <tr>\n",
       "      <th>1</th>\n",
       "      <td>2019-08-30</td>\n",
       "      <td>46.0</td>\n",
       "      <td>N</td>\n",
       "      <td>2020-01-01</td>\n",
       "      <td>Y</td>\n",
       "      <td>1745.93</td>\n",
       "      <td>1973.0</td>\n",
       "      <td>2020-01-01</td>\n",
       "      <td>2020-01-14</td>\n",
       "      <td>ZURICH AMERICAN INSURANCE CO</td>\n",
       "      <td>...</td>\n",
       "      <td>97.0</td>\n",
       "      <td>REPETITIVE MOTION</td>\n",
       "      <td>49.0</td>\n",
       "      <td>SPRAIN OR TEAR</td>\n",
       "      <td>38.0</td>\n",
       "      <td>SHOULDER(S)</td>\n",
       "      <td>14569</td>\n",
       "      <td>1.0</td>\n",
       "      <td>Not Work Related</td>\n",
       "      <td>4.0</td>\n",
       "    </tr>\n",
       "    <tr>\n",
       "      <th>2</th>\n",
       "      <td>2019-12-06</td>\n",
       "      <td>40.0</td>\n",
       "      <td>N</td>\n",
       "      <td>2020-01-01</td>\n",
       "      <td>N</td>\n",
       "      <td>1434.80</td>\n",
       "      <td>1979.0</td>\n",
       "      <td>2020-01-01</td>\n",
       "      <td>NaN</td>\n",
       "      <td>INDEMNITY INSURANCE CO OF</td>\n",
       "      <td>...</td>\n",
       "      <td>79.0</td>\n",
       "      <td>OBJECT BEING LIFTED OR HANDLED</td>\n",
       "      <td>7.0</td>\n",
       "      <td>CONCUSSION</td>\n",
       "      <td>10.0</td>\n",
       "      <td>MULTIPLE HEAD INJURY</td>\n",
       "      <td>12589</td>\n",
       "      <td>0.0</td>\n",
       "      <td>Not Work Related</td>\n",
       "      <td>6.0</td>\n",
       "    </tr>\n",
       "    <tr>\n",
       "      <th>3</th>\n",
       "      <td>NaN</td>\n",
       "      <td>NaN</td>\n",
       "      <td>NaN</td>\n",
       "      <td>2020-01-01</td>\n",
       "      <td>NaN</td>\n",
       "      <td>NaN</td>\n",
       "      <td>NaN</td>\n",
       "      <td>NaN</td>\n",
       "      <td>NaN</td>\n",
       "      <td>NaN</td>\n",
       "      <td>...</td>\n",
       "      <td>NaN</td>\n",
       "      <td>NaN</td>\n",
       "      <td>NaN</td>\n",
       "      <td>NaN</td>\n",
       "      <td>NaN</td>\n",
       "      <td>NaN</td>\n",
       "      <td>NaN</td>\n",
       "      <td>NaN</td>\n",
       "      <td>NaN</td>\n",
       "      <td>NaN</td>\n",
       "    </tr>\n",
       "    <tr>\n",
       "      <th>4</th>\n",
       "      <td>2019-12-30</td>\n",
       "      <td>61.0</td>\n",
       "      <td>N</td>\n",
       "      <td>2020-01-01</td>\n",
       "      <td>N</td>\n",
       "      <td>NaN</td>\n",
       "      <td>1958.0</td>\n",
       "      <td>2019-12-31</td>\n",
       "      <td>NaN</td>\n",
       "      <td>STATE INSURANCE FUND</td>\n",
       "      <td>...</td>\n",
       "      <td>16.0</td>\n",
       "      <td>HAND TOOL, UTENSIL; NOT POWERED</td>\n",
       "      <td>43.0</td>\n",
       "      <td>PUNCTURE</td>\n",
       "      <td>36.0</td>\n",
       "      <td>FINGER(S)</td>\n",
       "      <td>12603</td>\n",
       "      <td>0.0</td>\n",
       "      <td>Not Work Related</td>\n",
       "      <td>1.0</td>\n",
       "    </tr>\n",
       "    <tr>\n",
       "      <th>...</th>\n",
       "      <td>...</td>\n",
       "      <td>...</td>\n",
       "      <td>...</td>\n",
       "      <td>...</td>\n",
       "      <td>...</td>\n",
       "      <td>...</td>\n",
       "      <td>...</td>\n",
       "      <td>...</td>\n",
       "      <td>...</td>\n",
       "      <td>...</td>\n",
       "      <td>...</td>\n",
       "      <td>...</td>\n",
       "      <td>...</td>\n",
       "      <td>...</td>\n",
       "      <td>...</td>\n",
       "      <td>...</td>\n",
       "      <td>...</td>\n",
       "      <td>...</td>\n",
       "      <td>...</td>\n",
       "      <td>...</td>\n",
       "      <td>...</td>\n",
       "    </tr>\n",
       "    <tr>\n",
       "      <th>593466</th>\n",
       "      <td>NaN</td>\n",
       "      <td>NaN</td>\n",
       "      <td>NaN</td>\n",
       "      <td>2022-12-31</td>\n",
       "      <td>NaN</td>\n",
       "      <td>NaN</td>\n",
       "      <td>NaN</td>\n",
       "      <td>NaN</td>\n",
       "      <td>NaN</td>\n",
       "      <td>NaN</td>\n",
       "      <td>...</td>\n",
       "      <td>NaN</td>\n",
       "      <td>NaN</td>\n",
       "      <td>NaN</td>\n",
       "      <td>NaN</td>\n",
       "      <td>NaN</td>\n",
       "      <td>NaN</td>\n",
       "      <td>NaN</td>\n",
       "      <td>NaN</td>\n",
       "      <td>NaN</td>\n",
       "      <td>NaN</td>\n",
       "    </tr>\n",
       "    <tr>\n",
       "      <th>593467</th>\n",
       "      <td>2022-12-13</td>\n",
       "      <td>72.0</td>\n",
       "      <td>N</td>\n",
       "      <td>2022-12-31</td>\n",
       "      <td>N</td>\n",
       "      <td>0.00</td>\n",
       "      <td>1950.0</td>\n",
       "      <td>2022-12-31</td>\n",
       "      <td>NaN</td>\n",
       "      <td>TECHNOLOGY INSURANCE CO. INC.</td>\n",
       "      <td>...</td>\n",
       "      <td>25.0</td>\n",
       "      <td>FROM DIFFERENT LEVEL (ELEVATION)</td>\n",
       "      <td>90.0</td>\n",
       "      <td>MULTIPLE PHYSICAL INJURIES ONLY</td>\n",
       "      <td>-9.0</td>\n",
       "      <td>MULTIPLE</td>\n",
       "      <td>12779</td>\n",
       "      <td>0.0</td>\n",
       "      <td>Not Work Related</td>\n",
       "      <td>3.0</td>\n",
       "    </tr>\n",
       "    <tr>\n",
       "      <th>593468</th>\n",
       "      <td>NaN</td>\n",
       "      <td>NaN</td>\n",
       "      <td>NaN</td>\n",
       "      <td>2022-12-31</td>\n",
       "      <td>NaN</td>\n",
       "      <td>NaN</td>\n",
       "      <td>NaN</td>\n",
       "      <td>NaN</td>\n",
       "      <td>NaN</td>\n",
       "      <td>NaN</td>\n",
       "      <td>...</td>\n",
       "      <td>NaN</td>\n",
       "      <td>NaN</td>\n",
       "      <td>NaN</td>\n",
       "      <td>NaN</td>\n",
       "      <td>NaN</td>\n",
       "      <td>NaN</td>\n",
       "      <td>NaN</td>\n",
       "      <td>NaN</td>\n",
       "      <td>NaN</td>\n",
       "      <td>NaN</td>\n",
       "    </tr>\n",
       "    <tr>\n",
       "      <th>593469</th>\n",
       "      <td>NaN</td>\n",
       "      <td>NaN</td>\n",
       "      <td>NaN</td>\n",
       "      <td>2022-12-31</td>\n",
       "      <td>NaN</td>\n",
       "      <td>NaN</td>\n",
       "      <td>NaN</td>\n",
       "      <td>NaN</td>\n",
       "      <td>NaN</td>\n",
       "      <td>NaN</td>\n",
       "      <td>...</td>\n",
       "      <td>NaN</td>\n",
       "      <td>NaN</td>\n",
       "      <td>NaN</td>\n",
       "      <td>NaN</td>\n",
       "      <td>NaN</td>\n",
       "      <td>NaN</td>\n",
       "      <td>NaN</td>\n",
       "      <td>NaN</td>\n",
       "      <td>NaN</td>\n",
       "      <td>NaN</td>\n",
       "    </tr>\n",
       "    <tr>\n",
       "      <th>593470</th>\n",
       "      <td>NaN</td>\n",
       "      <td>NaN</td>\n",
       "      <td>NaN</td>\n",
       "      <td>2022-12-31</td>\n",
       "      <td>NaN</td>\n",
       "      <td>NaN</td>\n",
       "      <td>NaN</td>\n",
       "      <td>NaN</td>\n",
       "      <td>NaN</td>\n",
       "      <td>NaN</td>\n",
       "      <td>...</td>\n",
       "      <td>NaN</td>\n",
       "      <td>NaN</td>\n",
       "      <td>NaN</td>\n",
       "      <td>NaN</td>\n",
       "      <td>NaN</td>\n",
       "      <td>NaN</td>\n",
       "      <td>NaN</td>\n",
       "      <td>NaN</td>\n",
       "      <td>NaN</td>\n",
       "      <td>NaN</td>\n",
       "    </tr>\n",
       "  </tbody>\n",
       "</table>\n",
       "<p>593471 rows × 33 columns</p>\n",
       "</div>"
      ],
      "text/plain": [
       "       Accident Date  Age at Injury Alternative Dispute Resolution   \n",
       "0         2019-12-30           31.0                              N  \\\n",
       "1         2019-08-30           46.0                              N   \n",
       "2         2019-12-06           40.0                              N   \n",
       "3                NaN            NaN                            NaN   \n",
       "4         2019-12-30           61.0                              N   \n",
       "...              ...            ...                            ...   \n",
       "593466           NaN            NaN                            NaN   \n",
       "593467    2022-12-13           72.0                              N   \n",
       "593468           NaN            NaN                            NaN   \n",
       "593469           NaN            NaN                            NaN   \n",
       "593470           NaN            NaN                            NaN   \n",
       "\n",
       "       Assembly Date Attorney/Representative  Average Weekly Wage  Birth Year   \n",
       "0         2020-01-01                       N                 0.00      1988.0  \\\n",
       "1         2020-01-01                       Y              1745.93      1973.0   \n",
       "2         2020-01-01                       N              1434.80      1979.0   \n",
       "3         2020-01-01                     NaN                  NaN         NaN   \n",
       "4         2020-01-01                       N                  NaN      1958.0   \n",
       "...              ...                     ...                  ...         ...   \n",
       "593466    2022-12-31                     NaN                  NaN         NaN   \n",
       "593467    2022-12-31                       N                 0.00      1950.0   \n",
       "593468    2022-12-31                     NaN                  NaN         NaN   \n",
       "593469    2022-12-31                     NaN                  NaN         NaN   \n",
       "593470    2022-12-31                     NaN                  NaN         NaN   \n",
       "\n",
       "          C-2 Date    C-3 Date                   Carrier Name  ...   \n",
       "0       2019-12-31         NaN     NEW HAMPSHIRE INSURANCE CO  ...  \\\n",
       "1       2020-01-01  2020-01-14   ZURICH AMERICAN INSURANCE CO  ...   \n",
       "2       2020-01-01         NaN      INDEMNITY INSURANCE CO OF  ...   \n",
       "3              NaN         NaN                            NaN  ...   \n",
       "4       2019-12-31         NaN           STATE INSURANCE FUND  ...   \n",
       "...            ...         ...                            ...  ...   \n",
       "593466         NaN         NaN                            NaN  ...   \n",
       "593467  2022-12-31         NaN  TECHNOLOGY INSURANCE CO. INC.  ...   \n",
       "593468         NaN         NaN                            NaN  ...   \n",
       "593469         NaN         NaN                            NaN  ...   \n",
       "593470         NaN         NaN                            NaN  ...   \n",
       "\n",
       "       WCIO Cause of Injury Code  WCIO Cause of Injury Description   \n",
       "0                           27.0      FROM LIQUID OR GREASE SPILLS  \\\n",
       "1                           97.0                 REPETITIVE MOTION   \n",
       "2                           79.0    OBJECT BEING LIFTED OR HANDLED   \n",
       "3                            NaN                               NaN   \n",
       "4                           16.0   HAND TOOL, UTENSIL; NOT POWERED   \n",
       "...                          ...                               ...   \n",
       "593466                       NaN                               NaN   \n",
       "593467                      25.0  FROM DIFFERENT LEVEL (ELEVATION)   \n",
       "593468                       NaN                               NaN   \n",
       "593469                       NaN                               NaN   \n",
       "593470                       NaN                               NaN   \n",
       "\n",
       "       WCIO Nature of Injury Code WCIO Nature of Injury Description   \n",
       "0                            10.0                         CONTUSION  \\\n",
       "1                            49.0                    SPRAIN OR TEAR   \n",
       "2                             7.0                        CONCUSSION   \n",
       "3                             NaN                               NaN   \n",
       "4                            43.0                          PUNCTURE   \n",
       "...                           ...                               ...   \n",
       "593466                        NaN                               NaN   \n",
       "593467                       90.0   MULTIPLE PHYSICAL INJURIES ONLY   \n",
       "593468                        NaN                               NaN   \n",
       "593469                        NaN                               NaN   \n",
       "593470                        NaN                               NaN   \n",
       "\n",
       "       WCIO Part Of Body Code WCIO Part Of Body Description Zip Code   \n",
       "0                        62.0                      BUTTOCKS    13662  \\\n",
       "1                        38.0                   SHOULDER(S)    14569   \n",
       "2                        10.0          MULTIPLE HEAD INJURY    12589   \n",
       "3                         NaN                           NaN      NaN   \n",
       "4                        36.0                     FINGER(S)    12603   \n",
       "...                       ...                           ...      ...   \n",
       "593466                    NaN                           NaN      NaN   \n",
       "593467                   -9.0                      MULTIPLE    12779   \n",
       "593468                    NaN                           NaN      NaN   \n",
       "593469                    NaN                           NaN      NaN   \n",
       "593470                    NaN                           NaN      NaN   \n",
       "\n",
       "       Agreement Reached      WCB Decision  Number of Dependents  \n",
       "0                    0.0  Not Work Related                   1.0  \n",
       "1                    1.0  Not Work Related                   4.0  \n",
       "2                    0.0  Not Work Related                   6.0  \n",
       "3                    NaN               NaN                   NaN  \n",
       "4                    0.0  Not Work Related                   1.0  \n",
       "...                  ...               ...                   ...  \n",
       "593466               NaN               NaN                   NaN  \n",
       "593467               0.0  Not Work Related                   3.0  \n",
       "593468               NaN               NaN                   NaN  \n",
       "593469               NaN               NaN                   NaN  \n",
       "593470               NaN               NaN                   NaN  \n",
       "\n",
       "[593471 rows x 33 columns]"
      ]
     },
     "execution_count": 2,
     "metadata": {},
     "output_type": "execute_result"
    }
   ],
   "source": [
    "df = pd.read_csv(\"./resources/train_data.csv\")\n",
    "df"
   ]
  },
  {
   "cell_type": "markdown",
   "id": "4080865c",
   "metadata": {},
   "source": [
    "# <span style=\"color:#e0bda8\">3. Metadata</span>\n",
    "- **Accident Date** - Injury date of the claim.\n",
    "- **Age at Injury** - Age of injured worker when the injury occured.\n",
    "- **Alternative Dispute Resolution** - Adjudication processes external to the Board.\n",
    "- **Assembly Date** - The date the claim was first assembled.\n",
    "- **Attorney/Representative** - Is the claim being represented by an Attorney?\n",
    "- **Average Weekly Wage** - The wage used to calculate workers' compensation, disability, or an Paid Leave wage replacement benefits.\n",
    "- **Birth Year** - The reported year of birth of the injured worker.\n",
    "- **C-2 Date** - Date of receipt of the Employer's Report of Work-Related Injury/Illness or equivalent (formerly Form C-2).\n",
    "- **C-3 Date** - Date Form C-3 (Employee Claim Form) was received.\n",
    "- **Carrier Name** - Name of primary insurance provider responsible for providing workers' compensation coverage to the injured worker's employer.\n",
    "- **Carrier Type** - Type of primary insurance provider responsible for providing workers' compensation coverage.\n",
    "- **Claim Identifier** - Unique identifier for each claim, assigned by WCB.\n",
    "- **Count of Injury** - Name of the New York County where the injury occured.\n",
    "- **COVID-19 Indicator** - Indication that the claim may be associated with COVID-19.\n",
    "- **District Name** - Name of the WCB district office that oversees claims for that region or area of the state.\n",
    "- **First Hearing Date** - Date the first hearing was held on a claim at a WCB hearing location. A blank date means the claim has not yet had a hearing held.\n",
    "- **Gender** - The reported gender of the injured worker.\n",
    "- **IME-4 Count** - Number of IME-4 forms received per claim. The IME-4 form is the \"Independent Examiner's Report of Independent Medical Examination\" form.\n",
    "- **Industry Code** - NAICS code and descriptions are available at: https://www.naics.com/search-naics-codes-by-industry/.\n",
    "- **Industry Code Description** - 2-digit NAICS industry code description used to classify businesses according to their economic activity.\n",
    "- **Medical Fee Region** - Approximate region where the injured worker would receive medical service.\n",
    "- **OIICS Nature of Injury Description** - The OIICS nature of injury codes & descriptions are available at: https://www.bls.gov/iif/oiics_manual_2007.pdf.\n",
    "- **WCIO Cause of Injury Code** - The WCIO cause of injury codes & descriptions are  at https://www.wcio.org/Active%20PNC/WCIO_Cause_Table.pdf.\n",
    "- **WCIO Cause of Injury Description** - See description of field above.\n",
    "- **WCIO Nature of Injury Code** - The WCIO nature of injury are available at\n",
    " https://www.wcio.org/Active%20PNC/WCIO_Nature_Table.pdf.\n",
    "- **WCIO Nature of Injury Description** - See description of field above.\n",
    "- **WCIO Part Of Body Code** - The WCIO part of body codes & descriptions are available at https://www.wcio.org/Active%20PNC/WCIO_Part_Table.pdf.\n",
    "- **WCIO Part Of Body Description** - See description of field above.\n",
    "- **Zip Code** - The reported ZIP code of the injured worker’s home address.\n",
    "- **Agreement Reached** - Binary variable: Yes if there is an agreement without the involvement of the WCB -> unknown at the start of a claim.\n",
    "- **WCB Decision** - Multiclass variable: Decision of the WCB relative to the claim: “Accident” means that claim refers to workplace accident, “Occupational Disease” means illness from the workplace. -> requires WCB deliberation so it is unknown at start of claim.\n",
    "- **Claim Injury Type** - Main target variable: Deliberation of the WCB relative to benefits awarded to the claim. Numbering indicates severity."
   ]
  },
  {
   "cell_type": "markdown",
   "id": "5c4fdf6c",
   "metadata": {},
   "source": [
    "# <span style=\"color:#e0bda8\">4. Conversions</span>"
   ]
  },
  {
   "cell_type": "markdown",
   "id": "5bb2d334",
   "metadata": {},
   "source": [
    "## Binary Representation Conversion\n",
    "Our dataset has 4 binary variables: `Alternative Dispute Resolution`, `Attorney/Representative`, `COVID-19 INDICATOR`, `Agreement Reached`, which we will now convert to the same notation. "
   ]
  },
  {
   "cell_type": "code",
   "execution_count": 3,
   "id": "8ef992fe",
   "metadata": {},
   "outputs": [
    {
     "data": {
      "text/plain": [
       "Alternative Dispute Resolution\n",
       "N    571412\n",
       "Y      2609\n",
       "U         5\n",
       "Name: count, dtype: int64"
      ]
     },
     "execution_count": 3,
     "metadata": {},
     "output_type": "execute_result"
    }
   ],
   "source": [
    "df[\"Alternative Dispute Resolution\"].value_counts()"
   ]
  },
  {
   "cell_type": "code",
   "execution_count": 4,
   "id": "b38008a1",
   "metadata": {},
   "outputs": [
    {
     "data": {
      "text/plain": [
       "array([ 0., nan,  1.])"
      ]
     },
     "execution_count": 4,
     "metadata": {},
     "output_type": "execute_result"
    }
   ],
   "source": [
    "# Convert Attorney/Representative to binary representation\n",
    "df[\"Alternative Dispute Resolution\"] = df[\"Alternative Dispute Resolution\"].map(\n",
    "    {\"Y\": 1, \"N\": 0, \"U\": np.nan}\n",
    ")\n",
    "\n",
    "# Verify the conversion\n",
    "df[\"Alternative Dispute Resolution\"].unique()"
   ]
  },
  {
   "cell_type": "code",
   "execution_count": 5,
   "id": "5f1dcc34",
   "metadata": {},
   "outputs": [
    {
     "data": {
      "text/plain": [
       "Attorney/Representative\n",
       "N    392291\n",
       "Y    181735\n",
       "Name: count, dtype: int64"
      ]
     },
     "execution_count": 5,
     "metadata": {},
     "output_type": "execute_result"
    }
   ],
   "source": [
    "df[\"Attorney/Representative\"].value_counts()"
   ]
  },
  {
   "cell_type": "code",
   "execution_count": 6,
   "id": "390a1237",
   "metadata": {},
   "outputs": [
    {
     "data": {
      "text/plain": [
       "Attorney/Representative\n",
       "0.0    392291\n",
       "1.0    181735\n",
       "Name: count, dtype: int64"
      ]
     },
     "execution_count": 6,
     "metadata": {},
     "output_type": "execute_result"
    }
   ],
   "source": [
    "# Convert Attorney/Representative to binary representation\n",
    "df[\"Attorney/Representative\"] = df[\"Attorney/Representative\"].map({\"Y\": 1, \"N\": 0})\n",
    "\n",
    "# Verify the conversion\n",
    "df[\"Attorney/Representative\"].value_counts()"
   ]
  },
  {
   "cell_type": "code",
   "execution_count": 7,
   "id": "3c0c20fa",
   "metadata": {},
   "outputs": [
    {
     "data": {
      "text/plain": [
       "COVID-19 Indicator\n",
       "N    546505\n",
       "Y     27521\n",
       "Name: count, dtype: int64"
      ]
     },
     "execution_count": 7,
     "metadata": {},
     "output_type": "execute_result"
    }
   ],
   "source": [
    "df[\"COVID-19 Indicator\"].value_counts()"
   ]
  },
  {
   "cell_type": "code",
   "execution_count": 8,
   "id": "4eda963e",
   "metadata": {},
   "outputs": [
    {
     "data": {
      "text/plain": [
       "COVID-19 Indicator\n",
       "0.0    546505\n",
       "1.0     27521\n",
       "Name: count, dtype: int64"
      ]
     },
     "execution_count": 8,
     "metadata": {},
     "output_type": "execute_result"
    }
   ],
   "source": [
    "# Convert COVID-19 Indicator to binary representation\n",
    "df[\"COVID-19 Indicator\"] = df[\"COVID-19 Indicator\"].map({\"Y\": 1, \"N\": 0})\n",
    "\n",
    "# Verify the conversion\n",
    "df[\"COVID-19 Indicator\"].value_counts()"
   ]
  },
  {
   "cell_type": "code",
   "execution_count": 9,
   "id": "eb7cb385",
   "metadata": {},
   "outputs": [
    {
     "data": {
      "text/plain": [
       "Agreement Reached\n",
       "0.0    547239\n",
       "1.0     26787\n",
       "Name: count, dtype: int64"
      ]
     },
     "execution_count": 9,
     "metadata": {},
     "output_type": "execute_result"
    }
   ],
   "source": [
    "# No need to change\n",
    "df[\"Agreement Reached\"].value_counts()"
   ]
  },
  {
   "cell_type": "markdown",
   "id": "8bb0abc9",
   "metadata": {},
   "source": [
    "## Data Type Conversion"
   ]
  },
  {
   "cell_type": "code",
   "execution_count": 10,
   "id": "42ca1ea6",
   "metadata": {},
   "outputs": [
    {
     "name": "stdout",
     "output_type": "stream",
     "text": [
      "Accident Date                         datetime64[ns]\n",
      "Age at Injury                                  Int64\n",
      "Alternative Dispute Resolution                object\n",
      "Assembly Date                         datetime64[ns]\n",
      "Attorney/Representative                       object\n",
      "Average Weekly Wage                          float64\n",
      "Birth Year                                     Int64\n",
      "C-2 Date                              datetime64[ns]\n",
      "C-3 Date                              datetime64[ns]\n",
      "Carrier Name                                  object\n",
      "Carrier Type                                  object\n",
      "Claim Identifier                              object\n",
      "Claim Injury Type                             object\n",
      "County of Injury                              object\n",
      "COVID-19 Indicator                            object\n",
      "District Name                                 object\n",
      "First Hearing Date                    datetime64[ns]\n",
      "Gender                                        object\n",
      "IME-4 Count                                    Int64\n",
      "Industry Code                                 object\n",
      "Industry Code Description                     object\n",
      "Medical Fee Region                            object\n",
      "OIICS Nature of Injury Description            object\n",
      "WCIO Cause of Injury Code                     object\n",
      "WCIO Cause of Injury Description              object\n",
      "WCIO Nature of Injury Code                    object\n",
      "WCIO Nature of Injury Description             object\n",
      "WCIO Part Of Body Code                        object\n",
      "WCIO Part Of Body Description                 object\n",
      "Zip Code                                      object\n",
      "Agreement Reached                             object\n",
      "WCB Decision                                  object\n",
      "Number of Dependents                           Int64\n",
      "dtype: object\n"
     ]
    }
   ],
   "source": [
    "# Lists of variables by type\n",
    "datetime_vars = [\n",
    "    \"Accident Date\",\n",
    "    \"Assembly Date\",\n",
    "    \"C-2 Date\",\n",
    "    \"C-3 Date\",\n",
    "    \"First Hearing Date\",\n",
    "]\n",
    "categorical_vars = [\n",
    "    \"Alternative Dispute Resolution\",\n",
    "    \"Attorney/Representative\",\n",
    "    \"Carrier Name\",\n",
    "    \"Carrier Type\",\n",
    "    \"Claim Identifier\",\n",
    "    \"Claim Injury Type\",\n",
    "    \"County of Injury\",\n",
    "    \"COVID-19 Indicator\",\n",
    "    \"District Name\",\n",
    "    \"Gender\",\n",
    "    \"Industry Code\",\n",
    "    \"Industry Code Description\",\n",
    "    \"WCIO Cause of Injury Description\",\n",
    "    \"WCIO Nature of Injury Description\",\n",
    "    \"WCIO Part Of Body Description\",\n",
    "    \"Zip Code\",\n",
    "    \"Agreement Reached\",\n",
    "    \"WCB Decision\",\n",
    "    \"WCIO Cause of Injury Code\",\n",
    "    \"WCIO Nature of Injury Code\",\n",
    "    \"WCIO Part Of Body Code\",\n",
    "    \"OIICS Nature of Injury Description\",\n",
    "    \"Medical Fee Region\",\n",
    "]\n",
    "int_vars = [\"Age at Injury\", \"Birth Year\", \"IME-4 Count\", \"Number of Dependents\"]\n",
    "\n",
    "# Changing data types\n",
    "df[datetime_vars] = df[datetime_vars].apply(\n",
    "    pd.to_datetime, errors=\"coerce\"\n",
    ")  # Change to datetime\n",
    "df[categorical_vars] = df[categorical_vars].astype(\"object\")  # Change to category\n",
    "df[int_vars] = df[int_vars].astype(\n",
    "    \"Int64\"\n",
    ")  # Use 'Int64' with a capital I to allow NaNs\n",
    "\n",
    "# Display the updated DataFrame dtypes\n",
    "print(df.dtypes)"
   ]
  },
  {
   "cell_type": "markdown",
   "id": "474f7e42",
   "metadata": {},
   "source": [
    "# <span style=\"color:#e0bda8\">5. Data Preprocessing</span>"
   ]
  },
  {
   "cell_type": "code",
   "execution_count": 11,
   "id": "4f19c018",
   "metadata": {},
   "outputs": [],
   "source": [
    "df_pre_processing = df.copy()"
   ]
  },
  {
   "cell_type": "markdown",
   "id": "1bd1f4e1",
   "metadata": {},
   "source": [
    "We check for missing values on each category"
   ]
  },
  {
   "cell_type": "code",
   "execution_count": 12,
   "id": "8a5afd30",
   "metadata": {},
   "outputs": [
    {
     "data": {
      "text/plain": [
       "Accident Date                          23134\n",
       "Age at Injury                          19445\n",
       "Alternative Dispute Resolution         19450\n",
       "Assembly Date                              0\n",
       "Attorney/Representative                19445\n",
       "Average Weekly Wage                    48096\n",
       "Birth Year                             48523\n",
       "C-2 Date                               34005\n",
       "C-3 Date                              406226\n",
       "Carrier Name                           19445\n",
       "Carrier Type                           19445\n",
       "Claim Identifier                           0\n",
       "Claim Injury Type                      19445\n",
       "County of Injury                       19445\n",
       "COVID-19 Indicator                     19445\n",
       "District Name                          19445\n",
       "First Hearing Date                    442673\n",
       "Gender                                 19445\n",
       "IME-4 Count                           460668\n",
       "Industry Code                          29403\n",
       "Industry Code Description              29403\n",
       "Medical Fee Region                     19445\n",
       "OIICS Nature of Injury Description    593471\n",
       "WCIO Cause of Injury Code              35085\n",
       "WCIO Cause of Injury Description       35085\n",
       "WCIO Nature of Injury Code             35102\n",
       "WCIO Nature of Injury Description      35102\n",
       "WCIO Part Of Body Code                 36527\n",
       "WCIO Part Of Body Description          36527\n",
       "Zip Code                               48082\n",
       "Agreement Reached                      19445\n",
       "WCB Decision                           19445\n",
       "Number of Dependents                   19445\n",
       "dtype: int64"
      ]
     },
     "execution_count": 12,
     "metadata": {},
     "output_type": "execute_result"
    }
   ],
   "source": [
    "df_pre_processing.isna().sum()"
   ]
  },
  {
   "cell_type": "markdown",
   "id": "5e4dbb9d",
   "metadata": {},
   "source": [
    "The column: 'OIICS Nature of Injury Description' is missing all its values, so we drop it."
   ]
  },
  {
   "cell_type": "code",
   "execution_count": 13,
   "id": "67ffb090",
   "metadata": {},
   "outputs": [],
   "source": [
    "df_pre_processing = df_pre_processing.drop(\"OIICS Nature of Injury Description\", axis=1)"
   ]
  },
  {
   "cell_type": "markdown",
   "id": "9ecbefb9",
   "metadata": {},
   "source": [
    "There's a lot of columns with the same number of missing values (19945) and none has less than that besides Assembly Date and Claim Identifier. Let's check if the 19945 missing values on all the remaining columns match. If they do, this means that there's no information on those patients so we should remove those rows."
   ]
  },
  {
   "cell_type": "code",
   "execution_count": 14,
   "id": "00501831",
   "metadata": {},
   "outputs": [],
   "source": [
    "no_district = df_pre_processing[df_pre_processing[\"District Name\"].isna()]"
   ]
  },
  {
   "cell_type": "code",
   "execution_count": 15,
   "id": "2abe407d",
   "metadata": {},
   "outputs": [
    {
     "data": {
      "text/plain": [
       "Accident Date                         True\n",
       "Age at Injury                         True\n",
       "Alternative Dispute Resolution        True\n",
       "Assembly Date                        False\n",
       "Attorney/Representative               True\n",
       "Average Weekly Wage                   True\n",
       "Birth Year                            True\n",
       "C-2 Date                              True\n",
       "C-3 Date                              True\n",
       "Carrier Name                          True\n",
       "Carrier Type                          True\n",
       "Claim Identifier                     False\n",
       "Claim Injury Type                     True\n",
       "County of Injury                      True\n",
       "COVID-19 Indicator                    True\n",
       "District Name                         True\n",
       "First Hearing Date                    True\n",
       "Gender                                True\n",
       "IME-4 Count                           True\n",
       "Industry Code                         True\n",
       "Industry Code Description             True\n",
       "Medical Fee Region                    True\n",
       "WCIO Cause of Injury Code             True\n",
       "WCIO Cause of Injury Description      True\n",
       "WCIO Nature of Injury Code            True\n",
       "WCIO Nature of Injury Description     True\n",
       "WCIO Part Of Body Code                True\n",
       "WCIO Part Of Body Description         True\n",
       "Zip Code                              True\n",
       "Agreement Reached                     True\n",
       "WCB Decision                          True\n",
       "Number of Dependents                  True\n",
       "dtype: bool"
      ]
     },
     "execution_count": 15,
     "metadata": {},
     "output_type": "execute_result"
    }
   ],
   "source": [
    "no_district.isna().all()"
   ]
  },
  {
   "cell_type": "markdown",
   "id": "543ae838",
   "metadata": {},
   "source": [
    "As the assumption was verified, the rows from the dataset were removed."
   ]
  },
  {
   "cell_type": "code",
   "execution_count": 16,
   "id": "082ff785",
   "metadata": {},
   "outputs": [],
   "source": [
    "df_pre_processing = df_pre_processing.drop(no_district.index)"
   ]
  },
  {
   "cell_type": "markdown",
   "id": "d7797d2b",
   "metadata": {},
   "source": [
    "IME-4 Count has many missing values, but maybe this means they didn't count any (so should be 0). After verifying that there are no 0s in IME-4 Count, the missing values were filled with 0."
   ]
  },
  {
   "cell_type": "code",
   "execution_count": 17,
   "id": "0b6f8ba2",
   "metadata": {},
   "outputs": [
    {
     "data": {
      "text/plain": [
       "<IntegerArray>\n",
       "[<NA>,    4,    1,    3,    2,    6,    7,    5,   10,   12,    8,    9,   11,\n",
       "   13,   14,   36,   15,   20,   19,   18,   27,   17,   16,   24,   22,   26,\n",
       "   21,   23,   30,   32,   39,   25,   29,   47,   48,   34,   28,   37,   31,\n",
       "   35,   33,   73]\n",
       "Length: 42, dtype: Int64"
      ]
     },
     "execution_count": 17,
     "metadata": {},
     "output_type": "execute_result"
    }
   ],
   "source": [
    "df_pre_processing[\"IME-4 Count\"].unique()"
   ]
  },
  {
   "cell_type": "code",
   "execution_count": 18,
   "id": "2f03288f",
   "metadata": {},
   "outputs": [],
   "source": [
    "df_pre_processing[\"IME-4 Count\"] = df_pre_processing[\"IME-4 Count\"].fillna(0)"
   ]
  },
  {
   "cell_type": "markdown",
   "id": "e37e448e",
   "metadata": {},
   "source": [
    "WCB Decision only has \"Not Work Related\", so we drop it."
   ]
  },
  {
   "cell_type": "code",
   "execution_count": 19,
   "id": "d3968052",
   "metadata": {},
   "outputs": [
    {
     "data": {
      "text/plain": [
       "WCB Decision\n",
       "Not Work Related    574026\n",
       "Name: count, dtype: int64"
      ]
     },
     "execution_count": 19,
     "metadata": {},
     "output_type": "execute_result"
    }
   ],
   "source": [
    "df_pre_processing[\"WCB Decision\"].value_counts(dropna=False)"
   ]
  },
  {
   "cell_type": "code",
   "execution_count": 20,
   "id": "4d3417e9",
   "metadata": {},
   "outputs": [],
   "source": [
    "df_pre_processing = df_pre_processing.drop(\"WCB Decision\", axis=1)"
   ]
  },
  {
   "cell_type": "markdown",
   "id": "51b6d283",
   "metadata": {},
   "source": [
    "Some birth years and age at injury can be calculated by using other date columns"
   ]
  },
  {
   "cell_type": "code",
   "execution_count": 21,
   "id": "2f00313f",
   "metadata": {},
   "outputs": [
    {
     "data": {
      "text/plain": [
       "Age at Injury\n",
       "0      5464\n",
       "1         2\n",
       "5         1\n",
       "7         2\n",
       "8         6\n",
       "       ... \n",
       "112      24\n",
       "113       1\n",
       "114       1\n",
       "115       1\n",
       "117       2\n",
       "Name: count, Length: 108, dtype: Int64"
      ]
     },
     "execution_count": 21,
     "metadata": {},
     "output_type": "execute_result"
    }
   ],
   "source": [
    "df_pre_processing[\n",
    "    \"Age at Injury\"\n",
    "].value_counts().sort_index()  # there are some ages wrongfully registered as 0 (lowest value)"
   ]
  },
  {
   "cell_type": "code",
   "execution_count": 22,
   "id": "78122a5a",
   "metadata": {},
   "outputs": [
    {
     "data": {
      "text/plain": [
       "Birth Year\n",
       "0       25081\n",
       "1900        2\n",
       "1901       30\n",
       "1902       28\n",
       "1903       35\n",
       "        ...  \n",
       "2011        6\n",
       "2012        2\n",
       "2013        1\n",
       "2014        2\n",
       "2018        2\n",
       "Name: count, Length: 107, dtype: Int64"
      ]
     },
     "execution_count": 22,
     "metadata": {},
     "output_type": "execute_result"
    }
   ],
   "source": [
    "df_pre_processing[\n",
    "    \"Birth Year\"\n",
    "].value_counts().sort_index()  # there are also some birth years wrongfully registered as 0 (lowest value)"
   ]
  },
  {
   "cell_type": "code",
   "execution_count": 23,
   "id": "a9bd1706",
   "metadata": {},
   "outputs": [],
   "source": [
    "df_pre_processing[\"Calculated Birth Year\"] = (\n",
    "    df_pre_processing[\"Accident Date\"].dt.year - df_pre_processing[\"Age at Injury\"]\n",
    ")\n",
    "\n",
    "df_pre_processing[\"Calculated Age at Injury\"] = (\n",
    "    df_pre_processing[\"Accident Date\"].dt.year - df_pre_processing[\"Birth Year\"]\n",
    ")"
   ]
  },
  {
   "cell_type": "markdown",
   "id": "8d222e1c",
   "metadata": {},
   "source": [
    "Case 1: The birth year calculated and the one established in the 'Birth Year' column showed significant differences for some rows. Analyzing ages_wrong (all discrepancies where 'Birth Year' was not 0), we found that these differences were due to ages being incorrectly recorded as 0 in those rows. In these cases, we replaced the age with the calculated age."
   ]
  },
  {
   "cell_type": "code",
   "execution_count": 24,
   "id": "ce632158",
   "metadata": {},
   "outputs": [],
   "source": [
    "df_pre_processing[\"Birth Years Comparison\"] = abs(\n",
    "    df_pre_processing[\"Birth Year\"] - df_pre_processing[\"Calculated Birth Year\"]\n",
    ")\n",
    "\n",
    "different_birth_years = df_pre_processing[\n",
    "    df_pre_processing[\"Birth Years Comparison\"] > 1\n",
    "]\n",
    "\n",
    "ages_wrong = different_birth_years[different_birth_years[\"Birth Year\"] > 0]\n",
    "\n",
    "ages_indexes = ages_wrong.index\n",
    "\n",
    "df_pre_processing.loc[ages_indexes, \"Age at Injury\"] = df_pre_processing.loc[\n",
    "    ages_indexes, \"Calculated Age at Injury\"\n",
    "]"
   ]
  },
  {
   "cell_type": "code",
   "execution_count": 25,
   "id": "113957e0",
   "metadata": {},
   "outputs": [
    {
     "data": {
      "text/plain": [
       "True"
      ]
     },
     "execution_count": 25,
     "metadata": {},
     "output_type": "execute_result"
    }
   ],
   "source": [
    "all(ages_wrong[\"Age at Injury\"] == 0)  # verification that all ages were 0 in that case"
   ]
  },
  {
   "cell_type": "markdown",
   "id": "278fc1b1",
   "metadata": {},
   "source": [
    "Case 2: Similar to Case 1, but this time the discrepancies in age (where it was larger than 0) occurred because all birth years were initially set to 0. We replaced the birth year in these rows with the calculated birth year."
   ]
  },
  {
   "cell_type": "code",
   "execution_count": 26,
   "id": "e4f8ef05",
   "metadata": {},
   "outputs": [],
   "source": [
    "df_pre_processing[\"Ages Comparison\"] = abs(\n",
    "    df_pre_processing[\"Age at Injury\"] - df_pre_processing[\"Calculated Age at Injury\"]\n",
    ")\n",
    "\n",
    "different_ages = df_pre_processing[df_pre_processing[\"Ages Comparison\"] > 1]\n",
    "\n",
    "birth_year_wrong = different_ages[different_ages[\"Age at Injury\"] > 0]\n",
    "\n",
    "birth_year_indexes = birth_year_wrong.index\n",
    "\n",
    "df_pre_processing.loc[birth_year_indexes, \"Birth Year\"] = df_pre_processing.loc[\n",
    "    birth_year_indexes, \"Calculated Birth Year\"\n",
    "]"
   ]
  },
  {
   "cell_type": "code",
   "execution_count": 27,
   "id": "ba351120",
   "metadata": {},
   "outputs": [
    {
     "data": {
      "text/plain": [
       "True"
      ]
     },
     "execution_count": 27,
     "metadata": {},
     "output_type": "execute_result"
    }
   ],
   "source": [
    "all(\n",
    "    birth_year_wrong[\"Birth Year\"] == 0\n",
    ")  # verification that all birth years were 0 in that case"
   ]
  },
  {
   "cell_type": "markdown",
   "id": "7cdb68c1",
   "metadata": {},
   "source": [
    "Case 3: Some birth years were missing values with the age at injury and accident date defined, so we replaced them with the calculated birth year."
   ]
  },
  {
   "cell_type": "code",
   "execution_count": 28,
   "id": "c24aff7c",
   "metadata": {},
   "outputs": [],
   "source": [
    "birth_nas = df_pre_processing[df_pre_processing[\"Birth Year\"].isna()]\n",
    "age_abv_0 = birth_nas[birth_nas[\"Age at Injury\"] > 0]\n",
    "age_abv_0_indexes = age_abv_0.index\n",
    "df_pre_processing.loc[age_abv_0_indexes, \"Birth Year\"] = df_pre_processing.loc[\n",
    "    age_abv_0_indexes, \"Calculated Birth Year\"\n",
    "]"
   ]
  },
  {
   "cell_type": "code",
   "execution_count": 29,
   "id": "8f726a76",
   "metadata": {},
   "outputs": [
    {
     "data": {
      "text/plain": [
       "False"
      ]
     },
     "execution_count": 29,
     "metadata": {},
     "output_type": "execute_result"
    }
   ],
   "source": [
    "any(\n",
    "    age_abv_0[\"Age at Injury\"] == 0\n",
    ")  # verification that there are no 0s in age for these cases (nor missing values as we've checked before). This means that calculating Birth Year using Age at Injury is possible"
   ]
  },
  {
   "cell_type": "markdown",
   "id": "519f2b97",
   "metadata": {},
   "source": [
    "We just wanted those columns to discover the possible values on Age at Injury and Birth Year, so now we drop them."
   ]
  },
  {
   "cell_type": "code",
   "execution_count": 30,
   "id": "e5669121",
   "metadata": {},
   "outputs": [],
   "source": [
    "df_pre_processing = df_pre_processing.drop(\n",
    "    [\n",
    "        \"Calculated Age at Injury\",\n",
    "        \"Calculated Birth Year\",\n",
    "        \"Ages Comparison\",\n",
    "        \"Birth Years Comparison\",\n",
    "    ],\n",
    "    axis=1,\n",
    ")"
   ]
  },
  {
   "cell_type": "code",
   "execution_count": 31,
   "id": "5bbdef9d",
   "metadata": {},
   "outputs": [
    {
     "data": {
      "text/plain": [
       "Accident Date                          3689\n",
       "Age at Injury                             0\n",
       "Alternative Dispute Resolution            5\n",
       "Assembly Date                             0\n",
       "Attorney/Representative                   0\n",
       "Average Weekly Wage                   28651\n",
       "Birth Year                              260\n",
       "C-2 Date                              14560\n",
       "C-3 Date                             386781\n",
       "Carrier Name                              0\n",
       "Carrier Type                              0\n",
       "Claim Identifier                          0\n",
       "Claim Injury Type                         0\n",
       "County of Injury                          0\n",
       "COVID-19 Indicator                        0\n",
       "District Name                             0\n",
       "First Hearing Date                   423228\n",
       "Gender                                    0\n",
       "IME-4 Count                               0\n",
       "Industry Code                          9958\n",
       "Industry Code Description              9958\n",
       "Medical Fee Region                        0\n",
       "WCIO Cause of Injury Code             15640\n",
       "WCIO Cause of Injury Description      15640\n",
       "WCIO Nature of Injury Code            15657\n",
       "WCIO Nature of Injury Description     15657\n",
       "WCIO Part Of Body Code                17082\n",
       "WCIO Part Of Body Description         17082\n",
       "Zip Code                              28637\n",
       "Agreement Reached                         0\n",
       "Number of Dependents                      0\n",
       "dtype: int64"
      ]
     },
     "execution_count": 31,
     "metadata": {},
     "output_type": "execute_result"
    }
   ],
   "source": [
    "df_pre_processing.isna().sum()"
   ]
  },
  {
   "cell_type": "markdown",
   "id": "3cb2e41d",
   "metadata": {},
   "source": [
    "As 0 values in these columns are behaving as missing values, it's also important to see how many we have left."
   ]
  },
  {
   "cell_type": "code",
   "execution_count": 32,
   "id": "c6572ef3",
   "metadata": {},
   "outputs": [
    {
     "data": {
      "text/plain": [
       "5371"
      ]
     },
     "execution_count": 32,
     "metadata": {},
     "output_type": "execute_result"
    }
   ],
   "source": [
    "len(df_pre_processing[df_pre_processing[\"Age at Injury\"] == 0])"
   ]
  },
  {
   "cell_type": "code",
   "execution_count": 33,
   "id": "bd9a2889",
   "metadata": {},
   "outputs": [
    {
     "data": {
      "text/plain": [
       "1926"
      ]
     },
     "execution_count": 33,
     "metadata": {},
     "output_type": "execute_result"
    }
   ],
   "source": [
    "len(df_pre_processing[df_pre_processing[\"Birth Year\"] == 0])"
   ]
  },
  {
   "cell_type": "markdown",
   "id": "3a1efdce",
   "metadata": {},
   "source": [
    "We grouped the categories WCIO Cause of Injury Code, WCIO Nature of Injury Code and WCIO Part Of Body Code by their supra code we found available."
   ]
  },
  {
   "cell_type": "code",
   "execution_count": 34,
   "id": "f8be0f50",
   "metadata": {},
   "outputs": [],
   "source": [
    "# I. Burn or Scald - Heat or Cold Exposures - Contact With\n",
    "burn_or_scald = [\"1\", \"2\", \"3\", \"4\", \"5\", \"6\", \"7\", \"8\", \"9\", \"11\", \"14\", \"84\"]\n",
    "\n",
    "# II. Caught In, Under or Between\n",
    "caught_in_under_between = [\"10\", \"12\", \"13\", \"20\"]\n",
    "\n",
    "# III. Cut, Puncture, Scrape Injured By\n",
    "cut_puncture_scrape = [\"15\", \"16\", \"17\", \"18\", \"19\"]\n",
    "\n",
    "# IV. Fall, Slip or Trip Injury\n",
    "fall_slip_trip = [\"25\", \"26\", \"27\", \"28\", \"29\", \"30\", \"31\", \"32\", \"33\"]\n",
    "\n",
    "# V. Motor Vehicle\n",
    "motor_vehicle = [\"40\", \"41\", \"45\", \"46\", \"47\", \"48\", \"50\"]\n",
    "\n",
    "# VI. Strain or Injury By\n",
    "strain_or_injury = [\"52\", \"53\", \"54\", \"55\", \"56\", \"57\", \"58\", \"59\", \"60\", \"61\", \"97\"]\n",
    "\n",
    "# VII. Striking Against or Stepping On\n",
    "striking_against = [\"65\", \"66\", \"67\", \"68\", \"69\", \"70\"]\n",
    "\n",
    "# VIII. Struck or Injured By\n",
    "struck_or_injured = [\"74\", \"75\", \"76\", \"77\", \"78\", \"79\", \"80\", \"81\", \"85\", \"86\"]\n",
    "\n",
    "# IX. Rubbed or Abraded By\n",
    "rubbed_or_abraded = [\"94\", \"95\"]\n",
    "\n",
    "# X. Miscellaneous Causes\n",
    "miscellaneous = [\"82\", \"83\", \"87\", \"88\", \"89\", \"90\", \"91\", \"93\", \"96\", \"98\", \"99\"]\n",
    "\n",
    "\n",
    "df_pre_processing[\"WCIO Cause of Injury Code SUPRA\"] = df_pre_processing[\n",
    "    \"WCIO Cause of Injury Code\"\n",
    "].apply(\n",
    "    lambda code: (\n",
    "        \"I. Burn or Scald - Heat or Cold Exposures - Contact With\"\n",
    "        if str(code).split(\".\")[0] in burn_or_scald\n",
    "        else (\n",
    "            \"II. Caught In, Under or Between\"\n",
    "            if str(code).split(\".\")[0] in caught_in_under_between\n",
    "            else (\n",
    "                \"III. Cut, Puncture, Scrape Injured By\"\n",
    "                if str(code).split(\".\")[0] in cut_puncture_scrape\n",
    "                else (\n",
    "                    \"IV. Fall, Slip or Trip Injury\"\n",
    "                    if str(code).split(\".\")[0] in fall_slip_trip\n",
    "                    else (\n",
    "                        \"V. Motor Vehicle\"\n",
    "                        if str(code).split(\".\")[0] in motor_vehicle\n",
    "                        else (\n",
    "                            \"VI. Strain or Injury By\"\n",
    "                            if str(code).split(\".\")[0] in strain_or_injury\n",
    "                            else (\n",
    "                                \"VII. Striking Against or Stepping On\"\n",
    "                                if str(code).split(\".\")[0] in striking_against\n",
    "                                else (\n",
    "                                    \"VIII. Struck or Injured By\"\n",
    "                                    if str(code).split(\".\")[0] in struck_or_injured\n",
    "                                    else (\n",
    "                                        \"IX. Rubbed or Abraded By\"\n",
    "                                        if str(code).split(\".\")[0] in rubbed_or_abraded\n",
    "                                        else (\n",
    "                                            \"X. Miscellaneous Causes\"\n",
    "                                            if str(code).split(\".\")[0] in miscellaneous\n",
    "                                            else np.nan\n",
    "                                        )\n",
    "                                    )\n",
    "                                )\n",
    "                            )\n",
    "                        )\n",
    "                    )\n",
    "                )\n",
    "            )\n",
    "        )\n",
    "    )\n",
    ")"
   ]
  },
  {
   "cell_type": "code",
   "execution_count": 35,
   "id": "9af20219",
   "metadata": {},
   "outputs": [],
   "source": [
    "# Specific Injury codes (Category I)\n",
    "specific_injury = [\n",
    "    \"1\",\n",
    "    \"2\",\n",
    "    \"3\",\n",
    "    \"4\",\n",
    "    \"7\",\n",
    "    \"10\",\n",
    "    \"13\",\n",
    "    \"16\",\n",
    "    \"19\",\n",
    "    \"22\",\n",
    "    \"25\",\n",
    "    \"28\",\n",
    "    \"30\",\n",
    "    \"31\",\n",
    "    \"32\",\n",
    "    \"34\",\n",
    "    \"36\",\n",
    "    \"37\",\n",
    "    \"38\",\n",
    "    \"40\",\n",
    "    \"41\",\n",
    "    \"42\",\n",
    "    \"43\",\n",
    "    \"46\",\n",
    "    \"47\",\n",
    "    \"49\",\n",
    "    \"52\",\n",
    "    \"53\",\n",
    "    \"54\",\n",
    "    \"55\",\n",
    "    \"58\",\n",
    "    \"59\",\n",
    "]\n",
    "\n",
    "# Occupational Disease or Cumulative Injury codes (Category II)\n",
    "occupational_disease = [\n",
    "    \"60\",\n",
    "    \"61\",\n",
    "    \"62\",\n",
    "    \"63\",\n",
    "    \"64\",\n",
    "    \"65\",\n",
    "    \"66\",\n",
    "    \"67\",\n",
    "    \"68\",\n",
    "    \"69\",\n",
    "    \"70\",\n",
    "    \"71\",\n",
    "    \"72\",\n",
    "    \"73\",\n",
    "    \"74\",\n",
    "    \"75\",\n",
    "    \"76\",\n",
    "    \"77\",\n",
    "    \"78\",\n",
    "    \"79\",\n",
    "    \"80\",\n",
    "    \"83\",\n",
    "]\n",
    "\n",
    "# Multiple Injuries codes (Category III)\n",
    "multiple_injuries = [\"90\", \"91\"]\n",
    "\n",
    "\n",
    "df_pre_processing[\"WCIO Nature of Injury Code SUPRA\"] = df_pre_processing[\n",
    "    \"WCIO Nature of Injury Code\"\n",
    "].apply(\n",
    "    lambda code: (\n",
    "        \"Category I: Specific Injury\"\n",
    "        if str(code).split(\".\")[0] in specific_injury\n",
    "        else (\n",
    "            \"Category II: Occupational Disease or Cumulative Injury\"\n",
    "            if str(code).split(\".\")[0] in occupational_disease\n",
    "            else (\n",
    "                \"Category III: Multiple Injuries\"\n",
    "                if str(code).split(\".\")[0] in multiple_injuries\n",
    "                else np.nan\n",
    "            )\n",
    "        )\n",
    "    )\n",
    ")"
   ]
  },
  {
   "cell_type": "code",
   "execution_count": 36,
   "id": "c767838f",
   "metadata": {},
   "outputs": [],
   "source": [
    "# I. Head\n",
    "head = [\n",
    "    \"10\",\n",
    "    \"11\",\n",
    "    \"12\",\n",
    "    \"13\",\n",
    "    \"13A\",\n",
    "    \"13B\",\n",
    "    \"13C\",\n",
    "    \"14\",\n",
    "    \"14A\",\n",
    "    \"14B\",\n",
    "    \"14C\",\n",
    "    \"15\",\n",
    "    \"16\",\n",
    "    \"17\",\n",
    "    \"18\",\n",
    "    \"19\",\n",
    "]\n",
    "\n",
    "# II. Neck\n",
    "neck = [\"20\", \"21\", \"22\", \"23\", \"24\", \"25\", \"26\"]\n",
    "\n",
    "# III. Upper Extremities\n",
    "upper_extremities = [\n",
    "    \"30\",\n",
    "    \"31\",\n",
    "    \"32\",\n",
    "    \"33\",\n",
    "    \"34\",\n",
    "    \"35\",\n",
    "    \"36\",\n",
    "    \"36A\",\n",
    "    \"36B\",\n",
    "    \"36C\",\n",
    "    \"36D\",\n",
    "    \"36E\",\n",
    "    \"36F\",\n",
    "    \"36G\",\n",
    "    \"36H\",\n",
    "    \"36I\",\n",
    "    \"36J\",\n",
    "    \"36K\",\n",
    "    \"36L\",\n",
    "    \"36M\",\n",
    "    \"36N\",\n",
    "    \"36O\",\n",
    "    \"36P\",\n",
    "    \"37\",\n",
    "    \"37A\",\n",
    "    \"37B\",\n",
    "    \"37C\",\n",
    "    \"38\",\n",
    "    \"39\",\n",
    "]\n",
    "\n",
    "# IV. Trunk\n",
    "trunk = [\n",
    "    \"40\",\n",
    "    \"41\",\n",
    "    \"42\",\n",
    "    \"43\",\n",
    "    \"44\",\n",
    "    \"45\",\n",
    "    \"46\",\n",
    "    \"47\",\n",
    "    \"48\",\n",
    "    \"49\",\n",
    "    \"60\",\n",
    "    \"61\",\n",
    "    \"62\",\n",
    "    \"63\",\n",
    "]\n",
    "\n",
    "# V. Lower Extremities\n",
    "lower_extremities = [\n",
    "    \"50\",\n",
    "    \"51\",\n",
    "    \"52\",\n",
    "    \"53\",\n",
    "    \"54\",\n",
    "    \"55\",\n",
    "    \"56\",\n",
    "    \"57\",\n",
    "    \"57A\",\n",
    "    \"57B\",\n",
    "    \"57C\",\n",
    "    \"57D\",\n",
    "    \"57E\",\n",
    "    \"57F\",\n",
    "    \"57G\",\n",
    "    \"58\",\n",
    "    \"58A\",\n",
    "    \"58B\",\n",
    "    \"58C\",\n",
    "]\n",
    "\n",
    "# VI. Multiple Body Parts\n",
    "multiple_body_parts = [\"64\", \"65\", \"66\", \"90\", \"91\", \"99\"]\n",
    "\n",
    "\n",
    "df_pre_processing[\"WCIO Part Of Body Code SUPRA\"] = df_pre_processing[\n",
    "    \"WCIO Part Of Body Code\"\n",
    "].apply(\n",
    "    lambda code: (\n",
    "        \"I. Head\"\n",
    "        if str(code).split(\".\")[0] in head\n",
    "        else (\n",
    "            \"II. Neck\"\n",
    "            if str(code).split(\".\")[0] in neck\n",
    "            else (\n",
    "                \"III. Upper Extremities\"\n",
    "                if str(code).split(\".\")[0] in upper_extremities\n",
    "                else (\n",
    "                    \"IV. Trunk\"\n",
    "                    if str(code).split(\".\")[0] in trunk\n",
    "                    else (\n",
    "                        \"V. Lower Extremities\"\n",
    "                        if str(code).split(\".\")[0] in lower_extremities\n",
    "                        else (\n",
    "                            \"VI. Multiple Body Parts\"\n",
    "                            if str(code).split(\".\")[0] in multiple_body_parts\n",
    "                            else np.nan\n",
    "                        )\n",
    "                    )\n",
    "                )\n",
    "            )\n",
    "        )\n",
    "    )\n",
    ")"
   ]
  },
  {
   "cell_type": "markdown",
   "id": "25f27bba",
   "metadata": {},
   "source": [
    "Now we will drop some columns that we will not need further down our analysis."
   ]
  },
  {
   "cell_type": "code",
   "execution_count": 37,
   "id": "20db0066",
   "metadata": {},
   "outputs": [],
   "source": [
    "df_pre_processing = df_pre_processing.drop(\n",
    "    [\n",
    "        \"C-3 Date\",\n",
    "        \"Industry Code\",\n",
    "        \"Industry Code Description\",\n",
    "        \"WCIO Cause of Injury Code\",\n",
    "        \"WCIO Cause of Injury Description\",\n",
    "        \"WCIO Nature of Injury Code\",\n",
    "        \"WCIO Nature of Injury Description\",\n",
    "        \"WCIO Part Of Body Code\",\n",
    "        \"WCIO Part Of Body Description\",\n",
    "        \"Zip Code\",\n",
    "    ],\n",
    "    axis=1,\n",
    ")"
   ]
  },
  {
   "cell_type": "code",
   "execution_count": 38,
   "id": "14172136",
   "metadata": {},
   "outputs": [
    {
     "name": "stdout",
     "output_type": "stream",
     "text": [
      "<class 'pandas.core.frame.DataFrame'>\n",
      "Index: 574026 entries, 0 to 593467\n",
      "Data columns (total 24 columns):\n",
      " #   Column                            Non-Null Count   Dtype         \n",
      "---  ------                            --------------   -----         \n",
      " 0   Accident Date                     570337 non-null  datetime64[ns]\n",
      " 1   Age at Injury                     574026 non-null  Int64         \n",
      " 2   Alternative Dispute Resolution    574021 non-null  object        \n",
      " 3   Assembly Date                     574026 non-null  datetime64[ns]\n",
      " 4   Attorney/Representative           574026 non-null  object        \n",
      " 5   Average Weekly Wage               545375 non-null  float64       \n",
      " 6   Birth Year                        573766 non-null  Int64         \n",
      " 7   C-2 Date                          559466 non-null  datetime64[ns]\n",
      " 8   Carrier Name                      574026 non-null  object        \n",
      " 9   Carrier Type                      574026 non-null  object        \n",
      " 10  Claim Identifier                  574026 non-null  object        \n",
      " 11  Claim Injury Type                 574026 non-null  object        \n",
      " 12  County of Injury                  574026 non-null  object        \n",
      " 13  COVID-19 Indicator                574026 non-null  object        \n",
      " 14  District Name                     574026 non-null  object        \n",
      " 15  First Hearing Date                150798 non-null  datetime64[ns]\n",
      " 16  Gender                            574026 non-null  object        \n",
      " 17  IME-4 Count                       574026 non-null  Int64         \n",
      " 18  Medical Fee Region                574026 non-null  object        \n",
      " 19  Agreement Reached                 574026 non-null  object        \n",
      " 20  Number of Dependents              574026 non-null  Int64         \n",
      " 21  WCIO Cause of Injury Code SUPRA   558386 non-null  object        \n",
      " 22  WCIO Nature of Injury Code SUPRA  558369 non-null  object        \n",
      " 23  WCIO Part Of Body Code SUPRA      514933 non-null  object        \n",
      "dtypes: Int64(4), datetime64[ns](4), float64(1), object(15)\n",
      "memory usage: 127.8+ MB\n"
     ]
    }
   ],
   "source": [
    "df_pre_processing.info()"
   ]
  },
  {
   "cell_type": "code",
   "execution_count": 39,
   "id": "de690efa",
   "metadata": {},
   "outputs": [
    {
     "data": {
      "text/plain": [
       "Accident Date                         3689\n",
       "Age at Injury                            0\n",
       "Alternative Dispute Resolution           5\n",
       "Assembly Date                            0\n",
       "Attorney/Representative                  0\n",
       "Average Weekly Wage                  28651\n",
       "Birth Year                             260\n",
       "C-2 Date                             14560\n",
       "Carrier Name                             0\n",
       "Carrier Type                             0\n",
       "Claim Identifier                         0\n",
       "Claim Injury Type                        0\n",
       "County of Injury                         0\n",
       "COVID-19 Indicator                       0\n",
       "District Name                            0\n",
       "First Hearing Date                  423228\n",
       "Gender                                   0\n",
       "IME-4 Count                              0\n",
       "Medical Fee Region                       0\n",
       "Agreement Reached                        0\n",
       "Number of Dependents                     0\n",
       "WCIO Cause of Injury Code SUPRA      15640\n",
       "WCIO Nature of Injury Code SUPRA     15657\n",
       "WCIO Part Of Body Code SUPRA         59093\n",
       "dtype: int64"
      ]
     },
     "execution_count": 39,
     "metadata": {},
     "output_type": "execute_result"
    }
   ],
   "source": [
    "df_pre_processing.isna().sum()"
   ]
  },
  {
   "cell_type": "code",
   "execution_count": 40,
   "id": "8e63b173",
   "metadata": {},
   "outputs": [
    {
     "data": {
      "image/png": "[encoded data removed]",
      "text/plain": [
       "<Figure size 864x720 with 2 Axes>"
      ]
     },
     "metadata": {
      "needs_background": "light"
     },
     "output_type": "display_data"
    }
   ],
   "source": [
    "# Obtain the Spearman correlation matrix\n",
    "cor_spearman = df_pre_processing.select_dtypes(exclude=\"object\").corr(method=\"spearman\")\n",
    "\n",
    "# Create a mask for the upper triangle (if you want to hide it)\n",
    "mask = np.triu(np.ones_like(cor_spearman, dtype=bool))\n",
    "\n",
    "# Define a custom colormap (you can modify the colors as needed)\n",
    "custom_cmap = sns.color_palette(\n",
    "    \"coolwarm\", as_cmap=True\n",
    ")  # Change to your preferred colormap\n",
    "\n",
    "# Optionally, define whether to annotate or not\n",
    "annot = True  # Set to True to show the correlation coefficients\n",
    "\n",
    "# Plotting the heatmap\n",
    "plt.figure(figsize=(12, 10))\n",
    "sns.heatmap(\n",
    "    data=cor_spearman,\n",
    "    annot=annot,\n",
    "    cmap=custom_cmap,\n",
    "    mask=mask,\n",
    "    fmt=\".2f\",  # Format for the annotation, use '.2f' for float\n",
    "    square=True,  # Keep cells square\n",
    "    linewidths=0.5,  # Add lines between cells for clarity\n",
    "    cbar_kws={\"shrink\": 0.8},\n",
    ")  # Adjust the colorbar size\n",
    "\n",
    "# Add title\n",
    "plt.title(\"Spearman Correlation Heatmap\", fontsize=16)\n",
    "\n",
    "# Show the heatmap\n",
    "plt.show()"
   ]
  },
  {
   "cell_type": "markdown",
   "id": "1d00d136",
   "metadata": {},
   "source": [
    "Now that we have inserted all values that we could assume/calculate with precision, we split the dataframe into a training set and a validation set, so that we can input all the other missing values and outliers."
   ]
  },
  {
   "cell_type": "code",
   "execution_count": 41,
   "id": "25859d93",
   "metadata": {},
   "outputs": [],
   "source": [
    "df_pre_processing.dropna(subset=[\"Claim Injury Type\"], inplace=True)\n",
    "df_pre_processing.set_index(\"Claim Identifier\", inplace=True)\n",
    "\n",
    "\n",
    "X = df_pre_processing.copy().drop([\"Claim Injury Type\"], axis=1)\n",
    "\n",
    "\n",
    "y = df_pre_processing[\"Claim Injury Type\"]\n",
    "\n",
    "\n",
    "\n",
    "X_train, X_val, y_train, y_val = train_test_split(\n",
    "    X, y, test_size=0.3, random_state=0, stratify=y, shuffle=True\n",
    ")"
   ]
  },
  {
   "cell_type": "code",
   "execution_count": 42,
   "id": "d17f6fe6",
   "metadata": {},
   "outputs": [
    {
     "data": {
      "text/plain": [
       "Accident Date                         2586\n",
       "Age at Injury                            0\n",
       "Alternative Dispute Resolution           3\n",
       "Assembly Date                            0\n",
       "Attorney/Representative                  0\n",
       "Average Weekly Wage                  20057\n",
       "Birth Year                             189\n",
       "C-2 Date                             10195\n",
       "Carrier Name                             0\n",
       "Carrier Type                             0\n",
       "County of Injury                         0\n",
       "COVID-19 Indicator                       0\n",
       "District Name                            0\n",
       "First Hearing Date                  296254\n",
       "Gender                                   0\n",
       "IME-4 Count                              0\n",
       "Medical Fee Region                       0\n",
       "Agreement Reached                        0\n",
       "Number of Dependents                     0\n",
       "WCIO Cause of Injury Code SUPRA      10956\n",
       "WCIO Nature of Injury Code SUPRA     10970\n",
       "WCIO Part Of Body Code SUPRA         41439\n",
       "dtype: int64"
      ]
     },
     "execution_count": 42,
     "metadata": {},
     "output_type": "execute_result"
    }
   ],
   "source": [
    "# Check the updated number of missing values\n",
    "X_train.isna().sum()"
   ]
  },
  {
   "cell_type": "code",
   "execution_count": 43,
   "id": "c089966a",
   "metadata": {
    "scrolled": true
   },
   "outputs": [
    {
     "data": {
      "text/plain": [
       "Accident Date                        0.643575\n",
       "Age at Injury                        0.000000\n",
       "Alternative Dispute Resolution       0.000747\n",
       "Assembly Date                        0.000000\n",
       "Attorney/Representative              0.000000\n",
       "Average Weekly Wage                  4.991563\n",
       "Birth Year                           0.047036\n",
       "C-2 Date                             2.537218\n",
       "Carrier Name                         0.000000\n",
       "Carrier Type                         0.000000\n",
       "County of Injury                     0.000000\n",
       "COVID-19 Indicator                   0.000000\n",
       "District Name                        0.000000\n",
       "First Hearing Date                  73.728404\n",
       "Gender                               0.000000\n",
       "IME-4 Count                          0.000000\n",
       "Medical Fee Region                   0.000000\n",
       "Agreement Reached                    0.000000\n",
       "Number of Dependents                 0.000000\n",
       "WCIO Cause of Injury Code SUPRA      2.726608\n",
       "WCIO Nature of Injury Code SUPRA     2.730092\n",
       "WCIO Part Of Body Code SUPRA        10.312878\n",
       "dtype: float64"
      ]
     },
     "execution_count": 43,
     "metadata": {},
     "output_type": "execute_result"
    }
   ],
   "source": [
    "X_train.isna().sum() / X_train.shape[0] * 100"
   ]
  },
  {
   "cell_type": "markdown",
   "id": "c1999cdb",
   "metadata": {},
   "source": [
    "Missing values on First Hearing Date are hearings not scheduled yet, so we equalled them to the most recent available "
   ]
  },
  {
   "cell_type": "code",
   "execution_count": 44,
   "id": "1d77aef6",
   "metadata": {},
   "outputs": [],
   "source": [
    "max_date = X_train[\"First Hearing Date\"].max()\n",
    "X_train[\"First Hearing Date\"] = X_train[\"First Hearing Date\"].fillna(max_date)\n",
    "X_val[\"First Hearing Date\"] = X_val[\"First Hearing Date\"].fillna(max_date)"
   ]
  },
  {
   "cell_type": "markdown",
   "id": "b85ddf87",
   "metadata": {},
   "source": [
    "As the percentage of missing values in \"Accident Date\" and \"C-2 Date\" are low, we replaced them with the median of each respectively."
   ]
  },
  {
   "cell_type": "code",
   "execution_count": 45,
   "id": "adf6cf9c",
   "metadata": {},
   "outputs": [],
   "source": [
    "median_accident_date = X_train[\"Accident Date\"].median()\n",
    "X_train[\"Accident Date\"] = X_train[\"Accident Date\"].fillna(median_accident_date)\n",
    "X_val[\"Accident Date\"] = X_val[\"Accident Date\"].fillna(median_accident_date)\n",
    "\n",
    "median_C2_date = X_train[\"C-2 Date\"].median()\n",
    "X_train[\"C-2 Date\"] = X_train[\"C-2 Date\"].fillna(median_C2_date)\n",
    "X_val[\"C-2 Date\"] = X_val[\"C-2 Date\"].fillna(median_C2_date)"
   ]
  },
  {
   "cell_type": "code",
   "execution_count": 46,
   "id": "06604e10",
   "metadata": {},
   "outputs": [
    {
     "data": {
      "text/plain": [
       "Accident Date                           0\n",
       "Age at Injury                           0\n",
       "Alternative Dispute Resolution          3\n",
       "Assembly Date                           0\n",
       "Attorney/Representative                 0\n",
       "Average Weekly Wage                 20057\n",
       "Birth Year                            189\n",
       "C-2 Date                                0\n",
       "Carrier Name                            0\n",
       "Carrier Type                            0\n",
       "County of Injury                        0\n",
       "COVID-19 Indicator                      0\n",
       "District Name                           0\n",
       "First Hearing Date                      0\n",
       "Gender                                  0\n",
       "IME-4 Count                             0\n",
       "Medical Fee Region                      0\n",
       "Agreement Reached                       0\n",
       "Number of Dependents                    0\n",
       "WCIO Cause of Injury Code SUPRA     10956\n",
       "WCIO Nature of Injury Code SUPRA    10970\n",
       "WCIO Part Of Body Code SUPRA        41439\n",
       "dtype: int64"
      ]
     },
     "execution_count": 46,
     "metadata": {},
     "output_type": "execute_result"
    }
   ],
   "source": [
    "X_train.isna().sum()"
   ]
  },
  {
   "cell_type": "markdown",
   "id": "baedd259",
   "metadata": {},
   "source": [
    "After we solved the cases where we could estimate the Age at Injury and Birth Year missing values more precisely, we filled the remaining ones (including zeros) with the median age and the median year, respectively "
   ]
  },
  {
   "cell_type": "code",
   "execution_count": 47,
   "id": "7a08377c",
   "metadata": {},
   "outputs": [],
   "source": [
    "median_train_age = X_train.loc[X_train[\"Age at Injury\"] != 0, \"Age at Injury\"].median()\n",
    "X_train[\"Age at Injury\"] = X_train[\"Age at Injury\"].replace(0, median_train_age)\n",
    "X_val[\"Age at Injury\"] = X_val[\"Age at Injury\"].replace(0, median_train_age)"
   ]
  },
  {
   "cell_type": "code",
   "execution_count": 48,
   "id": "adf3a6eb",
   "metadata": {},
   "outputs": [],
   "source": [
    "median_year = X_train.loc[X_train[\"Birth Year\"] != 0, \"Birth Year\"].median()\n",
    "X_train[\"Birth Year\"] = X_train[\"Birth Year\"].replace(0, median_year)\n",
    "X_train[\"Birth Year\"] = X_train[\"Birth Year\"].fillna(median_year)\n",
    "\n",
    "X_val[\"Birth Year\"] = X_val[\"Birth Year\"].replace(0, median_year)\n",
    "X_val[\"Birth Year\"] = X_val[\"Birth Year\"].fillna(median_year)"
   ]
  },
  {
   "cell_type": "code",
   "execution_count": 49,
   "id": "a8d3fe7c",
   "metadata": {},
   "outputs": [
    {
     "data": {
      "text/plain": [
       "Accident Date                           0\n",
       "Age at Injury                           0\n",
       "Alternative Dispute Resolution          3\n",
       "Assembly Date                           0\n",
       "Attorney/Representative                 0\n",
       "Average Weekly Wage                 20057\n",
       "Birth Year                              0\n",
       "C-2 Date                                0\n",
       "Carrier Name                            0\n",
       "Carrier Type                            0\n",
       "County of Injury                        0\n",
       "COVID-19 Indicator                      0\n",
       "District Name                           0\n",
       "First Hearing Date                      0\n",
       "Gender                                  0\n",
       "IME-4 Count                             0\n",
       "Medical Fee Region                      0\n",
       "Agreement Reached                       0\n",
       "Number of Dependents                    0\n",
       "WCIO Cause of Injury Code SUPRA     10956\n",
       "WCIO Nature of Injury Code SUPRA    10970\n",
       "WCIO Part Of Body Code SUPRA        41439\n",
       "dtype: int64"
      ]
     },
     "execution_count": 49,
     "metadata": {},
     "output_type": "execute_result"
    }
   ],
   "source": [
    "X_train.isna().sum()"
   ]
  },
  {
   "cell_type": "markdown",
   "id": "b060e85b",
   "metadata": {},
   "source": [
    "We added new measures to count the days each process took to occur. "
   ]
  },
  {
   "cell_type": "code",
   "execution_count": 50,
   "id": "d0f2e7c4",
   "metadata": {},
   "outputs": [],
   "source": [
    "X_train[\"Accident to C-2 Days\"] = (\n",
    "    X_train[\"C-2 Date\"] - X_train[\"Accident Date\"]\n",
    ").dt.days\n",
    "X_train[\"Accident to Assembly Days\"] = (\n",
    "    X_train[\"Assembly Date\"] - X_train[\"Accident Date\"]\n",
    ").dt.days\n",
    "X_train[\"Accident to First Hearing Days\"] = (\n",
    "    X_train[\"First Hearing Date\"] - X_train[\"Accident Date\"]\n",
    ").dt.days\n",
    "\n",
    "X_val[\"Accident to C-2 Days\"] = (X_val[\"C-2 Date\"] - X_val[\"Accident Date\"]).dt.days\n",
    "X_val[\"Accident to Assembly Days\"] = (\n",
    "    X_val[\"Assembly Date\"] - X_val[\"Accident Date\"]\n",
    ").dt.days\n",
    "X_val[\"Accident to First Hearing Days\"] = (\n",
    "    X_val[\"First Hearing Date\"] - X_val[\"Accident Date\"]\n",
    ").dt.days"
   ]
  },
  {
   "cell_type": "markdown",
   "id": "ce7905fc",
   "metadata": {},
   "source": [
    "We replaced the wrong days (negative, meaning they put the accident date after the remaining ones which is a mistake) for each category with the median. For C-2 Date, we also filled the missing values with the median (the others don't have missing values)."
   ]
  },
  {
   "cell_type": "code",
   "execution_count": 51,
   "id": "65eb98a1",
   "metadata": {},
   "outputs": [],
   "source": [
    "wrong_c2_train = X_train[X_train[\"Accident to C-2 Days\"] < 0]\n",
    "c2_train_median = X_train.loc[\n",
    "    X_train[\"Accident to C-2 Days\"] > 0, \"Accident to C-2 Days\"\n",
    "].median()\n",
    "X_train.loc[wrong_c2_train.index, \"Accident to C-2 Days\"] = c2_train_median\n",
    "X_train[\"Accident to C-2 Days\"] = X_train[\"Accident to C-2 Days\"].fillna(\n",
    "    c2_train_median\n",
    ")\n",
    "\n",
    "wrong_c2_val = X_val[X_val[\"Accident to C-2 Days\"] < 0]\n",
    "X_val.loc[wrong_c2_val.index, \"Accident to C-2 Days\"] = c2_train_median\n",
    "X_val[\"Accident to C-2 Days\"] = X_val[\"Accident to C-2 Days\"].fillna(c2_train_median)"
   ]
  },
  {
   "cell_type": "code",
   "execution_count": 52,
   "id": "4aff539b",
   "metadata": {},
   "outputs": [],
   "source": [
    "wrong_assembly_train = X_train[X_train[\"Accident to Assembly Days\"] < 0]\n",
    "assembly_train_median = X_train.loc[\n",
    "    X_train[\"Accident to Assembly Days\"] > 0, \"Accident to Assembly Days\"\n",
    "].median()\n",
    "X_train.loc[wrong_assembly_train.index, \"Accident to Assembly Days\"] = (\n",
    "    assembly_train_median\n",
    ")\n",
    "\n",
    "wrong_assembly_val = X_val[X_val[\"Accident to Assembly Days\"] < 0]\n",
    "X_val.loc[wrong_assembly_val.index, \"Accident to Assembly Days\"] = assembly_train_median"
   ]
  },
  {
   "cell_type": "code",
   "execution_count": 53,
   "id": "d3731788",
   "metadata": {},
   "outputs": [],
   "source": [
    "wrong_hearing_tdays = X_train[X_train[\"Accident to First Hearing Days\"] < 0]\n",
    "hearing_median = X_train.loc[\n",
    "    X_train[\"Accident to First Hearing Days\"] > 0, \"Accident to First Hearing Days\"\n",
    "].median()\n",
    "X_train.loc[wrong_hearing_tdays.index, \"Accident to First Hearing Days\"] = (\n",
    "    hearing_median\n",
    ")\n",
    "\n",
    "wrong_hearing_vdays = X_val[X_val[\"Accident to First Hearing Days\"] < 0]\n",
    "X_val.loc[wrong_hearing_vdays.index, \"Accident to First Hearing Days\"] = hearing_median"
   ]
  },
  {
   "cell_type": "code",
   "execution_count": 54,
   "id": "0af49f65",
   "metadata": {},
   "outputs": [
    {
     "data": {
      "text/plain": [
       "Accident Date                           0\n",
       "Age at Injury                           0\n",
       "Alternative Dispute Resolution          3\n",
       "Assembly Date                           0\n",
       "Attorney/Representative                 0\n",
       "Average Weekly Wage                 20057\n",
       "Birth Year                              0\n",
       "C-2 Date                                0\n",
       "Carrier Name                            0\n",
       "Carrier Type                            0\n",
       "County of Injury                        0\n",
       "COVID-19 Indicator                      0\n",
       "District Name                           0\n",
       "First Hearing Date                      0\n",
       "Gender                                  0\n",
       "IME-4 Count                             0\n",
       "Medical Fee Region                      0\n",
       "Agreement Reached                       0\n",
       "Number of Dependents                    0\n",
       "WCIO Cause of Injury Code SUPRA     10956\n",
       "WCIO Nature of Injury Code SUPRA    10970\n",
       "WCIO Part Of Body Code SUPRA        41439\n",
       "Accident to C-2 Days                    0\n",
       "Accident to Assembly Days               0\n",
       "Accident to First Hearing Days          0\n",
       "dtype: int64"
      ]
     },
     "execution_count": 54,
     "metadata": {},
     "output_type": "execute_result"
    }
   ],
   "source": [
    "X_train.isna().sum()"
   ]
  },
  {
   "cell_type": "markdown",
   "id": "e19cf90c",
   "metadata": {},
   "source": [
    "We decided to convert Alternative Dispute Resolution and Gender into binary variables. "
   ]
  },
  {
   "cell_type": "code",
   "execution_count": 55,
   "id": "72f5ab41",
   "metadata": {},
   "outputs": [
    {
     "data": {
      "text/plain": [
       "Alternative Dispute Resolution\n",
       "0.0    399988\n",
       "1.0      1827\n",
       "NaN         3\n",
       "Name: count, dtype: int64"
      ]
     },
     "execution_count": 55,
     "metadata": {},
     "output_type": "execute_result"
    }
   ],
   "source": [
    "X_train[\"Alternative Dispute Resolution\"].value_counts(dropna=False)"
   ]
  },
  {
   "cell_type": "code",
   "execution_count": 56,
   "id": "7e2dc4ca",
   "metadata": {},
   "outputs": [
    {
     "data": {
      "text/plain": [
       "Gender\n",
       "M    234746\n",
       "F    163678\n",
       "U      3360\n",
       "X        34\n",
       "Name: count, dtype: int64"
      ]
     },
     "execution_count": 56,
     "metadata": {},
     "output_type": "execute_result"
    }
   ],
   "source": [
    "X_train[\"Gender\"].value_counts(dropna=False)"
   ]
  },
  {
   "cell_type": "markdown",
   "id": "ec823140",
   "metadata": {},
   "source": [
    "For Alternative Dispute Resolution, we decided to fill the missing values with the X_train mode (0)\n",
    "For Gender, we decided to create a new variable called Male and grouped F, U and X into the value 0 (not Male), and M into the value 1 given the fact it is the X_train mode."
   ]
  },
  {
   "cell_type": "code",
   "execution_count": 57,
   "id": "dede1d09",
   "metadata": {},
   "outputs": [],
   "source": [
    "X_train[\"Alternative Dispute Resolution\"] = X_train[\n",
    "    \"Alternative Dispute Resolution\"\n",
    "].fillna(0)\n",
    "X_val[\"Alternative Dispute Resolution\"] = X_val[\n",
    "    \"Alternative Dispute Resolution\"\n",
    "].fillna(0)\n",
    "\n",
    "X_train[\"Male\"] = np.select(\n",
    "    [\n",
    "        X_train[\"Gender\"] == \"M\",\n",
    "        X_train[\"Gender\"] == \"F\",\n",
    "        X_train[\"Gender\"] == \"X\",\n",
    "        X_train[\"Gender\"] == \"U\",\n",
    "    ],\n",
    "    [1, 0, 0, 0],\n",
    ")\n",
    "\n",
    "X_val[\"Male\"] = np.select(\n",
    "    [\n",
    "        X_val[\"Gender\"] == \"M\",\n",
    "        X_val[\"Gender\"] == \"F\",\n",
    "        X_val[\"Gender\"] == \"X\",\n",
    "        X_val[\"Gender\"] == \"U\",\n",
    "    ],\n",
    "    [1, 0, 0, 0],\n",
    ")"
   ]
  },
  {
   "cell_type": "markdown",
   "id": "517d22f0",
   "metadata": {},
   "source": [
    "We replace the missing values in the SUPRA codes with the mode "
   ]
  },
  {
   "cell_type": "code",
   "execution_count": 58,
   "id": "728d3082",
   "metadata": {},
   "outputs": [],
   "source": [
    "cause_mode = X_train[\"WCIO Cause of Injury Code SUPRA\"].mode().iloc[0]\n",
    "nature_mode = X_train[\"WCIO Nature of Injury Code SUPRA\"].mode().iloc[0]\n",
    "body_mode = X_train[\"WCIO Part Of Body Code SUPRA\"].mode().iloc[0]"
   ]
  },
  {
   "cell_type": "code",
   "execution_count": 59,
   "id": "956beae9",
   "metadata": {},
   "outputs": [],
   "source": [
    "X_train[\"WCIO Cause of Injury Code SUPRA\"] = X_train[\n",
    "    \"WCIO Cause of Injury Code SUPRA\"\n",
    "].fillna(cause_mode)\n",
    "X_train[\"WCIO Nature of Injury Code SUPRA\"] = X_train[\n",
    "    \"WCIO Nature of Injury Code SUPRA\"\n",
    "].fillna(nature_mode)\n",
    "X_train[\"WCIO Part Of Body Code SUPRA\"] = X_train[\n",
    "    \"WCIO Part Of Body Code SUPRA\"\n",
    "].fillna(body_mode)"
   ]
  },
  {
   "cell_type": "code",
   "execution_count": 60,
   "id": "4d84b9e6",
   "metadata": {},
   "outputs": [],
   "source": [
    "X_val[\"WCIO Cause of Injury Code SUPRA\"] = X_val[\n",
    "    \"WCIO Cause of Injury Code SUPRA\"\n",
    "].fillna(cause_mode)\n",
    "X_val[\"WCIO Nature of Injury Code SUPRA\"] = X_val[\n",
    "    \"WCIO Nature of Injury Code SUPRA\"\n",
    "].fillna(nature_mode)\n",
    "X_val[\"WCIO Part Of Body Code SUPRA\"] = X_val[\"WCIO Part Of Body Code SUPRA\"].fillna(\n",
    "    body_mode\n",
    ")"
   ]
  },
  {
   "cell_type": "markdown",
   "id": "3933dc9a",
   "metadata": {},
   "source": [
    "We now drop the columns with the remaining dates because they can't be further analyzed and Gender because we replaced it with Male."
   ]
  },
  {
   "cell_type": "code",
   "execution_count": 61,
   "id": "7976d194",
   "metadata": {},
   "outputs": [],
   "source": [
    "to_drop = [\"Accident Date\", \"Assembly Date\", \"C-2 Date\", \"First Hearing Date\", \"Gender\"]\n",
    "\n",
    "X_train = X_train.drop(to_drop, axis=1)\n",
    "X_val = X_val.drop(to_drop, axis=1)"
   ]
  },
  {
   "cell_type": "code",
   "execution_count": 62,
   "id": "62ea160a",
   "metadata": {
    "scrolled": false
   },
   "outputs": [
    {
     "name": "stdout",
     "output_type": "stream",
     "text": [
      "<class 'pandas.core.frame.DataFrame'>\n",
      "Index: 401818 entries, 5728830 to 5674763\n",
      "Data columns (total 21 columns):\n",
      " #   Column                            Non-Null Count   Dtype  \n",
      "---  ------                            --------------   -----  \n",
      " 0   Age at Injury                     401818 non-null  Int64  \n",
      " 1   Alternative Dispute Resolution    401818 non-null  float64\n",
      " 2   Attorney/Representative           401818 non-null  object \n",
      " 3   Average Weekly Wage               381761 non-null  float64\n",
      " 4   Birth Year                        401818 non-null  Int64  \n",
      " 5   Carrier Name                      401818 non-null  object \n",
      " 6   Carrier Type                      401818 non-null  object \n",
      " 7   County of Injury                  401818 non-null  object \n",
      " 8   COVID-19 Indicator                401818 non-null  object \n",
      " 9   District Name                     401818 non-null  object \n",
      " 10  IME-4 Count                       401818 non-null  Int64  \n",
      " 11  Medical Fee Region                401818 non-null  object \n",
      " 12  Agreement Reached                 401818 non-null  object \n",
      " 13  Number of Dependents              401818 non-null  Int64  \n",
      " 14  WCIO Cause of Injury Code SUPRA   401818 non-null  object \n",
      " 15  WCIO Nature of Injury Code SUPRA  401818 non-null  object \n",
      " 16  WCIO Part Of Body Code SUPRA      401818 non-null  object \n",
      " 17  Accident to C-2 Days              401818 non-null  int64  \n",
      " 18  Accident to Assembly Days         401818 non-null  int64  \n",
      " 19  Accident to First Hearing Days    401818 non-null  int64  \n",
      " 20  Male                              401818 non-null  int32  \n",
      "dtypes: Int64(4), float64(2), int32(1), int64(3), object(11)\n",
      "memory usage: 75.5+ MB\n"
     ]
    }
   ],
   "source": [
    "X_train.info()"
   ]
  },
  {
   "cell_type": "code",
   "execution_count": 63,
   "id": "39973885",
   "metadata": {},
   "outputs": [],
   "source": [
    "# X_train = X_train.set_index(\"Claim Identifier\")\n",
    "# X_val = X_val.set_index(\"Claim Identifier\")"
   ]
  },
  {
   "cell_type": "markdown",
   "id": "01240011",
   "metadata": {},
   "source": [
    "## Categorical and Numerical Variables"
   ]
  },
  {
   "cell_type": "code",
   "execution_count": 64,
   "id": "0df47c76",
   "metadata": {},
   "outputs": [],
   "source": [
    "numerical_cols = [\n",
    "    \"Age at Injury\",\n",
    "    \"Average Weekly Wage\",\n",
    "    \"Birth Year\",\n",
    "    \"IME-4 Count\",\n",
    "    \"Number of Dependents\",\n",
    "    \"Accident to C-2 Days\",\n",
    "    \"Accident to Assembly Days\",\n",
    "    \"Accident to First Hearing Days\",\n",
    "]\n",
    "X_train_numeric = X_train[numerical_cols]\n",
    "X_val_numeric = X_val[numerical_cols]\n",
    "\n",
    "categorical_cols = [\n",
    "    \"Alternative Dispute Resolution\",\n",
    "    \"Attorney/Representative\",\n",
    "    \"Carrier Name\",\n",
    "    \"Carrier Type\",\n",
    "    \"County of Injury\",\n",
    "    \"COVID-19 Indicator\",\n",
    "    \"District Name\",\n",
    "    \"Medical Fee Region\",\n",
    "    \"Agreement Reached\",\n",
    "    \"WCIO Cause of Injury Code SUPRA\",\n",
    "    \"WCIO Nature of Injury Code SUPRA\",\n",
    "    \"WCIO Part Of Body Code SUPRA\",\n",
    "    \"Male\",\n",
    "]\n",
    "X_train_categorical = X_train[categorical_cols]\n",
    "X_val_categorical = X_val[categorical_cols]"
   ]
  },
  {
   "cell_type": "code",
   "execution_count": 65,
   "id": "4362b73a",
   "metadata": {},
   "outputs": [
    {
     "data": {
      "text/plain": [
       "Age at Injury                         0\n",
       "Average Weekly Wage               20057\n",
       "Birth Year                            0\n",
       "IME-4 Count                           0\n",
       "Number of Dependents                  0\n",
       "Accident to C-2 Days                  0\n",
       "Accident to Assembly Days             0\n",
       "Accident to First Hearing Days        0\n",
       "dtype: int64"
      ]
     },
     "execution_count": 65,
     "metadata": {},
     "output_type": "execute_result"
    }
   ],
   "source": [
    "X_train_numeric.isna().sum()"
   ]
  },
  {
   "cell_type": "code",
   "execution_count": 66,
   "id": "bb9e2a6d",
   "metadata": {},
   "outputs": [],
   "source": [
    "X_train_numeric.loc[:, \"Average Weekly Wage\"] = X_train_numeric[\n",
    "    \"Average Weekly Wage\"\n",
    "].replace(0, np.nan)\n",
    "X_val_numeric.loc[:, \"Average Weekly Wage\"] = X_val_numeric[\n",
    "    \"Average Weekly Wage\"\n",
    "].replace(0, np.nan)"
   ]
  },
  {
   "cell_type": "markdown",
   "id": "71dc338f",
   "metadata": {},
   "source": [
    "## Scaling"
   ]
  },
  {
   "cell_type": "code",
   "execution_count": 67,
   "id": "06622aea",
   "metadata": {},
   "outputs": [],
   "source": [
    "minmax = MinMaxScaler()\n",
    "X_train_minmax = minmax.fit_transform(X_train_numeric)\n",
    "X_val_minmax = minmax.transform(X_val_numeric)\n",
    "\n",
    "# standard = StandardScaler()\n",
    "# X_train_standard = standard.fit_transform(X_train_numeric)\n",
    "# X_val_standard = standard.transform(X_val_numeric)\n",
    "\n",
    "# robust = RobustScaler()\n",
    "# X_train_robust = robust.fit_transform(X_train_numeric)\n",
    "# X_val_robust = robust.transform(X_val_numeric)"
   ]
  },
  {
   "cell_type": "code",
   "execution_count": 68,
   "id": "17aac1fd",
   "metadata": {},
   "outputs": [],
   "source": [
    "X_train_minmax = pd.DataFrame(\n",
    "    X_train_minmax, columns=X_train_numeric.columns\n",
    ").set_index(X_train_numeric.index)\n",
    "\n",
    "X_val_minmax = pd.DataFrame(X_val_minmax, columns=X_val_numeric.columns).set_index(\n",
    "    X_val_numeric.index\n",
    ")"
   ]
  },
  {
   "cell_type": "markdown",
   "id": "6e72b7e5",
   "metadata": {},
   "source": [
    "## Imputing Wage with KNN"
   ]
  },
  {
   "cell_type": "code",
   "execution_count": 87,
   "id": "4ba174a6",
   "metadata": {},
   "outputs": [
    {
     "data": {
      "text/plain": [
       "489.0248835004101"
      ]
     },
     "execution_count": 87,
     "metadata": {},
     "output_type": "execute_result"
    }
   ],
   "source": [
    "wage_mean = X_train[\"Average Weekly Wage\"].mean()\n",
    "wage_mean"
   ]
  },
  {
   "cell_type": "code",
   "execution_count": 88,
   "id": "139cb8c2",
   "metadata": {},
   "outputs": [],
   "source": [
    "X_train[\"Average Weekly Wage\"] = X_train[\"Average Weekly Wage\"].fillna(wage_mean)\n",
    "X_val[\"Average Weekly Wage\"] = X_val[\"Average Weekly Wage\"].fillna(wage_mean)"
   ]
  },
  {
   "cell_type": "code",
   "execution_count": 71,
   "id": "756df662",
   "metadata": {},
   "outputs": [],
   "source": [
    "#X_train_minmax_knn_imput = X_train_minmax[[\"Average Weekly Wage\", \"IME-4 Count\"]]\n",
    "#X_val_minmax_knn_imput = X_val_minmax[[\"Average Weekly Wage\", \"IME-4 Count\"]]"
   ]
  },
  {
   "cell_type": "code",
   "execution_count": 72,
   "id": "ea3861a6",
   "metadata": {},
   "outputs": [],
   "source": [
    "#imputer = KNNImputer(n_neighbors=3)\n",
    "#X_train_minmax_knn_impput = imputer.fit_transform(X_train_minmax_knn_imput)\n",
    "#X_val_minmax_knn_impput = imputer.transform(X_val_minmax_knn_imput)"
   ]
  },
  {
   "cell_type": "code",
   "execution_count": 73,
   "id": "c2669760",
   "metadata": {},
   "outputs": [],
   "source": [
    "#X_train_minmax[\"Average Weekly Wage\"] = X_train_minmax_knn_impput[:, 0]\n",
    "#X_val_minmax[\"Average Weekly Wage\"] = X_val_minmax_knn_impput[:, 0]"
   ]
  },
  {
   "cell_type": "code",
   "execution_count": 74,
   "id": "3bf7a0de",
   "metadata": {},
   "outputs": [],
   "source": [
    "#X_train = minmax.inverse_transform(X_train_minmax)\n",
    "#X_val = minmax.inverse_transform(X_val_minmax)"
   ]
  },
  {
   "cell_type": "code",
   "execution_count": 75,
   "id": "6fd3dd7f",
   "metadata": {},
   "outputs": [],
   "source": [
    "#X_train = pd.DataFrame(X_train, columns=X_train_minmax.columns).set_index(\n",
    "#    X_train_minmax.index\n",
    "#)\n",
    "\n",
    "#X_val = pd.DataFrame(X_val, columns=X_val_minmax.columns).set_index(X_val_minmax.index)"
   ]
  },
  {
   "cell_type": "code",
   "execution_count": 76,
   "id": "f676c9f9",
   "metadata": {},
   "outputs": [],
   "source": [
    "#X_train.to_csv(\"./processed datasets/X_train.csv\")\n",
    "#X_train.head()"
   ]
  },
  {
   "cell_type": "code",
   "execution_count": 77,
   "id": "4b0aa23a",
   "metadata": {},
   "outputs": [],
   "source": [
    "#X_val.to_csv(\"./processed datasets/X_val.csv\")\n",
    "#X_val.head()"
   ]
  },
  {
   "cell_type": "code",
   "execution_count": 78,
   "id": "3ab247ba",
   "metadata": {},
   "outputs": [],
   "source": [
    "#X_train_categorical.to_csv(\"./processed datasets/X_train_categorical.csv\")\n",
    "#X_train_categorical.head()"
   ]
  },
  {
   "cell_type": "code",
   "execution_count": 79,
   "id": "e71a7e9d",
   "metadata": {},
   "outputs": [],
   "source": [
    "#X_val_categorical.to_csv(\"./processed datasets/X_val_categorical.csv\")\n",
    "#X_val_categorical.head()"
   ]
  },
  {
   "cell_type": "code",
   "execution_count": 80,
   "id": "6bd848f3",
   "metadata": {},
   "outputs": [],
   "source": [
    "#y_train.to_csv(\"./processed datasets/y_train.csv\")\n",
    "#y_val.to_csv(\"./processed datasets/y_val.csv\")"
   ]
  },
  {
   "cell_type": "code",
   "execution_count": 81,
   "id": "f68ebfe3",
   "metadata": {},
   "outputs": [],
   "source": [
    "#X_train = pd.read_csv(\"./processed datasets/X_train.csv\")\n",
    "#X_train.set_index(\"Claim Identifier\", inplace=True)\n",
    "\n",
    "\n",
    "#X_val = pd.read_csv(\"./processed datasets/X_val.csv\")\n",
    "#X_val.set_index(\"Claim Identifier\", inplace=True)\n",
    "\n",
    "\n",
    "#X_train_categorical = pd.read_csv(\"./processed datasets/X_train_categorical.csv\")\n",
    "#X_train_categorical.set_index(\"Claim Identifier\", inplace=True)\n",
    "\n",
    "#X_val_categorical = pd.read_csv(\"./processed datasets/X_val_categorical.csv\")\n",
    "#X_val_categorical.set_index(\"Claim Identifier\", inplace=True)\n",
    "\n",
    "#y_train = pd.read_csv(\"./processed datasets/y_train.csv\")\n",
    "#y_train.set_index(\"Claim Identifier\", inplace=True)\n",
    "#y_val = pd.read_csv(\"./processed datasets/y_val.csv\")\n",
    "#y_val.set_index(\"Claim Identifier\", inplace=True)"
   ]
  },
  {
   "cell_type": "markdown",
   "id": "e3494c72",
   "metadata": {},
   "source": [
    "# <span style=\"color:#e0bda8\">6. Feature Selection</span>"
   ]
  },
  {
   "cell_type": "markdown",
   "id": "69bf9c47",
   "metadata": {},
   "source": [
    "## Filter Methods"
   ]
  },
  {
   "cell_type": "markdown",
   "id": "820a94f6",
   "metadata": {},
   "source": [
    "### Univariate Methods"
   ]
  },
  {
   "cell_type": "code",
   "execution_count": 89,
   "id": "cb6ff29c",
   "metadata": {},
   "outputs": [
    {
     "data": {
      "text/plain": [
       "Age at Injury                     0.013219\n",
       "Average Weekly Wage               0.000011\n",
       "Birth Year                        0.013722\n",
       "IME-4 Count                       0.000692\n",
       "Number of Dependents              0.111285\n",
       "Accident to C-2 Days              0.000658\n",
       "Accident to Assembly Days         0.000784\n",
       "Accident to First Hearing Days    0.001091\n",
       "dtype: float64"
      ]
     },
     "execution_count": 89,
     "metadata": {},
     "output_type": "execute_result"
    }
   ],
   "source": [
    "X_train_minmax.var()"
   ]
  },
  {
   "cell_type": "markdown",
   "id": "74a4282a",
   "metadata": {},
   "source": [
    "### Correlation Indices"
   ]
  },
  {
   "cell_type": "markdown",
   "id": "52dd0a22",
   "metadata": {},
   "source": [
    "Since we have a categorical target, measuring correlations against is ill-advised (we could however use other correlation indices for this such as Point Bi-serial correlation or PhiK). Thus we will limit ourselves to using the Spearman correlation between features."
   ]
  },
  {
   "cell_type": "code",
   "execution_count": 90,
   "id": "7cdc69b8",
   "metadata": {},
   "outputs": [
    {
     "data": {
      "text/html": [
       "<div>\n",
       "<style scoped>\n",
       "    .dataframe tbody tr th:only-of-type {\n",
       "        vertical-align: middle;\n",
       "    }\n",
       "\n",
       "    .dataframe tbody tr th {\n",
       "        vertical-align: top;\n",
       "    }\n",
       "\n",
       "    .dataframe thead th {\n",
       "        text-align: right;\n",
       "    }\n",
       "</style>\n",
       "<table border=\"1\" class=\"dataframe\">\n",
       "  <thead>\n",
       "    <tr style=\"text-align: right;\">\n",
       "      <th></th>\n",
       "      <th>Age at Injury</th>\n",
       "      <th>Average Weekly Wage</th>\n",
       "      <th>Birth Year</th>\n",
       "      <th>IME-4 Count</th>\n",
       "      <th>Number of Dependents</th>\n",
       "      <th>Accident to C-2 Days</th>\n",
       "      <th>Accident to Assembly Days</th>\n",
       "      <th>Accident to First Hearing Days</th>\n",
       "    </tr>\n",
       "  </thead>\n",
       "  <tbody>\n",
       "    <tr>\n",
       "      <th>Age at Injury</th>\n",
       "      <td>1.00</td>\n",
       "      <td>0.14</td>\n",
       "      <td>-0.99</td>\n",
       "      <td>0.13</td>\n",
       "      <td>0.0</td>\n",
       "      <td>0.05</td>\n",
       "      <td>0.05</td>\n",
       "      <td>-0.07</td>\n",
       "    </tr>\n",
       "    <tr>\n",
       "      <th>Average Weekly Wage</th>\n",
       "      <td>0.14</td>\n",
       "      <td>1.00</td>\n",
       "      <td>-0.14</td>\n",
       "      <td>0.05</td>\n",
       "      <td>-0.0</td>\n",
       "      <td>0.04</td>\n",
       "      <td>-0.00</td>\n",
       "      <td>0.01</td>\n",
       "    </tr>\n",
       "    <tr>\n",
       "      <th>Birth Year</th>\n",
       "      <td>-0.99</td>\n",
       "      <td>-0.14</td>\n",
       "      <td>1.00</td>\n",
       "      <td>-0.12</td>\n",
       "      <td>-0.0</td>\n",
       "      <td>-0.07</td>\n",
       "      <td>-0.08</td>\n",
       "      <td>0.02</td>\n",
       "    </tr>\n",
       "    <tr>\n",
       "      <th>IME-4 Count</th>\n",
       "      <td>0.13</td>\n",
       "      <td>0.05</td>\n",
       "      <td>-0.12</td>\n",
       "      <td>1.00</td>\n",
       "      <td>0.0</td>\n",
       "      <td>0.08</td>\n",
       "      <td>0.04</td>\n",
       "      <td>-0.47</td>\n",
       "    </tr>\n",
       "    <tr>\n",
       "      <th>Number of Dependents</th>\n",
       "      <td>0.00</td>\n",
       "      <td>-0.00</td>\n",
       "      <td>-0.00</td>\n",
       "      <td>0.00</td>\n",
       "      <td>1.0</td>\n",
       "      <td>0.00</td>\n",
       "      <td>0.00</td>\n",
       "      <td>-0.00</td>\n",
       "    </tr>\n",
       "    <tr>\n",
       "      <th>Accident to C-2 Days</th>\n",
       "      <td>0.05</td>\n",
       "      <td>0.04</td>\n",
       "      <td>-0.07</td>\n",
       "      <td>0.08</td>\n",
       "      <td>0.0</td>\n",
       "      <td>1.00</td>\n",
       "      <td>0.96</td>\n",
       "      <td>-0.02</td>\n",
       "    </tr>\n",
       "    <tr>\n",
       "      <th>Accident to Assembly Days</th>\n",
       "      <td>0.05</td>\n",
       "      <td>-0.00</td>\n",
       "      <td>-0.08</td>\n",
       "      <td>0.04</td>\n",
       "      <td>0.0</td>\n",
       "      <td>0.96</td>\n",
       "      <td>1.00</td>\n",
       "      <td>0.01</td>\n",
       "    </tr>\n",
       "    <tr>\n",
       "      <th>Accident to First Hearing Days</th>\n",
       "      <td>-0.07</td>\n",
       "      <td>0.01</td>\n",
       "      <td>0.02</td>\n",
       "      <td>-0.47</td>\n",
       "      <td>-0.0</td>\n",
       "      <td>-0.02</td>\n",
       "      <td>0.01</td>\n",
       "      <td>1.00</td>\n",
       "    </tr>\n",
       "  </tbody>\n",
       "</table>\n",
       "</div>"
      ],
      "text/plain": [
       "                                Age at Injury  Average Weekly Wage   \n",
       "Age at Injury                            1.00                 0.14  \\\n",
       "Average Weekly Wage                      0.14                 1.00   \n",
       "Birth Year                              -0.99                -0.14   \n",
       "IME-4 Count                              0.13                 0.05   \n",
       "Number of Dependents                     0.00                -0.00   \n",
       "Accident to C-2 Days                     0.05                 0.04   \n",
       "Accident to Assembly Days                0.05                -0.00   \n",
       "Accident to First Hearing Days          -0.07                 0.01   \n",
       "\n",
       "                                Birth Year  IME-4 Count  Number of Dependents   \n",
       "Age at Injury                        -0.99         0.13                   0.0  \\\n",
       "Average Weekly Wage                  -0.14         0.05                  -0.0   \n",
       "Birth Year                            1.00        -0.12                  -0.0   \n",
       "IME-4 Count                          -0.12         1.00                   0.0   \n",
       "Number of Dependents                 -0.00         0.00                   1.0   \n",
       "Accident to C-2 Days                 -0.07         0.08                   0.0   \n",
       "Accident to Assembly Days            -0.08         0.04                   0.0   \n",
       "Accident to First Hearing Days        0.02        -0.47                  -0.0   \n",
       "\n",
       "                                Accident to C-2 Days   \n",
       "Age at Injury                                   0.05  \\\n",
       "Average Weekly Wage                             0.04   \n",
       "Birth Year                                     -0.07   \n",
       "IME-4 Count                                     0.08   \n",
       "Number of Dependents                            0.00   \n",
       "Accident to C-2 Days                            1.00   \n",
       "Accident to Assembly Days                       0.96   \n",
       "Accident to First Hearing Days                 -0.02   \n",
       "\n",
       "                                Accident to Assembly Days   \n",
       "Age at Injury                                        0.05  \\\n",
       "Average Weekly Wage                                 -0.00   \n",
       "Birth Year                                          -0.08   \n",
       "IME-4 Count                                          0.04   \n",
       "Number of Dependents                                 0.00   \n",
       "Accident to C-2 Days                                 0.96   \n",
       "Accident to Assembly Days                            1.00   \n",
       "Accident to First Hearing Days                       0.01   \n",
       "\n",
       "                                Accident to First Hearing Days  \n",
       "Age at Injury                                            -0.07  \n",
       "Average Weekly Wage                                       0.01  \n",
       "Birth Year                                                0.02  \n",
       "IME-4 Count                                              -0.47  \n",
       "Number of Dependents                                     -0.00  \n",
       "Accident to C-2 Days                                     -0.02  \n",
       "Accident to Assembly Days                                 0.01  \n",
       "Accident to First Hearing Days                            1.00  "
      ]
     },
     "execution_count": 90,
     "metadata": {},
     "output_type": "execute_result"
    }
   ],
   "source": [
    "cor_spearman = X_train_minmax.corr(method=\"spearman\").round(2)\n",
    "\n",
    "mask_annot = np.absolute(cor_spearman.values) >= 0.5\n",
    "annot = np.where(mask_annot, cor_spearman.values, np.full(cor_spearman.shape, \"\"))\n",
    "annot = annot.astype(str)  # Convert to string for annotation\n",
    "mask = np.triu(np.ones_like(cor_spearman, dtype=bool))\n",
    "\n",
    "# Define the custom colors\n",
    "light_color = \"#e0bda8\"  # Light shade\n",
    "dark_color = \"#c48c78\"  # Darker shade\n",
    "neutral_color = \"#ffffff\"  # Color for neutral values\n",
    "\n",
    "# Create a custom colormap with three colors (for diverging effect)\n",
    "custom_cmap = LinearSegmentedColormap.from_list(\n",
    "    \"custom_cmap\", [dark_color, neutral_color, light_color]\n",
    ")\n",
    "\n",
    "cor_spearman"
   ]
  },
  {
   "cell_type": "code",
   "execution_count": 91,
   "id": "3ad81311",
   "metadata": {},
   "outputs": [
    {
     "data": {
      "image/png": "[encoded data removed]",
      "text/plain": [
       "<Figure size 864x720 with 2 Axes>"
      ]
     },
     "metadata": {
      "needs_background": "light"
     },
     "output_type": "display_data"
    }
   ],
   "source": [
    "# Plotting the heatmap\n",
    "plt.figure(figsize=(12, 10))\n",
    "sns.heatmap(\n",
    "    data=cor_spearman, annot=annot, cmap=custom_cmap, mask=mask, fmt=\"s\"\n",
    ")  # fmt='s' for string\n",
    "plt.title(\"Spearman Correlation Heatmap\")\n",
    "plt.show()"
   ]
  },
  {
   "cell_type": "markdown",
   "id": "ccb08f73",
   "metadata": {},
   "source": [
    "We can conclude that:\n",
    "- We need to use other feature selection techniques to get more insights.\n",
    "- There are three pairs of variables highly correlated, namely:\n",
    "    - Average Weekly Wage vs Attorney/Representative (-0.99) <br>\n",
    "    - Accident to Assembly Days vs Accident to C-2 Days (0.96) <br>"
   ]
  },
  {
   "cell_type": "markdown",
   "id": "cfd17576",
   "metadata": {},
   "source": [
    "### Chi-Square for categorical data"
   ]
  },
  {
   "cell_type": "code",
   "execution_count": 94,
   "id": "d4be8a54",
   "metadata": {},
   "outputs": [],
   "source": [
    "dfObserved = X_train_categorical.copy()\n",
    "\n",
    "# Add the target column to X_train_categorical\n",
    "dfObserved[\"target\"] = y_train\n",
    "\n",
    "# Now X_train_categorical contains the original columns plus the target column\n",
    "#dfObserved.set_index(\"Claim Identifier\", inplace=True)"
   ]
  },
  {
   "cell_type": "code",
   "execution_count": 93,
   "id": "54376baf",
   "metadata": {},
   "outputs": [
    {
     "name": "stdout",
     "output_type": "stream",
     "text": [
      "Alternative Dispute Resolution is an important predictor. (Keep Alternative Dispute Resolution in model)\n",
      "Attorney/Representative is an important predictor. (Keep Attorney/Representative in model)\n",
      "Carrier Name is an important predictor. (Keep Carrier Name in model)\n",
      "Carrier Type is an important predictor. (Keep Carrier Type in model)\n",
      "County of Injury is an important predictor. (Keep County of Injury in model)\n",
      "COVID-19 Indicator is an important predictor. (Keep COVID-19 Indicator in model)\n",
      "District Name is an important predictor. (Keep District Name in model)\n",
      "Medical Fee Region is an important predictor. (Keep Medical Fee Region in model)\n",
      "Agreement Reached is an important predictor. (Keep Agreement Reached in model)\n",
      "WCIO Cause of Injury Code SUPRA is an important predictor. (Keep WCIO Cause of Injury Code SUPRA in model)\n",
      "WCIO Nature of Injury Code SUPRA is an important predictor. (Keep WCIO Nature of Injury Code SUPRA in model)\n",
      "WCIO Part Of Body Code SUPRA is an important predictor. (Keep WCIO Part Of Body Code SUPRA in model)\n",
      "Male is an important predictor. (Keep Male in model)\n"
     ]
    }
   ],
   "source": [
    "def TestIndependence2(var, alpha=0.05):\n",
    "    # Create a contingency table for the variable against the \"target\" column\n",
    "    contingency_table = pd.crosstab(dfObserved[var], dfObserved[\"target\"])\n",
    "\n",
    "    # Perform chi-square test\n",
    "    chi2, p, dof, expected = stats.chi2_contingency(contingency_table.values)\n",
    "\n",
    "    # Create a DataFrame for expected counts\n",
    "    dfExpected = pd.DataFrame(\n",
    "        expected, columns=contingency_table.columns, index=contingency_table.index\n",
    "    )\n",
    "\n",
    "    # Check the p-value and print results\n",
    "    if p >= alpha:\n",
    "        result = f\"{var} is NOT an important predictor. (Discard {var} from model)\"\n",
    "        print(result)\n",
    "    else:\n",
    "        result = f\"{var} is an important predictor. (Keep {var} in model)\"\n",
    "\n",
    "    print(result)\n",
    "\n",
    "\n",
    "# Loop through each column in dfObserved (excluding 'target')\n",
    "for var in dfObserved.columns:\n",
    "    if var != \"target\":\n",
    "        TestIndependence2(var)"
   ]
  },
  {
   "cell_type": "markdown",
   "id": "ade06e42",
   "metadata": {},
   "source": [
    "## Cramér’s V"
   ]
  },
  {
   "cell_type": "markdown",
   "id": "6fa4be90",
   "metadata": {},
   "source": [
    "### alpha = 0.10"
   ]
  },
  {
   "cell_type": "code",
   "execution_count": 95,
   "id": "40367d71",
   "metadata": {},
   "outputs": [
    {
     "name": "stdout",
     "output_type": "stream",
     "text": [
      "Testing Cramér's V for Alternative Dispute Resolution...\n",
      "Alternative Dispute Resolution is NOT an important predictor (Cramér's V = 0.0657). (Discard Alternative Dispute Resolution from model)\n",
      "Testing Cramér's V for Attorney/Representative...\n",
      "Attorney/Representative is an important predictor (Cramér's V = 0.6120). (Keep Attorney/Representative in model)\n",
      "Testing Cramér's V for Carrier Name...\n",
      "Carrier Name is an important predictor (Cramér's V = 0.1771). (Keep Carrier Name in model)\n",
      "Testing Cramér's V for Carrier Type...\n",
      "Carrier Type is NOT an important predictor (Cramér's V = 0.0739). (Discard Carrier Type from model)\n",
      "Testing Cramér's V for County of Injury...\n",
      "County of Injury is NOT an important predictor (Cramér's V = 0.0524). (Discard County of Injury from model)\n",
      "Testing Cramér's V for COVID-19 Indicator...\n",
      "COVID-19 Indicator is an important predictor (Cramér's V = 0.1000). (Keep COVID-19 Indicator in model)\n",
      "Testing Cramér's V for District Name...\n",
      "District Name is NOT an important predictor (Cramér's V = 0.0422). (Discard District Name from model)\n",
      "Testing Cramér's V for Medical Fee Region...\n",
      "Medical Fee Region is NOT an important predictor (Cramér's V = 0.0389). (Discard Medical Fee Region from model)\n",
      "Testing Cramér's V for Agreement Reached...\n",
      "Agreement Reached is an important predictor (Cramér's V = 0.3630). (Keep Agreement Reached in model)\n",
      "Testing Cramér's V for WCIO Cause of Injury Code SUPRA...\n",
      "WCIO Cause of Injury Code SUPRA is an important predictor (Cramér's V = 0.1049). (Keep WCIO Cause of Injury Code SUPRA in model)\n",
      "Testing Cramér's V for WCIO Nature of Injury Code SUPRA...\n",
      "WCIO Nature of Injury Code SUPRA is NOT an important predictor (Cramér's V = 0.0589). (Discard WCIO Nature of Injury Code SUPRA from model)\n",
      "Testing Cramér's V for WCIO Part Of Body Code SUPRA...\n",
      "WCIO Part Of Body Code SUPRA is an important predictor (Cramér's V = 0.1077). (Keep WCIO Part Of Body Code SUPRA in model)\n",
      "Testing Cramér's V for Male...\n",
      "Male is NOT an important predictor (Cramér's V = 0.0951). (Discard Male from model)\n"
     ]
    }
   ],
   "source": [
    "# Updated function to calculate Cramér's V\n",
    "def cramers_v(x, y):\n",
    "    # Create a contingency table\n",
    "    contingency_table = pd.crosstab(x, y)\n",
    "    # Perform chi-square test\n",
    "    chi2, p, dof, expected = chi2_contingency(contingency_table)\n",
    "    # Calculate Cramér's V\n",
    "    n = contingency_table.sum().sum()\n",
    "    return np.sqrt(chi2 / (n * (min(contingency_table.shape) - 1)))\n",
    "\n",
    "\n",
    "# Function to assess importance using Cramér's V\n",
    "def TestCramersV(var, alpha=0.10):\n",
    "    # Calculate Cramér's V for the variable against the target\n",
    "    cramers_v_score = cramers_v(dfObserved[var], dfObserved[\"target\"])\n",
    "\n",
    "    # Interpret the score\n",
    "    if cramers_v_score < alpha:\n",
    "        result = f\"{var} is NOT an important predictor (Cramér's V = {cramers_v_score:.4f}). (Discard {var} from model)\"\n",
    "    else:\n",
    "        result = f\"{var} is an important predictor (Cramér's V = {cramers_v_score:.4f}). (Keep {var} in model)\"\n",
    "\n",
    "    print(result)\n",
    "\n",
    "\n",
    "# Loop through each column in dfObserved (excluding the 'target' column)\n",
    "for var in dfObserved.columns:\n",
    "    if var != \"target\":\n",
    "        print(f\"Testing Cramér's V for {var}...\")\n",
    "        TestCramersV(var)"
   ]
  },
  {
   "cell_type": "markdown",
   "id": "1ebd6aec",
   "metadata": {},
   "source": [
    "### alpha = 0.05"
   ]
  },
  {
   "cell_type": "code",
   "execution_count": 96,
   "id": "c9423ecc",
   "metadata": {},
   "outputs": [
    {
     "name": "stdout",
     "output_type": "stream",
     "text": [
      "Testing Cramér's V for Alternative Dispute Resolution...\n",
      "Alternative Dispute Resolution is an important predictor (Cramér's V = 0.0657). (Keep Alternative Dispute Resolution in model)\n",
      "Testing Cramér's V for Attorney/Representative...\n",
      "Attorney/Representative is an important predictor (Cramér's V = 0.6120). (Keep Attorney/Representative in model)\n",
      "Testing Cramér's V for Carrier Name...\n",
      "Carrier Name is an important predictor (Cramér's V = 0.1771). (Keep Carrier Name in model)\n",
      "Testing Cramér's V for Carrier Type...\n",
      "Carrier Type is an important predictor (Cramér's V = 0.0739). (Keep Carrier Type in model)\n",
      "Testing Cramér's V for County of Injury...\n",
      "County of Injury is an important predictor (Cramér's V = 0.0524). (Keep County of Injury in model)\n",
      "Testing Cramér's V for COVID-19 Indicator...\n",
      "COVID-19 Indicator is an important predictor (Cramér's V = 0.1000). (Keep COVID-19 Indicator in model)\n",
      "Testing Cramér's V for District Name...\n",
      "District Name is NOT an important predictor (Cramér's V = 0.0422). (Discard District Name from model)\n",
      "Testing Cramér's V for Medical Fee Region...\n",
      "Medical Fee Region is NOT an important predictor (Cramér's V = 0.0389). (Discard Medical Fee Region from model)\n",
      "Testing Cramér's V for Agreement Reached...\n",
      "Agreement Reached is an important predictor (Cramér's V = 0.3630). (Keep Agreement Reached in model)\n",
      "Testing Cramér's V for WCIO Cause of Injury Code SUPRA...\n",
      "WCIO Cause of Injury Code SUPRA is an important predictor (Cramér's V = 0.1049). (Keep WCIO Cause of Injury Code SUPRA in model)\n",
      "Testing Cramér's V for WCIO Nature of Injury Code SUPRA...\n",
      "WCIO Nature of Injury Code SUPRA is an important predictor (Cramér's V = 0.0589). (Keep WCIO Nature of Injury Code SUPRA in model)\n",
      "Testing Cramér's V for WCIO Part Of Body Code SUPRA...\n",
      "WCIO Part Of Body Code SUPRA is an important predictor (Cramér's V = 0.1077). (Keep WCIO Part Of Body Code SUPRA in model)\n",
      "Testing Cramér's V for Male...\n",
      "Male is an important predictor (Cramér's V = 0.0951). (Keep Male in model)\n"
     ]
    }
   ],
   "source": [
    "# Updated function to calculate Cramér's V\n",
    "def cramers_v(x, y):\n",
    "    # Create a contingency table\n",
    "    contingency_table = pd.crosstab(x, y)\n",
    "    # Perform chi-square test\n",
    "    chi2, p, dof, expected = chi2_contingency(contingency_table)\n",
    "    # Calculate Cramér's V\n",
    "    n = contingency_table.sum().sum()\n",
    "    return np.sqrt(chi2 / (n * (min(contingency_table.shape) - 1)))\n",
    "\n",
    "\n",
    "# Function to assess importance using Cramér's V\n",
    "def TestCramersV(var, alpha=0.05):\n",
    "    # Calculate Cramér's V for the variable against the target\n",
    "    cramers_v_score = cramers_v(dfObserved[var], dfObserved[\"target\"])\n",
    "\n",
    "    # Interpret the score\n",
    "    if cramers_v_score < alpha:\n",
    "        result = f\"{var} is NOT an important predictor (Cramér's V = {cramers_v_score:.4f}). (Discard {var} from model)\"\n",
    "    else:\n",
    "        result = f\"{var} is an important predictor (Cramér's V = {cramers_v_score:.4f}). (Keep {var} in model)\"\n",
    "\n",
    "    print(result)\n",
    "\n",
    "\n",
    "# Loop through each column in dfObserved (excluding the 'target' column)\n",
    "for var in dfObserved.columns:\n",
    "    if var != \"target\":\n",
    "        print(f\"Testing Cramér's V for {var}...\")\n",
    "        TestCramersV(var)"
   ]
  },
  {
   "cell_type": "code",
   "execution_count": 97,
   "id": "33f6d0c4",
   "metadata": {},
   "outputs": [
    {
     "name": "stdout",
     "output_type": "stream",
     "text": [
      "Cramér's V Matrix (Feature vs. Target):\n",
      "                                  Cramér's V with Target\n",
      "Alternative Dispute Resolution                  0.065749\n",
      "Attorney/Representative                         0.612004\n",
      "Carrier Name                                    0.177131\n",
      "Carrier Type                                    0.073853\n",
      "County of Injury                                0.052389\n",
      "COVID-19 Indicator                              0.100009\n",
      "District Name                                   0.042163\n",
      "Medical Fee Region                              0.038865\n",
      "Agreement Reached                               0.363008\n",
      "WCIO Cause of Injury Code SUPRA                 0.104948\n",
      "WCIO Nature of Injury Code SUPRA                0.058865\n",
      "WCIO Part Of Body Code SUPRA                    0.107689\n",
      "Male                                            0.095109\n"
     ]
    }
   ],
   "source": [
    "# Function to calculate Cramér's V\n",
    "def cramers_v(x, y):\n",
    "    # Create a contingency table\n",
    "    contingency_table = pd.crosstab(x, y)\n",
    "    # Perform chi-square test\n",
    "    chi2, p, dof, expected = chi2_contingency(contingency_table)\n",
    "    # Calculate Cramér's V\n",
    "    n = contingency_table.sum().sum()\n",
    "    return np.sqrt(chi2 / (n * (min(contingency_table.shape) - 1)))\n",
    "\n",
    "\n",
    "# Initialize an empty dictionary to store Cramér's V scores\n",
    "cramers_v_matrix = {}\n",
    "\n",
    "# Loop through each column in dfObserved (excluding the 'target' column)\n",
    "for var in dfObserved.columns:\n",
    "    if var != \"target\":\n",
    "        cramers_v_score = cramers_v(dfObserved[var], dfObserved[\"target\"])\n",
    "        cramers_v_matrix[var] = cramers_v_score  # Store the score in dictionary\n",
    "\n",
    "# Convert dictionary to DataFrame for a matrix format\n",
    "cramers_v_df = pd.DataFrame(cramers_v_matrix, index=[\"Cramér's V with Target\"]).T\n",
    "\n",
    "# Print the resulting Cramér's V matrix\n",
    "print(\"Cramér's V Matrix (Feature vs. Target):\")\n",
    "print(cramers_v_df)"
   ]
  },
  {
   "cell_type": "code",
   "execution_count": 98,
   "id": "6223cb8d",
   "metadata": {},
   "outputs": [],
   "source": [
    "# Function to calculate Cramér's V\n",
    "def cramers_v(x, y):\n",
    "    # Create a contingency table\n",
    "    contingency_table = pd.crosstab(x, y)\n",
    "    # Perform chi-square test\n",
    "    chi2, p, dof, expected = chi2_contingency(contingency_table)\n",
    "    # Calculate Cramér's V\n",
    "    n = contingency_table.sum().sum()\n",
    "    return np.sqrt(chi2 / (n * (min(contingency_table.shape) - 1)))\n",
    "\n",
    "\n",
    "# Initialize an empty DataFrame for storing the Cramér's V matrix\n",
    "features = dfObserved.columns\n",
    "cramers_v_matrix = pd.DataFrame(\n",
    "    np.zeros((len(features), len(features))), index=features, columns=features\n",
    ")\n",
    "\n",
    "# Calculate Cramér's V for each pair of features\n",
    "for var1 in features:\n",
    "    for var2 in features:\n",
    "        cramers_v_matrix.loc[var1, var2] = cramers_v(dfObserved[var1], dfObserved[var2])\n",
    "\n",
    "# Print the Cramér's V matrix\n",
    "# print(\"Cramér's V Matrix (All Feature Pairs):\")\n",
    "# print(cramers_v_matrix)"
   ]
  },
  {
   "cell_type": "code",
   "execution_count": 99,
   "id": "7cdc2677",
   "metadata": {},
   "outputs": [
    {
     "data": {
      "image/png": "[encoded data removed]",
      "text/plain": [
       "<Figure size 864x720 with 2 Axes>"
      ]
     },
     "metadata": {
      "needs_background": "light"
     },
     "output_type": "display_data"
    }
   ],
   "source": [
    "# Set plot size and style\n",
    "plt.figure(figsize=(12, 10))\n",
    "sns.set(style=\"white\")\n",
    "\n",
    "# Create a heatmap for the Cramér's V matrix\n",
    "sns.heatmap(\n",
    "    cramers_v_matrix,\n",
    "    annot=True,\n",
    "    cmap=\"coolwarm\",\n",
    "    vmin=0,\n",
    "    vmax=1,\n",
    "    square=True,\n",
    "    linewidths=0.5,\n",
    "    cbar_kws={\"shrink\": 0.8},\n",
    "    fmt=\".2f\",\n",
    ")\n",
    "\n",
    "# Set titles and labels\n",
    "plt.title(\"Cramér's V Heatmap of Categorical Features\", fontsize=16)\n",
    "plt.xticks(rotation=45, ha=\"right\", fontsize=10)\n",
    "plt.yticks(rotation=0, fontsize=10)\n",
    "\n",
    "# Show the heatmap\n",
    "plt.tight_layout()\n",
    "plt.show()"
   ]
  },
  {
   "cell_type": "markdown",
   "id": "c845596f",
   "metadata": {},
   "source": [
    "Alternativa Dispute Resolution vs Carrier Name (0.96)\n",
    "Carrier Name vs Carrier Type (0.98)\n",
    "County of Injury vs District Name (0.91)\n",
    "\n",
    "WCIO Nature of Injury Code SUPRA vs COVID-19 Indicator (0.77)\n",
    "Medical Fee Region vs County of Injury (0.72)\n",
    "\n",
    "\n",
    "remove\n",
    "- Carrier Name - highly correlated with 2 variables\n",
    "- County of Injury - highly correlated with 2 variables\n",
    "\n",
    "remove 5%\n",
    "- District Name\n",
    "- Medical Fee Region\n",
    "\n",
    "remove 10%\n",
    "- Alternative Dispute Resolution\n",
    "- Carrier Type\n",
    "- County of Injury\n",
    "- District Name\n",
    "- Medical Fee Region\n",
    "- WCIO Nature of Injury Code SUPRA\n",
    "- Male"
   ]
  },
  {
   "cell_type": "markdown",
   "id": "30e39b9c",
   "metadata": {},
   "source": [
    "## Wrapper Methods"
   ]
  },
  {
   "cell_type": "markdown",
   "id": "a017cd18",
   "metadata": {},
   "source": [
    "### RFE (Logistic Regression)"
   ]
  },
  {
   "cell_type": "code",
   "execution_count": 204,
   "id": "13340f95",
   "metadata": {},
   "outputs": [
    {
     "name": "stdout",
     "output_type": "stream",
     "text": [
      "Optimum number of features: 5\n",
      "Score with 5 features: 0.161388\n",
      "Features to select: \n",
      "Age at Injury                     False\n",
      "Average Weekly Wage               False\n",
      "Birth Year                         True\n",
      "IME-4 Count                        True\n",
      "Number of Dependents              False\n",
      "Accident to C-2 Days               True\n",
      "Accident to Assembly Days          True\n",
      "Accident to First Hearing Days     True\n",
      "dtype: bool\n"
     ]
    }
   ],
   "source": [
    "# no of features\n",
    "nof_list = np.arange(1, 8)\n",
    "high_score = 0\n",
    "# Variable to store the optimum features\n",
    "nof = 0\n",
    "train_score_list = []\n",
    "val_score_list = []\n",
    "\n",
    "for n in range(len(nof_list)):\n",
    "    model = LogisticRegression(max_iter=1000)\n",
    "\n",
    "    rfe = RFE(estimator=model, n_features_to_select=nof_list[n])\n",
    "    X_train_rfe = rfe.fit_transform(X_train_minmax, y_train.values.ravel())\n",
    "    X_val_rfe = rfe.transform(X_val_minmax)\n",
    "    model.fit(X_train_rfe, y_train.values.ravel())\n",
    "\n",
    "    # storing results on training data\n",
    "    y_train_pred = model.predict(X_train_rfe)\n",
    "    train_score = f1_score(y_train, y_train_pred, average=\"macro\")\n",
    "    train_score_list.append(train_score)\n",
    "\n",
    "    # storing results on training data\n",
    "    y_val_pred = model.predict(X_val_rfe)\n",
    "    val_score = f1_score(y_val, y_val_pred, average=\"macro\")\n",
    "    val_score_list.append(val_score)\n",
    "\n",
    "    # check best score\n",
    "    if val_score >= high_score:\n",
    "        high_score = val_score\n",
    "        nof = nof_list[n]\n",
    "        # adding mention of variables to keep\n",
    "        features_to_select = pd.Series(rfe.support_, index=X_train_minmax.columns)\n",
    "\n",
    "print(\"Optimum number of features: %d\" % nof)\n",
    "print(\"Score with %d features: %f\" % (nof, high_score))\n",
    "print(f\"Features to select: \\n{features_to_select}\")"
   ]
  },
  {
   "cell_type": "markdown",
   "id": "152db0bf",
   "metadata": {},
   "source": [
    "### RFECV (RFE with cross validation) with Logistic Regression"
   ]
  },
  {
   "cell_type": "code",
   "execution_count": 205,
   "id": "d327008a",
   "metadata": {},
   "outputs": [
    {
     "name": "stdout",
     "output_type": "stream",
     "text": [
      "Optimal number of features: 5\n",
      "Selected features: [False False  True  True False  True  True  True]\n"
     ]
    },
    {
     "data": {
      "text/plain": [
       "Age at Injury                     False\n",
       "Average Weekly Wage               False\n",
       "Birth Year                         True\n",
       "IME-4 Count                        True\n",
       "Number of Dependents              False\n",
       "Accident to C-2 Days               True\n",
       "Accident to Assembly Days          True\n",
       "Accident to First Hearing Days     True\n",
       "dtype: bool"
      ]
     },
     "execution_count": 205,
     "metadata": {},
     "output_type": "execute_result"
    }
   ],
   "source": [
    "model = LogisticRegression(max_iter=1000)\n",
    "\n",
    "# Set up the cross-validation strategy\n",
    "cv = StratifiedKFold(n_splits=10)  # 10-fold cross-validation\n",
    "\n",
    "# Create the RFECV object\n",
    "rfecv = RFECV(estimator=model, step=1, cv=cv, scoring=\"f1_macro\", n_jobs=-1)\n",
    "\n",
    "# Fit the RFECV model to the training data\n",
    "X_rfe = rfecv.fit_transform(X_train_minmax, y_train.values.ravel())\n",
    "\n",
    "# Print the number of features selected\n",
    "print(\"Optimal number of features: %d\" % rfecv.n_features_)\n",
    "\n",
    "# Print the selected features\n",
    "print(\"Selected features: %s\" % rfecv.support_)\n",
    "\n",
    "selected_features = pd.Series(rfecv.support_, index=X_train_minmax.columns)\n",
    "\n",
    "selected_features"
   ]
  },
  {
   "cell_type": "markdown",
   "id": "5763e66f",
   "metadata": {},
   "source": [
    "## Embedded Methods"
   ]
  },
  {
   "cell_type": "markdown",
   "id": "bef2b880",
   "metadata": {},
   "source": [
    "### Lasso Regression"
   ]
  },
  {
   "cell_type": "code",
   "execution_count": 206,
   "id": "fe55b709",
   "metadata": {},
   "outputs": [],
   "source": [
    "# Encoding y values\n",
    "\n",
    "# Assuming y_train and y_val are your target labels\n",
    "encoder = LabelEncoder()\n",
    "y_train_encoded = encoder.fit_transform(\n",
    "    y_train.values.ravel()\n",
    ")  # Fit and transform on training data"
   ]
  },
  {
   "cell_type": "code",
   "execution_count": 207,
   "id": "2854ed32",
   "metadata": {},
   "outputs": [],
   "source": [
    "def plot_importance(coef, name):\n",
    "    imp_coef = coef.sort_values()\n",
    "    plt.figure(figsize=(8, 10))\n",
    "    imp_coef.plot(kind=\"barh\", color=\"#e0bda8\")\n",
    "    plt.title(\"Feature importance using \" + name + \" Model\")\n",
    "    plt.show()"
   ]
  },
  {
   "cell_type": "code",
   "execution_count": 208,
   "id": "e560c3d6",
   "metadata": {},
   "outputs": [],
   "source": [
    "reg = LassoCV()"
   ]
  },
  {
   "cell_type": "code",
   "execution_count": 209,
   "id": "c13c6d90",
   "metadata": {},
   "outputs": [
    {
     "data": {
      "text/html": [
       "<style>#sk-container-id-3 {\n",
       "  /* Definition of color scheme common for light and dark mode */\n",
       "  --sklearn-color-text: black;\n",
       "  --sklearn-color-line: gray;\n",
       "  /* Definition of color scheme for unfitted estimators */\n",
       "  --sklearn-color-unfitted-level-0: #fff5e6;\n",
       "  --sklearn-color-unfitted-level-1: #f6e4d2;\n",
       "  --sklearn-color-unfitted-level-2: #ffe0b3;\n",
       "  --sklearn-color-unfitted-level-3: chocolate;\n",
       "  /* Definition of color scheme for fitted estimators */\n",
       "  --sklearn-color-fitted-level-0: #f0f8ff;\n",
       "  --sklearn-color-fitted-level-1: #d4ebff;\n",
       "  --sklearn-color-fitted-level-2: #b3dbfd;\n",
       "  --sklearn-color-fitted-level-3: cornflowerblue;\n",
       "\n",
       "  /* Specific color for light theme */\n",
       "  --sklearn-color-text-on-default-background: var(--sg-text-color, var(--theme-code-foreground, var(--jp-content-font-color1, black)));\n",
       "  --sklearn-color-background: var(--sg-background-color, var(--theme-background, var(--jp-layout-color0, white)));\n",
       "  --sklearn-color-border-box: var(--sg-text-color, var(--theme-code-foreground, var(--jp-content-font-color1, black)));\n",
       "  --sklearn-color-icon: #696969;\n",
       "\n",
       "  @media (prefers-color-scheme: dark) {\n",
       "    /* Redefinition of color scheme for dark theme */\n",
       "    --sklearn-color-text-on-default-background: var(--sg-text-color, var(--theme-code-foreground, var(--jp-content-font-color1, white)));\n",
       "    --sklearn-color-background: var(--sg-background-color, var(--theme-background, var(--jp-layout-color0, #111)));\n",
       "    --sklearn-color-border-box: var(--sg-text-color, var(--theme-code-foreground, var(--jp-content-font-color1, white)));\n",
       "    --sklearn-color-icon: #878787;\n",
       "  }\n",
       "}\n",
       "\n",
       "#sk-container-id-3 {\n",
       "  color: var(--sklearn-color-text);\n",
       "}\n",
       "\n",
       "#sk-container-id-3 pre {\n",
       "  padding: 0;\n",
       "}\n",
       "\n",
       "#sk-container-id-3 input.sk-hidden--visually {\n",
       "  border: 0;\n",
       "  clip: rect(1px 1px 1px 1px);\n",
       "  clip: rect(1px, 1px, 1px, 1px);\n",
       "  height: 1px;\n",
       "  margin: -1px;\n",
       "  overflow: hidden;\n",
       "  padding: 0;\n",
       "  position: absolute;\n",
       "  width: 1px;\n",
       "}\n",
       "\n",
       "#sk-container-id-3 div.sk-dashed-wrapped {\n",
       "  border: 1px dashed var(--sklearn-color-line);\n",
       "  margin: 0 0.4em 0.5em 0.4em;\n",
       "  box-sizing: border-box;\n",
       "  padding-bottom: 0.4em;\n",
       "  background-color: var(--sklearn-color-background);\n",
       "}\n",
       "\n",
       "#sk-container-id-3 div.sk-container {\n",
       "  /* jupyter's `normalize.less` sets `[hidden] { display: none; }`\n",
       "     but bootstrap.min.css set `[hidden] { display: none !important; }`\n",
       "     so we also need the `!important` here to be able to override the\n",
       "     default hidden behavior on the sphinx rendered scikit-learn.org.\n",
       "     See: https://github.com/scikit-learn/scikit-learn/issues/21755 */\n",
       "  display: inline-block !important;\n",
       "  position: relative;\n",
       "}\n",
       "\n",
       "#sk-container-id-3 div.sk-text-repr-fallback {\n",
       "  display: none;\n",
       "}\n",
       "\n",
       "div.sk-parallel-item,\n",
       "div.sk-serial,\n",
       "div.sk-item {\n",
       "  /* draw centered vertical line to link estimators */\n",
       "  background-image: linear-gradient(var(--sklearn-color-text-on-default-background), var(--sklearn-color-text-on-default-background));\n",
       "  background-size: 2px 100%;\n",
       "  background-repeat: no-repeat;\n",
       "  background-position: center center;\n",
       "}\n",
       "\n",
       "/* Parallel-specific style estimator block */\n",
       "\n",
       "#sk-container-id-3 div.sk-parallel-item::after {\n",
       "  content: \"\";\n",
       "  width: 100%;\n",
       "  border-bottom: 2px solid var(--sklearn-color-text-on-default-background);\n",
       "  flex-grow: 1;\n",
       "}\n",
       "\n",
       "#sk-container-id-3 div.sk-parallel {\n",
       "  display: flex;\n",
       "  align-items: stretch;\n",
       "  justify-content: center;\n",
       "  background-color: var(--sklearn-color-background);\n",
       "  position: relative;\n",
       "}\n",
       "\n",
       "#sk-container-id-3 div.sk-parallel-item {\n",
       "  display: flex;\n",
       "  flex-direction: column;\n",
       "}\n",
       "\n",
       "#sk-container-id-3 div.sk-parallel-item:first-child::after {\n",
       "  align-self: flex-end;\n",
       "  width: 50%;\n",
       "}\n",
       "\n",
       "#sk-container-id-3 div.sk-parallel-item:last-child::after {\n",
       "  align-self: flex-start;\n",
       "  width: 50%;\n",
       "}\n",
       "\n",
       "#sk-container-id-3 div.sk-parallel-item:only-child::after {\n",
       "  width: 0;\n",
       "}\n",
       "\n",
       "/* Serial-specific style estimator block */\n",
       "\n",
       "#sk-container-id-3 div.sk-serial {\n",
       "  display: flex;\n",
       "  flex-direction: column;\n",
       "  align-items: center;\n",
       "  background-color: var(--sklearn-color-background);\n",
       "  padding-right: 1em;\n",
       "  padding-left: 1em;\n",
       "}\n",
       "\n",
       "\n",
       "/* Toggleable style: style used for estimator/Pipeline/ColumnTransformer box that is\n",
       "clickable and can be expanded/collapsed.\n",
       "- Pipeline and ColumnTransformer use this feature and define the default style\n",
       "- Estimators will overwrite some part of the style using the `sk-estimator` class\n",
       "*/\n",
       "\n",
       "/* Pipeline and ColumnTransformer style (default) */\n",
       "\n",
       "#sk-container-id-3 div.sk-toggleable {\n",
       "  /* Default theme specific background. It is overwritten whether we have a\n",
       "  specific estimator or a Pipeline/ColumnTransformer */\n",
       "  background-color: var(--sklearn-color-background);\n",
       "}\n",
       "\n",
       "/* Toggleable label */\n",
       "#sk-container-id-3 label.sk-toggleable__label {\n",
       "  cursor: pointer;\n",
       "  display: block;\n",
       "  width: 100%;\n",
       "  margin-bottom: 0;\n",
       "  padding: 0.5em;\n",
       "  box-sizing: border-box;\n",
       "  text-align: center;\n",
       "}\n",
       "\n",
       "#sk-container-id-3 label.sk-toggleable__label-arrow:before {\n",
       "  /* Arrow on the left of the label */\n",
       "  content: \"▸\";\n",
       "  float: left;\n",
       "  margin-right: 0.25em;\n",
       "  color: var(--sklearn-color-icon);\n",
       "}\n",
       "\n",
       "#sk-container-id-3 label.sk-toggleable__label-arrow:hover:before {\n",
       "  color: var(--sklearn-color-text);\n",
       "}\n",
       "\n",
       "/* Toggleable content - dropdown */\n",
       "\n",
       "#sk-container-id-3 div.sk-toggleable__content {\n",
       "  max-height: 0;\n",
       "  max-width: 0;\n",
       "  overflow: hidden;\n",
       "  text-align: left;\n",
       "  /* unfitted */\n",
       "  background-color: var(--sklearn-color-unfitted-level-0);\n",
       "}\n",
       "\n",
       "#sk-container-id-3 div.sk-toggleable__content.fitted {\n",
       "  /* fitted */\n",
       "  background-color: var(--sklearn-color-fitted-level-0);\n",
       "}\n",
       "\n",
       "#sk-container-id-3 div.sk-toggleable__content pre {\n",
       "  margin: 0.2em;\n",
       "  border-radius: 0.25em;\n",
       "  color: var(--sklearn-color-text);\n",
       "  /* unfitted */\n",
       "  background-color: var(--sklearn-color-unfitted-level-0);\n",
       "}\n",
       "\n",
       "#sk-container-id-3 div.sk-toggleable__content.fitted pre {\n",
       "  /* unfitted */\n",
       "  background-color: var(--sklearn-color-fitted-level-0);\n",
       "}\n",
       "\n",
       "#sk-container-id-3 input.sk-toggleable__control:checked~div.sk-toggleable__content {\n",
       "  /* Expand drop-down */\n",
       "  max-height: 200px;\n",
       "  max-width: 100%;\n",
       "  overflow: auto;\n",
       "}\n",
       "\n",
       "#sk-container-id-3 input.sk-toggleable__control:checked~label.sk-toggleable__label-arrow:before {\n",
       "  content: \"▾\";\n",
       "}\n",
       "\n",
       "/* Pipeline/ColumnTransformer-specific style */\n",
       "\n",
       "#sk-container-id-3 div.sk-label input.sk-toggleable__control:checked~label.sk-toggleable__label {\n",
       "  color: var(--sklearn-color-text);\n",
       "  background-color: var(--sklearn-color-unfitted-level-2);\n",
       "}\n",
       "\n",
       "#sk-container-id-3 div.sk-label.fitted input.sk-toggleable__control:checked~label.sk-toggleable__label {\n",
       "  background-color: var(--sklearn-color-fitted-level-2);\n",
       "}\n",
       "\n",
       "/* Estimator-specific style */\n",
       "\n",
       "/* Colorize estimator box */\n",
       "#sk-container-id-3 div.sk-estimator input.sk-toggleable__control:checked~label.sk-toggleable__label {\n",
       "  /* unfitted */\n",
       "  background-color: var(--sklearn-color-unfitted-level-2);\n",
       "}\n",
       "\n",
       "#sk-container-id-3 div.sk-estimator.fitted input.sk-toggleable__control:checked~label.sk-toggleable__label {\n",
       "  /* fitted */\n",
       "  background-color: var(--sklearn-color-fitted-level-2);\n",
       "}\n",
       "\n",
       "#sk-container-id-3 div.sk-label label.sk-toggleable__label,\n",
       "#sk-container-id-3 div.sk-label label {\n",
       "  /* The background is the default theme color */\n",
       "  color: var(--sklearn-color-text-on-default-background);\n",
       "}\n",
       "\n",
       "/* On hover, darken the color of the background */\n",
       "#sk-container-id-3 div.sk-label:hover label.sk-toggleable__label {\n",
       "  color: var(--sklearn-color-text);\n",
       "  background-color: var(--sklearn-color-unfitted-level-2);\n",
       "}\n",
       "\n",
       "/* Label box, darken color on hover, fitted */\n",
       "#sk-container-id-3 div.sk-label.fitted:hover label.sk-toggleable__label.fitted {\n",
       "  color: var(--sklearn-color-text);\n",
       "  background-color: var(--sklearn-color-fitted-level-2);\n",
       "}\n",
       "\n",
       "/* Estimator label */\n",
       "\n",
       "#sk-container-id-3 div.sk-label label {\n",
       "  font-family: monospace;\n",
       "  font-weight: bold;\n",
       "  display: inline-block;\n",
       "  line-height: 1.2em;\n",
       "}\n",
       "\n",
       "#sk-container-id-3 div.sk-label-container {\n",
       "  text-align: center;\n",
       "}\n",
       "\n",
       "/* Estimator-specific */\n",
       "#sk-container-id-3 div.sk-estimator {\n",
       "  font-family: monospace;\n",
       "  border: 1px dotted var(--sklearn-color-border-box);\n",
       "  border-radius: 0.25em;\n",
       "  box-sizing: border-box;\n",
       "  margin-bottom: 0.5em;\n",
       "  /* unfitted */\n",
       "  background-color: var(--sklearn-color-unfitted-level-0);\n",
       "}\n",
       "\n",
       "#sk-container-id-3 div.sk-estimator.fitted {\n",
       "  /* fitted */\n",
       "  background-color: var(--sklearn-color-fitted-level-0);\n",
       "}\n",
       "\n",
       "/* on hover */\n",
       "#sk-container-id-3 div.sk-estimator:hover {\n",
       "  /* unfitted */\n",
       "  background-color: var(--sklearn-color-unfitted-level-2);\n",
       "}\n",
       "\n",
       "#sk-container-id-3 div.sk-estimator.fitted:hover {\n",
       "  /* fitted */\n",
       "  background-color: var(--sklearn-color-fitted-level-2);\n",
       "}\n",
       "\n",
       "/* Specification for estimator info (e.g. \"i\" and \"?\") */\n",
       "\n",
       "/* Common style for \"i\" and \"?\" */\n",
       "\n",
       ".sk-estimator-doc-link,\n",
       "a:link.sk-estimator-doc-link,\n",
       "a:visited.sk-estimator-doc-link {\n",
       "  float: right;\n",
       "  font-size: smaller;\n",
       "  line-height: 1em;\n",
       "  font-family: monospace;\n",
       "  background-color: var(--sklearn-color-background);\n",
       "  border-radius: 1em;\n",
       "  height: 1em;\n",
       "  width: 1em;\n",
       "  text-decoration: none !important;\n",
       "  margin-left: 1ex;\n",
       "  /* unfitted */\n",
       "  border: var(--sklearn-color-unfitted-level-1) 1pt solid;\n",
       "  color: var(--sklearn-color-unfitted-level-1);\n",
       "}\n",
       "\n",
       ".sk-estimator-doc-link.fitted,\n",
       "a:link.sk-estimator-doc-link.fitted,\n",
       "a:visited.sk-estimator-doc-link.fitted {\n",
       "  /* fitted */\n",
       "  border: var(--sklearn-color-fitted-level-1) 1pt solid;\n",
       "  color: var(--sklearn-color-fitted-level-1);\n",
       "}\n",
       "\n",
       "/* On hover */\n",
       "div.sk-estimator:hover .sk-estimator-doc-link:hover,\n",
       ".sk-estimator-doc-link:hover,\n",
       "div.sk-label-container:hover .sk-estimator-doc-link:hover,\n",
       ".sk-estimator-doc-link:hover {\n",
       "  /* unfitted */\n",
       "  background-color: var(--sklearn-color-unfitted-level-3);\n",
       "  color: var(--sklearn-color-background);\n",
       "  text-decoration: none;\n",
       "}\n",
       "\n",
       "div.sk-estimator.fitted:hover .sk-estimator-doc-link.fitted:hover,\n",
       ".sk-estimator-doc-link.fitted:hover,\n",
       "div.sk-label-container:hover .sk-estimator-doc-link.fitted:hover,\n",
       ".sk-estimator-doc-link.fitted:hover {\n",
       "  /* fitted */\n",
       "  background-color: var(--sklearn-color-fitted-level-3);\n",
       "  color: var(--sklearn-color-background);\n",
       "  text-decoration: none;\n",
       "}\n",
       "\n",
       "/* Span, style for the box shown on hovering the info icon */\n",
       ".sk-estimator-doc-link span {\n",
       "  display: none;\n",
       "  z-index: 9999;\n",
       "  position: relative;\n",
       "  font-weight: normal;\n",
       "  right: .2ex;\n",
       "  padding: .5ex;\n",
       "  margin: .5ex;\n",
       "  width: min-content;\n",
       "  min-width: 20ex;\n",
       "  max-width: 50ex;\n",
       "  color: var(--sklearn-color-text);\n",
       "  box-shadow: 2pt 2pt 4pt #999;\n",
       "  /* unfitted */\n",
       "  background: var(--sklearn-color-unfitted-level-0);\n",
       "  border: .5pt solid var(--sklearn-color-unfitted-level-3);\n",
       "}\n",
       "\n",
       ".sk-estimator-doc-link.fitted span {\n",
       "  /* fitted */\n",
       "  background: var(--sklearn-color-fitted-level-0);\n",
       "  border: var(--sklearn-color-fitted-level-3);\n",
       "}\n",
       "\n",
       ".sk-estimator-doc-link:hover span {\n",
       "  display: block;\n",
       "}\n",
       "\n",
       "/* \"?\"-specific style due to the `<a>` HTML tag */\n",
       "\n",
       "#sk-container-id-3 a.estimator_doc_link {\n",
       "  float: right;\n",
       "  font-size: 1rem;\n",
       "  line-height: 1em;\n",
       "  font-family: monospace;\n",
       "  background-color: var(--sklearn-color-background);\n",
       "  border-radius: 1rem;\n",
       "  height: 1rem;\n",
       "  width: 1rem;\n",
       "  text-decoration: none;\n",
       "  /* unfitted */\n",
       "  color: var(--sklearn-color-unfitted-level-1);\n",
       "  border: var(--sklearn-color-unfitted-level-1) 1pt solid;\n",
       "}\n",
       "\n",
       "#sk-container-id-3 a.estimator_doc_link.fitted {\n",
       "  /* fitted */\n",
       "  border: var(--sklearn-color-fitted-level-1) 1pt solid;\n",
       "  color: var(--sklearn-color-fitted-level-1);\n",
       "}\n",
       "\n",
       "/* On hover */\n",
       "#sk-container-id-3 a.estimator_doc_link:hover {\n",
       "  /* unfitted */\n",
       "  background-color: var(--sklearn-color-unfitted-level-3);\n",
       "  color: var(--sklearn-color-background);\n",
       "  text-decoration: none;\n",
       "}\n",
       "\n",
       "#sk-container-id-3 a.estimator_doc_link.fitted:hover {\n",
       "  /* fitted */\n",
       "  background-color: var(--sklearn-color-fitted-level-3);\n",
       "}\n",
       "</style><div id=\"sk-container-id-3\" class=\"sk-top-container\"><div class=\"sk-text-repr-fallback\"><pre>LassoCV()</pre><b>In a Jupyter environment, please rerun this cell to show the HTML representation or trust the notebook. <br />On GitHub, the HTML representation is unable to render, please try loading this page with nbviewer.org.</b></div><div class=\"sk-container\" hidden><div class=\"sk-item\"><div class=\"sk-estimator fitted sk-toggleable\"><input class=\"sk-toggleable__control sk-hidden--visually\" id=\"sk-estimator-id-3\" type=\"checkbox\" checked><label for=\"sk-estimator-id-3\" class=\"sk-toggleable__label fitted sk-toggleable__label-arrow fitted\">&nbsp;&nbsp;LassoCV<a class=\"sk-estimator-doc-link fitted\" rel=\"noreferrer\" target=\"_blank\" href=\"https://scikit-learn.org/1.5/modules/generated/sklearn.linear_model.LassoCV.html\">?<span>Documentation for LassoCV</span></a><span class=\"sk-estimator-doc-link fitted\">i<span>Fitted</span></span></label><div class=\"sk-toggleable__content fitted\"><pre>LassoCV()</pre></div> </div></div></div></div>"
      ],
      "text/plain": [
       "LassoCV()"
      ]
     },
     "execution_count": 209,
     "metadata": {},
     "output_type": "execute_result"
    }
   ],
   "source": [
    "reg.fit(X_train_minmax, y_train_encoded)"
   ]
  },
  {
   "cell_type": "code",
   "execution_count": 210,
   "id": "7d2c7059",
   "metadata": {},
   "outputs": [
    {
     "data": {
      "text/plain": [
       "Age at Injury                     -4.749607\n",
       "Average Weekly Wage               -1.791745\n",
       "Birth Year                        -5.217547\n",
       "IME-4 Count                       14.048034\n",
       "Number of Dependents              -0.004821\n",
       "Accident to C-2 Days              -1.128574\n",
       "Accident to Assembly Days         11.925741\n",
       "Accident to First Hearing Days   -13.929907\n",
       "dtype: float64"
      ]
     },
     "execution_count": 210,
     "metadata": {},
     "output_type": "execute_result"
    }
   ],
   "source": [
    "coef = pd.Series(reg.coef_, index=X_train_minmax.columns)\n",
    "coef"
   ]
  },
  {
   "cell_type": "code",
   "execution_count": 211,
   "id": "d380aa0b",
   "metadata": {},
   "outputs": [
    {
     "name": "stdout",
     "output_type": "stream",
     "text": [
      "Lasso picked 8 variables and eliminated the other 0 variables\n"
     ]
    }
   ],
   "source": [
    "print(\n",
    "    \"Lasso picked \"\n",
    "    + str(sum(coef != 0))\n",
    "    + \" variables and eliminated the other \"\n",
    "    + str(sum(coef == 0))\n",
    "    + \" variables\"\n",
    ")"
   ]
  },
  {
   "cell_type": "code",
   "execution_count": 212,
   "id": "b9c23c13",
   "metadata": {},
   "outputs": [
    {
     "data": {
      "text/plain": [
       "Accident to First Hearing Days   -13.929907\n",
       "Birth Year                        -5.217547\n",
       "Age at Injury                     -4.749607\n",
       "Average Weekly Wage               -1.791745\n",
       "Accident to C-2 Days              -1.128574\n",
       "Number of Dependents              -0.004821\n",
       "Accident to Assembly Days         11.925741\n",
       "IME-4 Count                       14.048034\n",
       "dtype: float64"
      ]
     },
     "execution_count": 212,
     "metadata": {},
     "output_type": "execute_result"
    }
   ],
   "source": [
    "coef.sort_values()"
   ]
  },
  {
   "cell_type": "code",
   "execution_count": 213,
   "id": "53d2a5d1",
   "metadata": {},
   "outputs": [
    {
     "data": {
      "image/png": "[encoded data removed]",
      "text/plain": [
       "<Figure size 800x1000 with 1 Axes>"
      ]
     },
     "metadata": {},
     "output_type": "display_data"
    }
   ],
   "source": [
    "plot_importance(coef, \"Lasso\")"
   ]
  },
  {
   "cell_type": "markdown",
   "id": "ea258081",
   "metadata": {},
   "source": [
    "## Final Insights"
   ]
  },
  {
   "cell_type": "markdown",
   "id": "226d3bf1",
   "metadata": {},
   "source": [
    "<hr>\n",
    "\n",
    "### Numerical Data\n",
    "\n",
    "| Predictor | Spearman | RFE LR | RFECV LR | Lasso | What to do? (One possible way to \"solve\") |\n",
    "| --- | --- | --- | --- |--- |---|\n",
    "| Age at Injury | NO | NO | NO | YES | - |\n",
    "| Average Weekly Wage | - | NO | NO | NO | - |\n",
    "| Birth Year | - | YES | YES | YES | Keep |\n",
    "| IME-4 Count | - | YES | YES | YES | Keep |\n",
    "| Number of Dependents | - | NO | NO | NO | - |\n",
    "| Accident to C-2 Days  | NO | YES | YES | NO | - |\n",
    "| Accident to Assembly Days | - | YES | YES | YES | Keep |\n",
    "| Accident to First Hearing Days  | - | YES | YES | YES | Keep |\n",
    "\n",
    "\n",
    "### Categorical Data\n",
    "\n",
    "| Predictor | Chi-Square | Cramér's V | \n",
    "| --- | --- | --- | \n",
    "| Alternative Dispute Resolution | - | - | \n",
    "| Attorney/Representative | - | - | \n",
    "| Carrier Name | - | - | \n",
    "| Carrier Type | - | - | \n",
    "| County of Injury | - | - | \n",
    "| COVID-19 Indicator | - | - | \n",
    "| District Name | - | - | \n",
    "| Medical Fee Region | - | - | \n",
    "| Agreement Reached | - | - | \n",
    "| WCIO Cause of Injury Code SUPRA | - | - | \n",
    "| WCIO Nature of Injury Code SUPRA | - | - | \n",
    "| WCIO Part Of Body Code SUPRA | - | - | \n",
    "| Male | - | - | "
   ]
  },
  {
   "cell_type": "markdown",
   "id": "32600548",
   "metadata": {},
   "source": [
    "# <span style=\"color:#e0bda8\">7. Modelling and Assessment</span>"
   ]
  },
  {
   "cell_type": "code",
   "execution_count": 172,
   "id": "698143e7",
   "metadata": {},
   "outputs": [],
   "source": [
    "X_train_categorical_labelencoded = X_train_categorical.copy()\n",
    "X_val_categorical_labelencoded = X_val_categorical.copy()\n",
    "le = LabelEncoder()\n",
    "for var in X_train_categorical.select_dtypes(include=[\"object\"]):\n",
    "    X_train_categorical_labelencoded[var] = le.fit_transform(X_train_categorical[var])\n",
    "    X_val_categorical_labelencoded[var] = le.fit_transform(X_val_categorical[var])"
   ]
  },
  {
   "cell_type": "code",
   "execution_count": 173,
   "id": "84ed1a4d",
   "metadata": {},
   "outputs": [],
   "source": [
    "X_train = pd.concat((X_train, X_train_categorical_labelencoded), axis=1)\n",
    "X_val = pd.concat((X_val, X_val_categorical_labelencoded), axis=1)"
   ]
  },
  {
   "cell_type": "code",
   "execution_count": null,
   "id": "a85caa20",
   "metadata": {},
   "outputs": [],
   "source": [
    "# minmax = MinMaxScaler()\n",
    "# X_train_scaled = minmax.fit_transform(X_train)\n",
    "# X_val_scaled = minmax.transform(X_val)"
   ]
  },
  {
   "cell_type": "code",
   "execution_count": null,
   "id": "06f68483",
   "metadata": {},
   "outputs": [],
   "source": [
    "# X_train_scaled = pd.DataFrame(X_train_scaled, columns=X_train.columns).set_index(\n",
    "#     X_train.index\n",
    "# )\n",
    "\n",
    "# X_val_scaled = pd.DataFrame(X_val_scaled, columns=X_val.columns).set_index(X_val.index)"
   ]
  },
  {
   "cell_type": "code",
   "execution_count": null,
   "id": "fc38bc60",
   "metadata": {},
   "outputs": [],
   "source": [
    "# X_train_scaled = X_train_scaled.drop(\n",
    "#     [\n",
    "#         \"Age at Injury\",\n",
    "#         \"Average Weekly Wage\",\n",
    "#         \"Number of Dependents\",\n",
    "#         \"Accident to C-2 Days\",\n",
    "#     ],\n",
    "#     axis=1,\n",
    "# )\n",
    "\n",
    "\n",
    "# X_val_scaled = X_val_scaled.drop(\n",
    "#     [\n",
    "#         \"Age at Injury\",\n",
    "#         \"Average Weekly Wage\",\n",
    "#         \"Number of Dependents\",\n",
    "#         \"Accident to C-2 Days\",\n",
    "#     ],\n",
    "#     axis=1,\n",
    "# )"
   ]
  },
  {
   "cell_type": "code",
   "execution_count": 17,
   "id": "6c882857",
   "metadata": {},
   "outputs": [],
   "source": [
    "def select_best_models(X_train, X_val, y_train, y_val, model):\n",
    "    # Train the model on the training set\n",
    "    model.fit(X_train, y_train)\n",
    "\n",
    "    # Make predictions on both training and validation sets\n",
    "    predictions_train = model.predict(X_train)\n",
    "    predictions_val = model.predict(X_val)\n",
    "\n",
    "    # Calculate the F1 score with macro averaging for both sets\n",
    "    avg_train = round(f1_score(y_train, predictions_train, average=\"macro\"), 3)\n",
    "    avg_val = round(f1_score(y_val, predictions_val, average=\"macro\"), 3)\n",
    "\n",
    "    return (\n",
    "        avg_train,\n",
    "        avg_val,\n",
    "    )\n",
    "\n",
    "\n",
    "def show_results(models, X_train, X_val, y_train, y_val):\n",
    "    df = pd.DataFrame(\n",
    "        columns=[\"Train\", \"Validation\", \"Diff\"], index=list(models.keys())\n",
    "    )\n",
    "    count = 0\n",
    "    for label, model in models.items():\n",
    "        avg_train, avg_val = select_best_models(X_train, X_val, y_train, y_val, model)\n",
    "\n",
    "        # Store the results in the DataFrame\n",
    "        df.iloc[count] = (\n",
    "            str(avg_train),\n",
    "            str(avg_val),\n",
    "            abs(avg_train - avg_val),\n",
    "        )\n",
    "        count += 1\n",
    "    return df"
   ]
  },
  {
   "cell_type": "code",
   "execution_count": 18,
   "id": "54fc61b4",
   "metadata": {},
   "outputs": [],
   "source": [
    "models = {\n",
    "    \"Logistic Regression\": LogisticRegression(max_iter=10000),\n",
    "    \"KNN\": KNeighborsClassifier(),\n",
    "    \"DT\": DecisionTreeClassifier(),\n",
    "    \"NN\": MLPClassifier(max_iter=10000, random_state=99),\n",
    "    \"SVC\": SVC(max_iter=10000),\n",
    "    \"Categorical NB\": CategoricalNB(),\n",
    "}"
   ]
  },
  {
   "cell_type": "code",
   "execution_count": null,
   "id": "3b6d401f",
   "metadata": {},
   "outputs": [
    {
     "name": "stderr",
     "output_type": "stream",
     "text": [
      "c:\\Users\\Diogo\\OneDrive - NOVAIMS\\IMS - Data Science\\MDS\\.studyenv\\Lib\\site-packages\\joblib\\externals\\loky\\backend\\context.py:136: UserWarning: Could not find the number of physical cores for the following reason:\n",
      "[WinError 2] The system cannot find the file specified\n",
      "Returning the number of logical cores instead. You can silence this warning by setting LOKY_MAX_CPU_COUNT to the number of cores you want to use.\n",
      "  warnings.warn(\n",
      "  File \"c:\\Users\\Diogo\\OneDrive - NOVAIMS\\IMS - Data Science\\MDS\\.studyenv\\Lib\\site-packages\\joblib\\externals\\loky\\backend\\context.py\", line 257, in _count_physical_cores\n",
      "    cpu_info = subprocess.run(\n",
      "               ^^^^^^^^^^^^^^^\n",
      "  File \"C:\\Users\\Diogo\\AppData\\Local\\Programs\\Python\\Python311\\Lib\\subprocess.py\", line 548, in run\n",
      "    with Popen(*popenargs, **kwargs) as process:\n",
      "         ^^^^^^^^^^^^^^^^^^^^^^^^^^^\n",
      "  File \"C:\\Users\\Diogo\\AppData\\Local\\Programs\\Python\\Python311\\Lib\\subprocess.py\", line 1024, in __init__\n",
      "    self._execute_child(args, executable, preexec_fn, close_fds,\n",
      "  File \"C:\\Users\\Diogo\\AppData\\Local\\Programs\\Python\\Python311\\Lib\\subprocess.py\", line 1493, in _execute_child\n",
      "    hp, ht, pid, tid = _winapi.CreateProcess(executable, args,\n",
      "                       ^^^^^^^^^^^^^^^^^^^^^^^^^^^^^^^^^^^^^^^\n",
      "c:\\Users\\Diogo\\OneDrive - NOVAIMS\\IMS - Data Science\\MDS\\.studyenv\\Lib\\site-packages\\sklearn\\svm\\_base.py:297: ConvergenceWarning: Solver terminated early (max_iter=10000).  Consider pre-processing your data with StandardScaler or MinMaxScaler.\n",
      "  warnings.warn(\n"
     ]
    },
    {
     "data": {
      "text/html": [
       "<div>\n",
       "<style scoped>\n",
       "    .dataframe tbody tr th:only-of-type {\n",
       "        vertical-align: middle;\n",
       "    }\n",
       "\n",
       "    .dataframe tbody tr th {\n",
       "        vertical-align: top;\n",
       "    }\n",
       "\n",
       "    .dataframe thead th {\n",
       "        text-align: right;\n",
       "    }\n",
       "</style>\n",
       "<table border=\"1\" class=\"dataframe\">\n",
       "  <thead>\n",
       "    <tr style=\"text-align: right;\">\n",
       "      <th></th>\n",
       "      <th>Train</th>\n",
       "      <th>Validation</th>\n",
       "      <th>Diff</th>\n",
       "    </tr>\n",
       "  </thead>\n",
       "  <tbody>\n",
       "    <tr>\n",
       "      <th>Logistic Regression</th>\n",
       "      <td>0.212</td>\n",
       "      <td>0.212</td>\n",
       "      <td>0.0</td>\n",
       "    </tr>\n",
       "    <tr>\n",
       "      <th>KNN</th>\n",
       "      <td>0.369</td>\n",
       "      <td>0.254</td>\n",
       "      <td>0.115</td>\n",
       "    </tr>\n",
       "    <tr>\n",
       "      <th>DT</th>\n",
       "      <td>1.0</td>\n",
       "      <td>0.267</td>\n",
       "      <td>0.733</td>\n",
       "    </tr>\n",
       "    <tr>\n",
       "      <th>NN</th>\n",
       "      <td>0.306</td>\n",
       "      <td>0.301</td>\n",
       "      <td>0.005</td>\n",
       "    </tr>\n",
       "    <tr>\n",
       "      <th>SVC</th>\n",
       "      <td>0.168</td>\n",
       "      <td>0.166</td>\n",
       "      <td>0.002</td>\n",
       "    </tr>\n",
       "    <tr>\n",
       "      <th>Categorical NB</th>\n",
       "      <td>0.171</td>\n",
       "      <td>0.169</td>\n",
       "      <td>0.002</td>\n",
       "    </tr>\n",
       "  </tbody>\n",
       "</table>\n",
       "</div>"
      ],
      "text/plain": [
       "                     Train Validation   Diff\n",
       "Logistic Regression  0.212      0.212    0.0\n",
       "KNN                  0.369      0.254  0.115\n",
       "DT                     1.0      0.267  0.733\n",
       "NN                   0.306      0.301  0.005\n",
       "SVC                  0.168      0.166  0.002\n",
       "Categorical NB       0.171      0.169  0.002"
      ]
     },
     "execution_count": 19,
     "metadata": {},
     "output_type": "execute_result"
    }
   ],
   "source": [
    "# show_results(\n",
    "#     models, X_train_scaled, X_val_scaled, y_train.values.ravel(), y_val.values.ravel()\n",
    "# )"
   ]
  },
  {
   "cell_type": "markdown",
   "id": "a2eb64fb",
   "metadata": {},
   "source": [
    "The best base model we obtained using f1 macro score was Neural networks"
   ]
  },
  {
   "cell_type": "code",
   "execution_count": null,
   "id": "44f0f983",
   "metadata": {},
   "outputs": [
    {
     "name": "stderr",
     "output_type": "stream",
     "text": [
      "c:\\Users\\Diogo\\OneDrive - NOVAIMS\\IMS - Data Science\\MDS\\.studyenv\\Lib\\site-packages\\sklearn\\metrics\\_classification.py:1531: UndefinedMetricWarning: Precision is ill-defined and being set to 0.0 in labels with no predicted samples. Use `zero_division` parameter to control this behavior.\n",
      "  _warn_prf(average, modifier, f\"{metric.capitalize()} is\", len(result))\n",
      "c:\\Users\\Diogo\\OneDrive - NOVAIMS\\IMS - Data Science\\MDS\\.studyenv\\Lib\\site-packages\\sklearn\\metrics\\_classification.py:1531: UndefinedMetricWarning: Precision is ill-defined and being set to 0.0 in labels with no predicted samples. Use `zero_division` parameter to control this behavior.\n",
      "  _warn_prf(average, modifier, f\"{metric.capitalize()} is\", len(result))\n",
      "c:\\Users\\Diogo\\OneDrive - NOVAIMS\\IMS - Data Science\\MDS\\.studyenv\\Lib\\site-packages\\sklearn\\metrics\\_classification.py:1531: UndefinedMetricWarning: Precision is ill-defined and being set to 0.0 in labels with no predicted samples. Use `zero_division` parameter to control this behavior.\n",
      "  _warn_prf(average, modifier, f\"{metric.capitalize()} is\", len(result))\n"
     ]
    }
   ],
   "source": [
    "# model = MLPClassifier(max_iter=10000, random_state=99)\n",
    "# model.fit(X_train_scaled, y_train.values.ravel())\n",
    "\n",
    "# predictions_train = model.predict(X_train_scaled)\n",
    "# predictions_val = model.predict(X_val_scaled)\n",
    "\n",
    "# report_train = classification_report(\n",
    "#     y_train,\n",
    "#     predictions_train,\n",
    "# )\n",
    "# report_val = classification_report(y_val, predictions_val)"
   ]
  },
  {
   "cell_type": "code",
   "execution_count": null,
   "id": "86b9a5a6",
   "metadata": {},
   "outputs": [
    {
     "name": "stdout",
     "output_type": "stream",
     "text": [
      "                 precision    recall  f1-score   support\n",
      "\n",
      "   1. CANCELLED       0.52      0.21      0.30      8734\n",
      "    2. NON-COMP       0.72      0.95      0.82    203754\n",
      "    3. MED ONLY       0.43      0.04      0.07     48234\n",
      "   4. TEMPORARY       0.65      0.56      0.60    103955\n",
      "5. PPD SCH LOSS       0.56      0.58      0.57     33796\n",
      "     6. PPD NSL       0.50      0.00      0.00      2948\n",
      "         7. PTD       1.00      0.01      0.03        68\n",
      "       8. DEATH       0.44      0.03      0.06       329\n",
      "\n",
      "       accuracy                           0.68    401818\n",
      "      macro avg       0.60      0.30      0.31    401818\n",
      "   weighted avg       0.65      0.68      0.63    401818\n",
      "\n"
     ]
    }
   ],
   "source": [
    "# print(report_train)"
   ]
  },
  {
   "cell_type": "code",
   "execution_count": null,
   "id": "7a7e7ec1",
   "metadata": {},
   "outputs": [
    {
     "name": "stdout",
     "output_type": "stream",
     "text": [
      "                 precision    recall  f1-score   support\n",
      "\n",
      "   1. CANCELLED       0.52      0.21      0.29      3743\n",
      "    2. NON-COMP       0.72      0.95      0.82     87324\n",
      "    3. MED ONLY       0.42      0.04      0.07     20672\n",
      "   4. TEMPORARY       0.65      0.56      0.60     44552\n",
      "5. PPD SCH LOSS       0.56      0.57      0.56     14484\n",
      "     6. PPD NSL       1.00      0.00      0.00      1263\n",
      "         7. PTD       0.00      0.00      0.00        29\n",
      "       8. DEATH       0.45      0.04      0.07       141\n",
      "\n",
      "       accuracy                           0.68    172208\n",
      "      macro avg       0.54      0.29      0.30    172208\n",
      "   weighted avg       0.65      0.68      0.63    172208\n",
      "\n"
     ]
    }
   ],
   "source": [
    "# print(report_val)"
   ]
  },
  {
   "cell_type": "markdown",
   "id": "52da5dd3",
   "metadata": {},
   "source": [
    "The reports show:\n",
    "- The model struggles with the less represented categories (DEATH, PTD, PPD NSL, and MED ONLY) showing very low recall (near 0).\n",
    "- NON-COMP and TEMPORARY categories have relatively high precision and recall, indicating better performance in predicting these classes.\n",
    "- The PPD NSL and PTD categories have extreme precision values (1.00 for PPD NSL in training) but very low recall, suggesting the model is not identifying instances of these categories effectively.\n",
    "- The model's performance is imbalanced, as evidenced by the macro average recall being much lower than the weighted average."
   ]
  },
  {
   "cell_type": "markdown",
   "id": "6ccef710",
   "metadata": {},
   "source": [
    "Embeddings"
   ]
  },
  {
   "cell_type": "code",
   "execution_count": 88,
   "id": "7fdb903a",
   "metadata": {},
   "outputs": [
    {
     "name": "stderr",
     "output_type": "stream",
     "text": [
      "c:\\Users\\Diogo\\OneDrive - NOVAIMS\\IMS - Data Science\\MDS\\.studyenv\\Lib\\site-packages\\huggingface_hub\\file_download.py:1132: FutureWarning: `resume_download` is deprecated and will be removed in version 1.0.0. Downloads always resume when possible. If you want to force a new download, use `force_download=True`.\n",
      "  warnings.warn(\n"
     ]
    }
   ],
   "source": [
    "tokenizer = AutoTokenizer.from_pretrained(\"bert-base-uncased\")\n",
    "model = AutoModel.from_pretrained(\"bert-base-uncased\")\n",
    "\n",
    "\n",
    "def get_vectors(text):\n",
    "    inputs = tokenizer(\n",
    "        text, padding=True, return_tensors=\"pt\", truncation=True, max_length=512\n",
    "    )\n",
    "\n",
    "    with torch.no_grad():\n",
    "        outputs = model(**inputs)\n",
    "\n",
    "    embeddings = outputs.last_hidden_state[:, 0, :].squeeze().numpy()\n",
    "\n",
    "    return np.mean(embeddings)"
   ]
  },
  {
   "cell_type": "code",
   "execution_count": 89,
   "id": "b5111e04",
   "metadata": {},
   "outputs": [],
   "source": [
    "X_train_categorical_embeddings = X_train_categorical.copy()\n",
    "for var in X_train_categorical.select_dtypes(include=[\"object\"]).columns:\n",
    "    unique_values = X_train_categorical[var].unique()\n",
    "    embeddings = {i: get_vectors(i) for i in unique_values}\n",
    "    X_train_categorical_embeddings[var] = X_train_categorical[var].map(\n",
    "        lambda x: embeddings.get(x)\n",
    "    )\n",
    "\n",
    "X_val_categorical_embeddings = X_val_categorical.copy()\n",
    "for var in X_val_categorical.select_dtypes(include=[\"object\"]).columns:\n",
    "    unique_values = X_val_categorical[var].unique()\n",
    "    embeddings = {i: get_vectors(i) for i in unique_values}\n",
    "    X_val_categorical_embeddings[var] = X_val_categorical[var].map(\n",
    "        lambda x: embeddings.get(x)\n",
    "    )"
   ]
  },
  {
   "cell_type": "code",
   "execution_count": 90,
   "id": "e1e0ee0a",
   "metadata": {},
   "outputs": [],
   "source": [
    "X_train_embeddings = pd.concat((X_train_minmax, X_train_categorical_embeddings), axis=1)\n",
    "X_val_embeddings = pd.concat((X_val_minmax, X_val_categorical_embeddings), axis=1)\n",
    "\n",
    "\n",
    "X_train_embeddings = X_train_embeddings.drop(\n",
    "    [\n",
    "        \"Age at Injury\",\n",
    "        \"Average Weekly Wage\",\n",
    "        \"Number of Dependents\",\n",
    "        \"Accident to C-2 Days\",\n",
    "    ],\n",
    "    axis=1,\n",
    ")\n",
    "\n",
    "\n",
    "X_val_embeddings = X_val_embeddings.drop(\n",
    "    [\n",
    "        \"Age at Injury\",\n",
    "        \"Average Weekly Wage\",\n",
    "        \"Number of Dependents\",\n",
    "        \"Accident to C-2 Days\",\n",
    "    ],\n",
    "    axis=1,\n",
    ")"
   ]
  },
  {
   "cell_type": "code",
   "execution_count": null,
   "id": "3d7e98c2",
   "metadata": {},
   "outputs": [
    {
     "name": "stderr",
     "output_type": "stream",
     "text": [
      "c:\\Users\\Diogo\\OneDrive - NOVAIMS\\IMS - Data Science\\MDS\\.studyenv\\Lib\\site-packages\\sklearn\\metrics\\_classification.py:1531: UndefinedMetricWarning: Precision is ill-defined and being set to 0.0 in labels with no predicted samples. Use `zero_division` parameter to control this behavior.\n",
      "  _warn_prf(average, modifier, f\"{metric.capitalize()} is\", len(result))\n",
      "c:\\Users\\Diogo\\OneDrive - NOVAIMS\\IMS - Data Science\\MDS\\.studyenv\\Lib\\site-packages\\sklearn\\metrics\\_classification.py:1531: UndefinedMetricWarning: Precision is ill-defined and being set to 0.0 in labels with no predicted samples. Use `zero_division` parameter to control this behavior.\n",
      "  _warn_prf(average, modifier, f\"{metric.capitalize()} is\", len(result))\n",
      "c:\\Users\\Diogo\\OneDrive - NOVAIMS\\IMS - Data Science\\MDS\\.studyenv\\Lib\\site-packages\\sklearn\\metrics\\_classification.py:1531: UndefinedMetricWarning: Precision is ill-defined and being set to 0.0 in labels with no predicted samples. Use `zero_division` parameter to control this behavior.\n",
      "  _warn_prf(average, modifier, f\"{metric.capitalize()} is\", len(result))\n",
      "c:\\Users\\Diogo\\OneDrive - NOVAIMS\\IMS - Data Science\\MDS\\.studyenv\\Lib\\site-packages\\sklearn\\metrics\\_classification.py:1531: UndefinedMetricWarning: Precision is ill-defined and being set to 0.0 in labels with no predicted samples. Use `zero_division` parameter to control this behavior.\n",
      "  _warn_prf(average, modifier, f\"{metric.capitalize()} is\", len(result))\n",
      "c:\\Users\\Diogo\\OneDrive - NOVAIMS\\IMS - Data Science\\MDS\\.studyenv\\Lib\\site-packages\\sklearn\\metrics\\_classification.py:1531: UndefinedMetricWarning: Precision is ill-defined and being set to 0.0 in labels with no predicted samples. Use `zero_division` parameter to control this behavior.\n",
      "  _warn_prf(average, modifier, f\"{metric.capitalize()} is\", len(result))\n",
      "c:\\Users\\Diogo\\OneDrive - NOVAIMS\\IMS - Data Science\\MDS\\.studyenv\\Lib\\site-packages\\sklearn\\metrics\\_classification.py:1531: UndefinedMetricWarning: Precision is ill-defined and being set to 0.0 in labels with no predicted samples. Use `zero_division` parameter to control this behavior.\n",
      "  _warn_prf(average, modifier, f\"{metric.capitalize()} is\", len(result))\n"
     ]
    }
   ],
   "source": [
    "model = MLPClassifier(max_iter=10000, random_state=99)\n",
    "model.fit(X_train_embeddings, y_train.values.ravel())\n",
    "\n",
    "predictions_train = model.predict(X_train_embeddings)\n",
    "predictions_val = model.predict(X_val_embeddings)\n",
    "\n",
    "report_train = classification_report(\n",
    "    y_train,\n",
    "    predictions_train,\n",
    ")\n",
    "report_val = classification_report(y_val, predictions_val)"
   ]
  },
  {
   "cell_type": "code",
   "execution_count": 98,
   "id": "2798d783",
   "metadata": {},
   "outputs": [
    {
     "name": "stdout",
     "output_type": "stream",
     "text": [
      "                 precision    recall  f1-score   support\n",
      "\n",
      "   1. CANCELLED       0.61      0.00      0.01      8734\n",
      "    2. NON-COMP       0.70      0.96      0.81    203754\n",
      "    3. MED ONLY       0.31      0.01      0.02     48234\n",
      "   4. TEMPORARY       0.61      0.57      0.59    103955\n",
      "5. PPD SCH LOSS       0.60      0.41      0.49     33796\n",
      "     6. PPD NSL       0.00      0.00      0.00      2948\n",
      "         7. PTD       0.00      0.00      0.00        68\n",
      "       8. DEATH       0.14      0.00      0.01       329\n",
      "\n",
      "       accuracy                           0.67    401818\n",
      "      macro avg       0.37      0.24      0.24    401818\n",
      "   weighted avg       0.61      0.67      0.61    401818\n",
      "\n"
     ]
    }
   ],
   "source": [
    "print(report_train)"
   ]
  },
  {
   "cell_type": "code",
   "execution_count": 99,
   "id": "6b5145a7",
   "metadata": {},
   "outputs": [
    {
     "name": "stdout",
     "output_type": "stream",
     "text": [
      "                 precision    recall  f1-score   support\n",
      "\n",
      "   1. CANCELLED       0.59      0.01      0.01      3743\n",
      "    2. NON-COMP       0.70      0.96      0.81     87324\n",
      "    3. MED ONLY       0.32      0.01      0.02     20672\n",
      "   4. TEMPORARY       0.61      0.57      0.59     44552\n",
      "5. PPD SCH LOSS       0.60      0.41      0.49     14484\n",
      "     6. PPD NSL       0.00      0.00      0.00      1263\n",
      "         7. PTD       0.00      0.00      0.00        29\n",
      "       8. DEATH       0.60      0.02      0.04       141\n",
      "\n",
      "       accuracy                           0.67    172208\n",
      "      macro avg       0.43      0.25      0.24    172208\n",
      "   weighted avg       0.61      0.67      0.60    172208\n",
      "\n"
     ]
    }
   ],
   "source": [
    "print(report_val)"
   ]
  },
  {
   "cell_type": "markdown",
   "id": "4601fe35",
   "metadata": {},
   "source": [
    "- Using mean embeddings for encoding categorical variables didn't help"
   ]
  },
  {
   "cell_type": "markdown",
   "id": "644421a3",
   "metadata": {},
   "source": [
    "SMOTE"
   ]
  },
  {
   "cell_type": "code",
   "execution_count": null,
   "id": "f9835ed2",
   "metadata": {},
   "outputs": [],
   "source": [
    "# smote = SMOTE(random_state=42)\n",
    "\n",
    "# X_resampled, y_resampled = smote.fit_resample(X_train_scaled, y_train.values.ravel())"
   ]
  },
  {
   "cell_type": "code",
   "execution_count": null,
   "id": "c3c940a0",
   "metadata": {},
   "outputs": [],
   "source": [
    "# model = MLPClassifier(max_iter=10000, random_state=99)\n",
    "# model.fit(X_resampled, y_resampled)\n",
    "\n",
    "# predictions_train = model.predict(X_resampled)\n",
    "# predictions_val = model.predict(X_val_scaled)\n",
    "\n",
    "# report_train = classification_report(\n",
    "#     y_resampled,\n",
    "#     predictions_train,\n",
    "# )\n",
    "# report_val = classification_report(y_val, predictions_val)"
   ]
  },
  {
   "cell_type": "code",
   "execution_count": 136,
   "id": "47aafd4f",
   "metadata": {},
   "outputs": [
    {
     "name": "stdout",
     "output_type": "stream",
     "text": [
      "                 precision    recall  f1-score   support\n",
      "\n",
      "   1. CANCELLED       0.77      0.80      0.78    203754\n",
      "    2. NON-COMP       0.52      0.68      0.59    203754\n",
      "    3. MED ONLY       0.43      0.29      0.35    203754\n",
      "   4. TEMPORARY       0.55      0.29      0.38    203754\n",
      "5. PPD SCH LOSS       0.59      0.81      0.69    203754\n",
      "     6. PPD NSL       0.73      0.77      0.75    203754\n",
      "         7. PTD       0.99      1.00      1.00    203754\n",
      "       8. DEATH       0.96      0.99      0.98    203754\n",
      "\n",
      "       accuracy                           0.70   1630032\n",
      "      macro avg       0.69      0.70      0.69   1630032\n",
      "   weighted avg       0.69      0.70      0.69   1630032\n",
      "\n"
     ]
    }
   ],
   "source": [
    "print(report_train)"
   ]
  },
  {
   "cell_type": "code",
   "execution_count": 137,
   "id": "efe0d0bb",
   "metadata": {},
   "outputs": [
    {
     "name": "stdout",
     "output_type": "stream",
     "text": [
      "                 precision    recall  f1-score   support\n",
      "\n",
      "   1. CANCELLED       0.17      0.70      0.27      3743\n",
      "    2. NON-COMP       0.76      0.69      0.72     87324\n",
      "    3. MED ONLY       0.21      0.26      0.23     20672\n",
      "   4. TEMPORARY       0.70      0.27      0.39     44552\n",
      "5. PPD SCH LOSS       0.46      0.74      0.57     14484\n",
      "     6. PPD NSL       0.08      0.59      0.14      1263\n",
      "         7. PTD       0.00      0.03      0.01        29\n",
      "       8. DEATH       0.04      0.48      0.07       141\n",
      "\n",
      "       accuracy                           0.53    172208\n",
      "      macro avg       0.30      0.47      0.30    172208\n",
      "   weighted avg       0.64      0.53      0.55    172208\n",
      "\n"
     ]
    }
   ],
   "source": [
    "print(report_val)"
   ]
  },
  {
   "cell_type": "markdown",
   "id": "5d8d661f",
   "metadata": {},
   "source": [
    "The SMOTE technique improves training but doesn't improve validation. Meaning is making the model overfit the data."
   ]
  },
  {
   "cell_type": "markdown",
   "id": "a3d22c25",
   "metadata": {},
   "source": [
    "Predicting test with baseline_nn"
   ]
  },
  {
   "cell_type": "markdown",
   "id": "1c7c9b62",
   "metadata": {},
   "source": [
    "# <span style=\"color:#e0bda8\">8. Model Deployment</span>"
   ]
  },
  {
   "cell_type": "code",
   "execution_count": 175,
   "id": "cfade8fb",
   "metadata": {},
   "outputs": [],
   "source": [
    "test_df = pd.read_csv(\"./resources/test_data.csv\")\n",
    "test_df.set_index(\"Claim Identifier\", inplace=True)"
   ]
  },
  {
   "cell_type": "code",
   "execution_count": 176,
   "id": "21d15c3e",
   "metadata": {},
   "outputs": [],
   "source": [
    "test_df[\"Accident Date\"] = pd.to_datetime(test_df[\"Accident Date\"])\n",
    "test_df[\"Assembly Date\"] = pd.to_datetime(test_df[\"Assembly Date\"])\n",
    "test_df[\"First Hearing Date\"] = pd.to_datetime(test_df[\"First Hearing Date\"])\n",
    "test_df[\"Age at Injury\"] = pd.to_datetime(test_df[\"Age at Injury\"])\n",
    "test_df[\"Accident Date\"] = test_df[\"Accident Date\"].fillna(median_accident_date)\n",
    "test_df[\"Accident Date\"] = test_df[\"Accident Date\"].fillna(median_accident_date)\n",
    "\n",
    "max_date = test_df[\"First Hearing Date\"].max()\n",
    "test_df[\"First Hearing Date\"] = test_df[\"First Hearing Date\"].fillna(max_date)\n",
    "test_df[\"First Hearing Date\"] = test_df[\"First Hearing Date\"].fillna(max_date)\n",
    "\n",
    "\n",
    "test_df[\"Accident to Assembly Days\"] = (\n",
    "    test_df[\"Assembly Date\"] - test_df[\"Accident Date\"]\n",
    ").dt.days\n",
    "test_df[\"Accident to First Hearing Days\"] = (\n",
    "    test_df[\"First Hearing Date\"] - test_df[\"Accident Date\"]\n",
    ").dt.days\n",
    "\n",
    "test_df[\"Male\"] = np.select(\n",
    "    [\n",
    "        test_df[\"Gender\"] == \"M\",\n",
    "        test_df[\"Gender\"] == \"F\",\n",
    "        test_df[\"Gender\"] == \"X\",\n",
    "        test_df[\"Gender\"] == \"U\",\n",
    "    ],\n",
    "    [1, 0, 0, 0],\n",
    ")"
   ]
  },
  {
   "cell_type": "code",
   "execution_count": 177,
   "id": "0526a0c0",
   "metadata": {},
   "outputs": [],
   "source": [
    "# I. Burn or Scald - Heat or Cold Exposures - Contact With\n",
    "burn_or_scald = [\"1\", \"2\", \"3\", \"4\", \"5\", \"6\", \"7\", \"8\", \"9\", \"11\", \"14\", \"84\"]\n",
    "\n",
    "# II. Caught In, Under or Between\n",
    "caught_in_under_between = [\"10\", \"12\", \"13\", \"20\"]\n",
    "\n",
    "# III. Cut, Puncture, Scrape Injured By\n",
    "cut_puncture_scrape = [\"15\", \"16\", \"17\", \"18\", \"19\"]\n",
    "\n",
    "# IV. Fall, Slip or Trip Injury\n",
    "fall_slip_trip = [\"25\", \"26\", \"27\", \"28\", \"29\", \"30\", \"31\", \"32\", \"33\"]\n",
    "\n",
    "# V. Motor Vehicle\n",
    "motor_vehicle = [\"40\", \"41\", \"45\", \"46\", \"47\", \"48\", \"50\"]\n",
    "\n",
    "# VI. Strain or Injury By\n",
    "strain_or_injury = [\"52\", \"53\", \"54\", \"55\", \"56\", \"57\", \"58\", \"59\", \"60\", \"61\", \"97\"]\n",
    "\n",
    "# VII. Striking Against or Stepping On\n",
    "striking_against = [\"65\", \"66\", \"67\", \"68\", \"69\", \"70\"]\n",
    "\n",
    "# VIII. Struck or Injured By\n",
    "struck_or_injured = [\"74\", \"75\", \"76\", \"77\", \"78\", \"79\", \"80\", \"81\", \"85\", \"86\"]\n",
    "\n",
    "# IX. Rubbed or Abraded By\n",
    "rubbed_or_abraded = [\"94\", \"95\"]\n",
    "\n",
    "# X. Miscellaneous Causes\n",
    "miscellaneous = [\"82\", \"83\", \"87\", \"88\", \"89\", \"90\", \"91\", \"93\", \"96\", \"98\", \"99\"]\n",
    "\n",
    "\n",
    "test_df[\"WCIO Cause of Injury Code SUPRA\"] = test_df[\"WCIO Cause of Injury Code\"].apply(\n",
    "    lambda code: (\n",
    "        \"I. Burn or Scald - Heat or Cold Exposures - Contact With\"\n",
    "        if str(code).split(\".\")[0] in burn_or_scald\n",
    "        else (\n",
    "            \"II. Caught In, Under or Between\"\n",
    "            if str(code).split(\".\")[0] in caught_in_under_between\n",
    "            else (\n",
    "                \"III. Cut, Puncture, Scrape Injured By\"\n",
    "                if str(code).split(\".\")[0] in cut_puncture_scrape\n",
    "                else (\n",
    "                    \"IV. Fall, Slip or Trip Injury\"\n",
    "                    if str(code).split(\".\")[0] in fall_slip_trip\n",
    "                    else (\n",
    "                        \"V. Motor Vehicle\"\n",
    "                        if str(code).split(\".\")[0] in motor_vehicle\n",
    "                        else (\n",
    "                            \"VI. Strain or Injury By\"\n",
    "                            if str(code).split(\".\")[0] in strain_or_injury\n",
    "                            else (\n",
    "                                \"VII. Striking Against or Stepping On\"\n",
    "                                if str(code).split(\".\")[0] in striking_against\n",
    "                                else (\n",
    "                                    \"VIII. Struck or Injured By\"\n",
    "                                    if str(code).split(\".\")[0] in struck_or_injured\n",
    "                                    else (\n",
    "                                        \"IX. Rubbed or Abraded By\"\n",
    "                                        if str(code).split(\".\")[0] in rubbed_or_abraded\n",
    "                                        else (\n",
    "                                            \"X. Miscellaneous Causes\"\n",
    "                                            if str(code).split(\".\")[0] in miscellaneous\n",
    "                                            else np.nan\n",
    "                                        )\n",
    "                                    )\n",
    "                                )\n",
    "                            )\n",
    "                        )\n",
    "                    )\n",
    "                )\n",
    "            )\n",
    "        )\n",
    "    )\n",
    ")"
   ]
  },
  {
   "cell_type": "code",
   "execution_count": 178,
   "id": "e590e812",
   "metadata": {},
   "outputs": [],
   "source": [
    "# Specific Injury codes (Category I)\n",
    "specific_injury = [\n",
    "    \"1\",\n",
    "    \"2\",\n",
    "    \"3\",\n",
    "    \"4\",\n",
    "    \"7\",\n",
    "    \"10\",\n",
    "    \"13\",\n",
    "    \"16\",\n",
    "    \"19\",\n",
    "    \"22\",\n",
    "    \"25\",\n",
    "    \"28\",\n",
    "    \"30\",\n",
    "    \"31\",\n",
    "    \"32\",\n",
    "    \"34\",\n",
    "    \"36\",\n",
    "    \"37\",\n",
    "    \"38\",\n",
    "    \"40\",\n",
    "    \"41\",\n",
    "    \"42\",\n",
    "    \"43\",\n",
    "    \"46\",\n",
    "    \"47\",\n",
    "    \"49\",\n",
    "    \"52\",\n",
    "    \"53\",\n",
    "    \"54\",\n",
    "    \"55\",\n",
    "    \"58\",\n",
    "    \"59\",\n",
    "]\n",
    "\n",
    "# Occupational Disease or Cumulative Injury codes (Category II)\n",
    "occupational_disease = [\n",
    "    \"60\",\n",
    "    \"61\",\n",
    "    \"62\",\n",
    "    \"63\",\n",
    "    \"64\",\n",
    "    \"65\",\n",
    "    \"66\",\n",
    "    \"67\",\n",
    "    \"68\",\n",
    "    \"69\",\n",
    "    \"70\",\n",
    "    \"71\",\n",
    "    \"72\",\n",
    "    \"73\",\n",
    "    \"74\",\n",
    "    \"75\",\n",
    "    \"76\",\n",
    "    \"77\",\n",
    "    \"78\",\n",
    "    \"79\",\n",
    "    \"80\",\n",
    "    \"83\",\n",
    "]\n",
    "\n",
    "# Multiple Injuries codes (Category III)\n",
    "multiple_injuries = [\"90\", \"91\"]\n",
    "\n",
    "\n",
    "test_df[\"WCIO Nature of Injury Code SUPRA\"] = test_df[\n",
    "    \"WCIO Nature of Injury Code\"\n",
    "].apply(\n",
    "    lambda code: (\n",
    "        \"Category I: Specific Injury\"\n",
    "        if str(code).split(\".\")[0] in specific_injury\n",
    "        else (\n",
    "            \"Category II: Occupational Disease or Cumulative Injury\"\n",
    "            if str(code).split(\".\")[0] in occupational_disease\n",
    "            else (\n",
    "                \"Category III: Multiple Injuries\"\n",
    "                if str(code).split(\".\")[0] in multiple_injuries\n",
    "                else np.nan\n",
    "            )\n",
    "        )\n",
    "    )\n",
    ")"
   ]
  },
  {
   "cell_type": "code",
   "execution_count": 179,
   "id": "fcc50be9",
   "metadata": {},
   "outputs": [],
   "source": [
    "# I. Head\n",
    "head = [\n",
    "    \"10\",\n",
    "    \"11\",\n",
    "    \"12\",\n",
    "    \"13\",\n",
    "    \"13A\",\n",
    "    \"13B\",\n",
    "    \"13C\",\n",
    "    \"14\",\n",
    "    \"14A\",\n",
    "    \"14B\",\n",
    "    \"14C\",\n",
    "    \"15\",\n",
    "    \"16\",\n",
    "    \"17\",\n",
    "    \"18\",\n",
    "    \"19\",\n",
    "]\n",
    "\n",
    "# II. Neck\n",
    "neck = [\"20\", \"21\", \"22\", \"23\", \"24\", \"25\", \"26\"]\n",
    "\n",
    "# III. Upper Extremities\n",
    "upper_extremities = [\n",
    "    \"30\",\n",
    "    \"31\",\n",
    "    \"32\",\n",
    "    \"33\",\n",
    "    \"34\",\n",
    "    \"35\",\n",
    "    \"36\",\n",
    "    \"36A\",\n",
    "    \"36B\",\n",
    "    \"36C\",\n",
    "    \"36D\",\n",
    "    \"36E\",\n",
    "    \"36F\",\n",
    "    \"36G\",\n",
    "    \"36H\",\n",
    "    \"36I\",\n",
    "    \"36J\",\n",
    "    \"36K\",\n",
    "    \"36L\",\n",
    "    \"36M\",\n",
    "    \"36N\",\n",
    "    \"36O\",\n",
    "    \"36P\",\n",
    "    \"37\",\n",
    "    \"37A\",\n",
    "    \"37B\",\n",
    "    \"37C\",\n",
    "    \"38\",\n",
    "    \"39\",\n",
    "]\n",
    "\n",
    "# IV. Trunk\n",
    "trunk = [\n",
    "    \"40\",\n",
    "    \"41\",\n",
    "    \"42\",\n",
    "    \"43\",\n",
    "    \"44\",\n",
    "    \"45\",\n",
    "    \"46\",\n",
    "    \"47\",\n",
    "    \"48\",\n",
    "    \"49\",\n",
    "    \"60\",\n",
    "    \"61\",\n",
    "    \"62\",\n",
    "    \"63\",\n",
    "]\n",
    "\n",
    "# V. Lower Extremities\n",
    "lower_extremities = [\n",
    "    \"50\",\n",
    "    \"51\",\n",
    "    \"52\",\n",
    "    \"53\",\n",
    "    \"54\",\n",
    "    \"55\",\n",
    "    \"56\",\n",
    "    \"57\",\n",
    "    \"57A\",\n",
    "    \"57B\",\n",
    "    \"57C\",\n",
    "    \"57D\",\n",
    "    \"57E\",\n",
    "    \"57F\",\n",
    "    \"57G\",\n",
    "    \"58\",\n",
    "    \"58A\",\n",
    "    \"58B\",\n",
    "    \"58C\",\n",
    "]\n",
    "\n",
    "# VI. Multiple Body Parts\n",
    "multiple_body_parts = [\"64\", \"65\", \"66\", \"90\", \"91\", \"99\"]\n",
    "\n",
    "\n",
    "test_df[\"WCIO Part Of Body Code SUPRA\"] = test_df[\"WCIO Part Of Body Code\"].apply(\n",
    "    lambda code: (\n",
    "        \"I. Head\"\n",
    "        if str(code).split(\".\")[0] in head\n",
    "        else (\n",
    "            \"II. Neck\"\n",
    "            if str(code).split(\".\")[0] in neck\n",
    "            else (\n",
    "                \"III. Upper Extremities\"\n",
    "                if str(code).split(\".\")[0] in upper_extremities\n",
    "                else (\n",
    "                    \"IV. Trunk\"\n",
    "                    if str(code).split(\".\")[0] in trunk\n",
    "                    else (\n",
    "                        \"V. Lower Extremities\"\n",
    "                        if str(code).split(\".\")[0] in lower_extremities\n",
    "                        else (\n",
    "                            \"VI. Multiple Body Parts\"\n",
    "                            if str(code).split(\".\")[0] in multiple_body_parts\n",
    "                            else np.nan\n",
    "                        )\n",
    "                    )\n",
    "                )\n",
    "            )\n",
    "        )\n",
    "    )\n",
    ")"
   ]
  },
  {
   "cell_type": "code",
   "execution_count": 181,
   "id": "a4a92547",
   "metadata": {},
   "outputs": [],
   "source": [
    "X_train = X_train.drop(\n",
    "    [\n",
    "        \"Age at Injury\",\n",
    "        \"Average Weekly Wage\",\n",
    "        \"Number of Dependents\",\n",
    "        \"Accident to C-2 Days\",\n",
    "        \"Agreement Reached\",\n",
    "    ],\n",
    "    axis=1,\n",
    ")\n",
    "\n",
    "\n",
    "X_val = X_val.drop(\n",
    "    [\n",
    "        \"Age at Injury\",\n",
    "        \"Average Weekly Wage\",\n",
    "        \"Number of Dependents\",\n",
    "        \"Accident to C-2 Days\",\n",
    "        \"Agreement Reached\",\n",
    "    ],\n",
    "    axis=1,\n",
    ")"
   ]
  },
  {
   "cell_type": "markdown",
   "id": "9736a846",
   "metadata": {},
   "source": [
    "Test dataset doesn't have Agreement Reached col"
   ]
  },
  {
   "cell_type": "code",
   "execution_count": 183,
   "id": "7f9e6378",
   "metadata": {},
   "outputs": [],
   "source": [
    "test_df = test_df[X_train.columns]"
   ]
  },
  {
   "cell_type": "code",
   "execution_count": 184,
   "id": "867a78cb",
   "metadata": {},
   "outputs": [],
   "source": [
    "test_df[\"IME-4 Count\"] = test_df[\"IME-4 Count\"].fillna(0)\n",
    "test_df[\"WCIO Cause of Injury Code SUPRA\"] = test_df[\n",
    "    \"WCIO Cause of Injury Code SUPRA\"\n",
    "].fillna(cause_mode)\n",
    "test_df[\"WCIO Nature of Injury Code SUPRA\"] = test_df[\n",
    "    \"WCIO Nature of Injury Code SUPRA\"\n",
    "].fillna(nature_mode)\n",
    "test_df[\"WCIO Part Of Body Code SUPRA\"] = test_df[\n",
    "    \"WCIO Part Of Body Code SUPRA\"\n",
    "].fillna(body_mode)\n",
    "test_df[\"Birth Year\"] = test_df[\"Birth Year\"].replace(0, median_year)\n",
    "test_df[\"Birth Year\"] = test_df[\"Birth Year\"].fillna(median_year)"
   ]
  },
  {
   "cell_type": "code",
   "execution_count": 186,
   "id": "a5202c25",
   "metadata": {},
   "outputs": [],
   "source": [
    "for var in test_df.select_dtypes(include=[\"object\"]):\n",
    "    le = LabelEncoder()\n",
    "    test_df[var] = le.fit_transform(test_df[var])\n",
    "\n",
    "minmax = MinMaxScaler()\n",
    "X_train_scaled = minmax.fit_transform(X_train)\n",
    "X_val_scaled = minmax.transform(X_val)\n",
    "test_df_scaled = minmax.transform(test_df)"
   ]
  },
  {
   "cell_type": "code",
   "execution_count": 187,
   "id": "ffa1e869",
   "metadata": {},
   "outputs": [],
   "source": [
    "X_train_scaled = pd.DataFrame(X_train_scaled, columns=X_train.columns).set_index(\n",
    "    X_train.index\n",
    ")\n",
    "\n",
    "X_val_scaled = pd.DataFrame(X_val_scaled, columns=X_val.columns).set_index(X_val.index)\n",
    "\n",
    "test_df_scaled = pd.DataFrame(test_df_scaled, columns=test_df.columns).set_index(\n",
    "    test_df.index\n",
    ")"
   ]
  },
  {
   "cell_type": "code",
   "execution_count": 195,
   "id": "3ccc227f",
   "metadata": {},
   "outputs": [
    {
     "data": {
      "text/html": [
       "<div>\n",
       "<style scoped>\n",
       "    .dataframe tbody tr th:only-of-type {\n",
       "        vertical-align: middle;\n",
       "    }\n",
       "\n",
       "    .dataframe tbody tr th {\n",
       "        vertical-align: top;\n",
       "    }\n",
       "\n",
       "    .dataframe thead th {\n",
       "        text-align: right;\n",
       "    }\n",
       "</style>\n",
       "<table border=\"1\" class=\"dataframe\">\n",
       "  <thead>\n",
       "    <tr style=\"text-align: right;\">\n",
       "      <th></th>\n",
       "      <th>Birth Year</th>\n",
       "      <th>IME-4 Count</th>\n",
       "      <th>Accident to Assembly Days</th>\n",
       "      <th>Accident to First Hearing Days</th>\n",
       "      <th>Alternative Dispute Resolution</th>\n",
       "      <th>Attorney/Representative</th>\n",
       "      <th>Carrier Name</th>\n",
       "      <th>Carrier Type</th>\n",
       "      <th>County of Injury</th>\n",
       "      <th>COVID-19 Indicator</th>\n",
       "      <th>District Name</th>\n",
       "      <th>Medical Fee Region</th>\n",
       "      <th>WCIO Cause of Injury Code SUPRA</th>\n",
       "      <th>WCIO Nature of Injury Code SUPRA</th>\n",
       "      <th>WCIO Part Of Body Code SUPRA</th>\n",
       "      <th>Male</th>\n",
       "    </tr>\n",
       "    <tr>\n",
       "      <th>Claim Identifier</th>\n",
       "      <th></th>\n",
       "      <th></th>\n",
       "      <th></th>\n",
       "      <th></th>\n",
       "      <th></th>\n",
       "      <th></th>\n",
       "      <th></th>\n",
       "      <th></th>\n",
       "      <th></th>\n",
       "      <th></th>\n",
       "      <th></th>\n",
       "      <th></th>\n",
       "      <th></th>\n",
       "      <th></th>\n",
       "      <th></th>\n",
       "      <th></th>\n",
       "    </tr>\n",
       "  </thead>\n",
       "  <tbody>\n",
       "    <tr>\n",
       "      <th>5728830</th>\n",
       "      <td>0.669492</td>\n",
       "      <td>0.000000</td>\n",
       "      <td>0.000372</td>\n",
       "      <td>0.048778</td>\n",
       "      <td>0.0</td>\n",
       "      <td>0.0</td>\n",
       "      <td>0.231317</td>\n",
       "      <td>0.428571</td>\n",
       "      <td>0.887097</td>\n",
       "      <td>0.0</td>\n",
       "      <td>0.000000</td>\n",
       "      <td>0.00</td>\n",
       "      <td>0.666667</td>\n",
       "      <td>0.0</td>\n",
       "      <td>0.4</td>\n",
       "      <td>1.0</td>\n",
       "    </tr>\n",
       "    <tr>\n",
       "      <th>5868764</th>\n",
       "      <td>0.830508</td>\n",
       "      <td>0.000000</td>\n",
       "      <td>0.000512</td>\n",
       "      <td>0.040576</td>\n",
       "      <td>0.0</td>\n",
       "      <td>0.0</td>\n",
       "      <td>1.000000</td>\n",
       "      <td>0.000000</td>\n",
       "      <td>0.467742</td>\n",
       "      <td>0.0</td>\n",
       "      <td>0.571429</td>\n",
       "      <td>0.75</td>\n",
       "      <td>0.666667</td>\n",
       "      <td>0.0</td>\n",
       "      <td>0.8</td>\n",
       "      <td>1.0</td>\n",
       "    </tr>\n",
       "    <tr>\n",
       "      <th>5880132</th>\n",
       "      <td>0.813559</td>\n",
       "      <td>0.000000</td>\n",
       "      <td>0.000186</td>\n",
       "      <td>0.039572</td>\n",
       "      <td>0.0</td>\n",
       "      <td>0.0</td>\n",
       "      <td>0.532283</td>\n",
       "      <td>0.428571</td>\n",
       "      <td>0.483871</td>\n",
       "      <td>0.0</td>\n",
       "      <td>0.571429</td>\n",
       "      <td>0.75</td>\n",
       "      <td>1.000000</td>\n",
       "      <td>0.5</td>\n",
       "      <td>0.4</td>\n",
       "      <td>0.0</td>\n",
       "    </tr>\n",
       "    <tr>\n",
       "      <th>5665055</th>\n",
       "      <td>0.525424</td>\n",
       "      <td>0.000000</td>\n",
       "      <td>0.001581</td>\n",
       "      <td>0.053839</td>\n",
       "      <td>0.0</td>\n",
       "      <td>0.0</td>\n",
       "      <td>0.149975</td>\n",
       "      <td>0.000000</td>\n",
       "      <td>0.822581</td>\n",
       "      <td>0.0</td>\n",
       "      <td>0.428571</td>\n",
       "      <td>0.75</td>\n",
       "      <td>0.888889</td>\n",
       "      <td>0.0</td>\n",
       "      <td>0.6</td>\n",
       "      <td>0.0</td>\n",
       "    </tr>\n",
       "    <tr>\n",
       "      <th>6104256</th>\n",
       "      <td>0.567797</td>\n",
       "      <td>0.000000</td>\n",
       "      <td>0.000419</td>\n",
       "      <td>0.026832</td>\n",
       "      <td>0.0</td>\n",
       "      <td>0.0</td>\n",
       "      <td>0.920183</td>\n",
       "      <td>0.000000</td>\n",
       "      <td>0.064516</td>\n",
       "      <td>0.0</td>\n",
       "      <td>0.285714</td>\n",
       "      <td>0.00</td>\n",
       "      <td>0.666667</td>\n",
       "      <td>0.0</td>\n",
       "      <td>0.4</td>\n",
       "      <td>0.0</td>\n",
       "    </tr>\n",
       "    <tr>\n",
       "      <th>...</th>\n",
       "      <td>...</td>\n",
       "      <td>...</td>\n",
       "      <td>...</td>\n",
       "      <td>...</td>\n",
       "      <td>...</td>\n",
       "      <td>...</td>\n",
       "      <td>...</td>\n",
       "      <td>...</td>\n",
       "      <td>...</td>\n",
       "      <td>...</td>\n",
       "      <td>...</td>\n",
       "      <td>...</td>\n",
       "      <td>...</td>\n",
       "      <td>...</td>\n",
       "      <td>...</td>\n",
       "      <td>...</td>\n",
       "    </tr>\n",
       "    <tr>\n",
       "      <th>5929220</th>\n",
       "      <td>0.830508</td>\n",
       "      <td>0.000000</td>\n",
       "      <td>0.016742</td>\n",
       "      <td>0.052094</td>\n",
       "      <td>0.0</td>\n",
       "      <td>0.0</td>\n",
       "      <td>0.835282</td>\n",
       "      <td>0.142857</td>\n",
       "      <td>0.822581</td>\n",
       "      <td>0.0</td>\n",
       "      <td>0.428571</td>\n",
       "      <td>0.50</td>\n",
       "      <td>0.666667</td>\n",
       "      <td>0.0</td>\n",
       "      <td>0.4</td>\n",
       "      <td>0.0</td>\n",
       "    </tr>\n",
       "    <tr>\n",
       "      <th>6036142</th>\n",
       "      <td>0.796610</td>\n",
       "      <td>0.013699</td>\n",
       "      <td>0.000465</td>\n",
       "      <td>0.025218</td>\n",
       "      <td>0.0</td>\n",
       "      <td>1.0</td>\n",
       "      <td>0.835282</td>\n",
       "      <td>0.142857</td>\n",
       "      <td>0.370968</td>\n",
       "      <td>0.0</td>\n",
       "      <td>0.571429</td>\n",
       "      <td>0.75</td>\n",
       "      <td>0.888889</td>\n",
       "      <td>0.0</td>\n",
       "      <td>0.4</td>\n",
       "      <td>0.0</td>\n",
       "    </tr>\n",
       "    <tr>\n",
       "      <th>5416388</th>\n",
       "      <td>0.737288</td>\n",
       "      <td>0.000000</td>\n",
       "      <td>0.000233</td>\n",
       "      <td>0.069634</td>\n",
       "      <td>0.0</td>\n",
       "      <td>0.0</td>\n",
       "      <td>0.492628</td>\n",
       "      <td>0.000000</td>\n",
       "      <td>0.467742</td>\n",
       "      <td>0.0</td>\n",
       "      <td>0.571429</td>\n",
       "      <td>0.75</td>\n",
       "      <td>0.111111</td>\n",
       "      <td>0.0</td>\n",
       "      <td>0.8</td>\n",
       "      <td>1.0</td>\n",
       "    </tr>\n",
       "    <tr>\n",
       "      <th>5488647</th>\n",
       "      <td>0.618644</td>\n",
       "      <td>0.013699</td>\n",
       "      <td>0.000186</td>\n",
       "      <td>0.006283</td>\n",
       "      <td>0.0</td>\n",
       "      <td>1.0</td>\n",
       "      <td>0.513981</td>\n",
       "      <td>0.285714</td>\n",
       "      <td>0.467742</td>\n",
       "      <td>0.0</td>\n",
       "      <td>0.571429</td>\n",
       "      <td>0.75</td>\n",
       "      <td>1.000000</td>\n",
       "      <td>0.0</td>\n",
       "      <td>1.0</td>\n",
       "      <td>0.0</td>\n",
       "    </tr>\n",
       "    <tr>\n",
       "      <th>5674763</th>\n",
       "      <td>0.737288</td>\n",
       "      <td>0.000000</td>\n",
       "      <td>0.000558</td>\n",
       "      <td>0.052312</td>\n",
       "      <td>0.0</td>\n",
       "      <td>0.0</td>\n",
       "      <td>0.835282</td>\n",
       "      <td>0.142857</td>\n",
       "      <td>0.032258</td>\n",
       "      <td>0.0</td>\n",
       "      <td>0.571429</td>\n",
       "      <td>0.75</td>\n",
       "      <td>0.666667</td>\n",
       "      <td>0.0</td>\n",
       "      <td>0.6</td>\n",
       "      <td>1.0</td>\n",
       "    </tr>\n",
       "  </tbody>\n",
       "</table>\n",
       "<p>401818 rows × 16 columns</p>\n",
       "</div>"
      ],
      "text/plain": [
       "                  Birth Year  IME-4 Count  Accident to Assembly Days  \\\n",
       "Claim Identifier                                                       \n",
       "5728830             0.669492     0.000000                   0.000372   \n",
       "5868764             0.830508     0.000000                   0.000512   \n",
       "5880132             0.813559     0.000000                   0.000186   \n",
       "5665055             0.525424     0.000000                   0.001581   \n",
       "6104256             0.567797     0.000000                   0.000419   \n",
       "...                      ...          ...                        ...   \n",
       "5929220             0.830508     0.000000                   0.016742   \n",
       "6036142             0.796610     0.013699                   0.000465   \n",
       "5416388             0.737288     0.000000                   0.000233   \n",
       "5488647             0.618644     0.013699                   0.000186   \n",
       "5674763             0.737288     0.000000                   0.000558   \n",
       "\n",
       "                  Accident to First Hearing Days  \\\n",
       "Claim Identifier                                   \n",
       "5728830                                 0.048778   \n",
       "5868764                                 0.040576   \n",
       "5880132                                 0.039572   \n",
       "5665055                                 0.053839   \n",
       "6104256                                 0.026832   \n",
       "...                                          ...   \n",
       "5929220                                 0.052094   \n",
       "6036142                                 0.025218   \n",
       "5416388                                 0.069634   \n",
       "5488647                                 0.006283   \n",
       "5674763                                 0.052312   \n",
       "\n",
       "                  Alternative Dispute Resolution  Attorney/Representative  \\\n",
       "Claim Identifier                                                            \n",
       "5728830                                      0.0                      0.0   \n",
       "5868764                                      0.0                      0.0   \n",
       "5880132                                      0.0                      0.0   \n",
       "5665055                                      0.0                      0.0   \n",
       "6104256                                      0.0                      0.0   \n",
       "...                                          ...                      ...   \n",
       "5929220                                      0.0                      0.0   \n",
       "6036142                                      0.0                      1.0   \n",
       "5416388                                      0.0                      0.0   \n",
       "5488647                                      0.0                      1.0   \n",
       "5674763                                      0.0                      0.0   \n",
       "\n",
       "                  Carrier Name  Carrier Type  County of Injury  \\\n",
       "Claim Identifier                                                 \n",
       "5728830               0.231317      0.428571          0.887097   \n",
       "5868764               1.000000      0.000000          0.467742   \n",
       "5880132               0.532283      0.428571          0.483871   \n",
       "5665055               0.149975      0.000000          0.822581   \n",
       "6104256               0.920183      0.000000          0.064516   \n",
       "...                        ...           ...               ...   \n",
       "5929220               0.835282      0.142857          0.822581   \n",
       "6036142               0.835282      0.142857          0.370968   \n",
       "5416388               0.492628      0.000000          0.467742   \n",
       "5488647               0.513981      0.285714          0.467742   \n",
       "5674763               0.835282      0.142857          0.032258   \n",
       "\n",
       "                  COVID-19 Indicator  District Name  Medical Fee Region  \\\n",
       "Claim Identifier                                                          \n",
       "5728830                          0.0       0.000000                0.00   \n",
       "5868764                          0.0       0.571429                0.75   \n",
       "5880132                          0.0       0.571429                0.75   \n",
       "5665055                          0.0       0.428571                0.75   \n",
       "6104256                          0.0       0.285714                0.00   \n",
       "...                              ...            ...                 ...   \n",
       "5929220                          0.0       0.428571                0.50   \n",
       "6036142                          0.0       0.571429                0.75   \n",
       "5416388                          0.0       0.571429                0.75   \n",
       "5488647                          0.0       0.571429                0.75   \n",
       "5674763                          0.0       0.571429                0.75   \n",
       "\n",
       "                  WCIO Cause of Injury Code SUPRA  \\\n",
       "Claim Identifier                                    \n",
       "5728830                                  0.666667   \n",
       "5868764                                  0.666667   \n",
       "5880132                                  1.000000   \n",
       "5665055                                  0.888889   \n",
       "6104256                                  0.666667   \n",
       "...                                           ...   \n",
       "5929220                                  0.666667   \n",
       "6036142                                  0.888889   \n",
       "5416388                                  0.111111   \n",
       "5488647                                  1.000000   \n",
       "5674763                                  0.666667   \n",
       "\n",
       "                  WCIO Nature of Injury Code SUPRA  \\\n",
       "Claim Identifier                                     \n",
       "5728830                                        0.0   \n",
       "5868764                                        0.0   \n",
       "5880132                                        0.5   \n",
       "5665055                                        0.0   \n",
       "6104256                                        0.0   \n",
       "...                                            ...   \n",
       "5929220                                        0.0   \n",
       "6036142                                        0.0   \n",
       "5416388                                        0.0   \n",
       "5488647                                        0.0   \n",
       "5674763                                        0.0   \n",
       "\n",
       "                  WCIO Part Of Body Code SUPRA  Male  \n",
       "Claim Identifier                                      \n",
       "5728830                                    0.4   1.0  \n",
       "5868764                                    0.8   1.0  \n",
       "5880132                                    0.4   0.0  \n",
       "5665055                                    0.6   0.0  \n",
       "6104256                                    0.4   0.0  \n",
       "...                                        ...   ...  \n",
       "5929220                                    0.4   0.0  \n",
       "6036142                                    0.4   0.0  \n",
       "5416388                                    0.8   1.0  \n",
       "5488647                                    1.0   0.0  \n",
       "5674763                                    0.6   1.0  \n",
       "\n",
       "[401818 rows x 16 columns]"
      ]
     },
     "execution_count": 195,
     "metadata": {},
     "output_type": "execute_result"
    }
   ],
   "source": [
    "X_train_scaled"
   ]
  },
  {
   "cell_type": "code",
   "execution_count": 205,
   "id": "08e82aeb",
   "metadata": {},
   "outputs": [
    {
     "name": "stderr",
     "output_type": "stream",
     "text": [
      "c:\\Users\\Diogo\\OneDrive - NOVAIMS\\IMS - Data Science\\MDS\\.studyenv\\Lib\\site-packages\\sklearn\\metrics\\_classification.py:1531: UndefinedMetricWarning: Precision is ill-defined and being set to 0.0 in labels with no predicted samples. Use `zero_division` parameter to control this behavior.\n",
      "  _warn_prf(average, modifier, f\"{metric.capitalize()} is\", len(result))\n",
      "c:\\Users\\Diogo\\OneDrive - NOVAIMS\\IMS - Data Science\\MDS\\.studyenv\\Lib\\site-packages\\sklearn\\metrics\\_classification.py:1531: UndefinedMetricWarning: Precision is ill-defined and being set to 0.0 in labels with no predicted samples. Use `zero_division` parameter to control this behavior.\n",
      "  _warn_prf(average, modifier, f\"{metric.capitalize()} is\", len(result))\n",
      "c:\\Users\\Diogo\\OneDrive - NOVAIMS\\IMS - Data Science\\MDS\\.studyenv\\Lib\\site-packages\\sklearn\\metrics\\_classification.py:1531: UndefinedMetricWarning: Precision is ill-defined and being set to 0.0 in labels with no predicted samples. Use `zero_division` parameter to control this behavior.\n",
      "  _warn_prf(average, modifier, f\"{metric.capitalize()} is\", len(result))\n",
      "c:\\Users\\Diogo\\OneDrive - NOVAIMS\\IMS - Data Science\\MDS\\.studyenv\\Lib\\site-packages\\sklearn\\metrics\\_classification.py:1531: UndefinedMetricWarning: Precision is ill-defined and being set to 0.0 in labels with no predicted samples. Use `zero_division` parameter to control this behavior.\n",
      "  _warn_prf(average, modifier, f\"{metric.capitalize()} is\", len(result))\n",
      "c:\\Users\\Diogo\\OneDrive - NOVAIMS\\IMS - Data Science\\MDS\\.studyenv\\Lib\\site-packages\\sklearn\\metrics\\_classification.py:1531: UndefinedMetricWarning: Precision is ill-defined and being set to 0.0 in labels with no predicted samples. Use `zero_division` parameter to control this behavior.\n",
      "  _warn_prf(average, modifier, f\"{metric.capitalize()} is\", len(result))\n",
      "c:\\Users\\Diogo\\OneDrive - NOVAIMS\\IMS - Data Science\\MDS\\.studyenv\\Lib\\site-packages\\sklearn\\metrics\\_classification.py:1531: UndefinedMetricWarning: Precision is ill-defined and being set to 0.0 in labels with no predicted samples. Use `zero_division` parameter to control this behavior.\n",
      "  _warn_prf(average, modifier, f\"{metric.capitalize()} is\", len(result))\n"
     ]
    }
   ],
   "source": [
    "model = MLPClassifier(max_iter=10000, random_state=99)\n",
    "model.fit(X_train_scaled, y_train.values.ravel())\n",
    "\n",
    "predictions_train = model.predict(X_train_scaled)\n",
    "predictions_val = model.predict(X_val_scaled)\n",
    "predictions_test = model.predict(test_df_scaled)\n",
    "\n",
    "\n",
    "report_train = classification_report(\n",
    "    y_train,\n",
    "    predictions_train,\n",
    ")\n",
    "report_val = classification_report(y_val, predictions_val)"
   ]
  },
  {
   "cell_type": "code",
   "execution_count": 206,
   "id": "3090c1e8",
   "metadata": {},
   "outputs": [
    {
     "name": "stdout",
     "output_type": "stream",
     "text": [
      "                 precision    recall  f1-score   support\n",
      "\n",
      "   1. CANCELLED       0.50      0.19      0.28      8734\n",
      "    2. NON-COMP       0.71      0.94      0.81    203754\n",
      "    3. MED ONLY       0.36      0.01      0.02     48234\n",
      "   4. TEMPORARY       0.59      0.56      0.58    103955\n",
      "5. PPD SCH LOSS       0.57      0.52      0.54     33796\n",
      "     6. PPD NSL       0.00      0.00      0.00      2948\n",
      "         7. PTD       0.00      0.00      0.00        68\n",
      "       8. DEATH       0.35      0.03      0.05       329\n",
      "\n",
      "       accuracy                           0.67    401818\n",
      "      macro avg       0.39      0.28      0.28    401818\n",
      "   weighted avg       0.62      0.67      0.61    401818\n",
      "\n"
     ]
    }
   ],
   "source": [
    "print(report_train)"
   ]
  },
  {
   "cell_type": "code",
   "execution_count": 207,
   "id": "b2977ec9",
   "metadata": {},
   "outputs": [
    {
     "name": "stdout",
     "output_type": "stream",
     "text": [
      "                 precision    recall  f1-score   support\n",
      "\n",
      "   1. CANCELLED       0.50      0.20      0.28      3743\n",
      "    2. NON-COMP       0.71      0.94      0.81     87324\n",
      "    3. MED ONLY       0.37      0.01      0.03     20672\n",
      "   4. TEMPORARY       0.59      0.55      0.57     44552\n",
      "5. PPD SCH LOSS       0.56      0.50      0.53     14484\n",
      "     6. PPD NSL       0.00      0.00      0.00      1263\n",
      "         7. PTD       0.00      0.00      0.00        29\n",
      "       8. DEATH       0.29      0.01      0.03       141\n",
      "\n",
      "       accuracy                           0.67    172208\n",
      "      macro avg       0.38      0.28      0.28    172208\n",
      "   weighted avg       0.62      0.67      0.61    172208\n",
      "\n"
     ]
    }
   ],
   "source": [
    "print(report_val)"
   ]
  },
  {
   "cell_type": "code",
   "execution_count": 208,
   "id": "4fa18641",
   "metadata": {},
   "outputs": [],
   "source": [
    "predictions = pd.DataFrame(test_df_scaled.index, columns=[\"Claim Identifier\"])\n",
    "predictions[\"CLaim Injury Type\"] = predictions_test\n",
    "predictions.to_csv(\"predictions.csv\", index=False)"
   ]
  },
  {
   "cell_type": "markdown",
   "id": "06041088",
   "metadata": {},
   "source": [
    "In the others notebooks adicional models were tested and we used a hyperparameter tuning algorithm, grid search on several models. The results were similar between attempts. This indicates that the problem is not related to model selection or hyperparameter tunning but with pre processing and feature selection. The train and validation reports corroborate this idea. The models aren't able to learn relevant information about most categories. The accuracy metric amd weighted avg are reasonable (~0.67, 0.61) but the macro average, that indicates how well the model can  classify each category, is very low."
   ]
  }
 ],
 "metadata": {
  "kernelspec": {
   "display_name": "Python 3",
   "language": "python",
   "name": "python3"
  },
  "language_info": {
   "codemirror_mode": {
    "name": "ipython",
    "version": 3
   },
   "file_extension": ".py",
   "mimetype": "text/x-python",
   "name": "python",
   "nbconvert_exporter": "python",
   "pygments_lexer": "ipython3",
   "version": "3.9.11"
  }
 },
 "nbformat": 4,
 "nbformat_minor": 5
}

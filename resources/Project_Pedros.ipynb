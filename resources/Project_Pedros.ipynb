{
 "cells": [
  {
   "cell_type": "markdown",
   "id": "a89caa76",
   "metadata": {},
   "source": [
    "# <span style=\"color:#e0bda8; font-size: 40px;\">To Grant or Not to Grant</span>\n"
   ]
  },
  {
   "cell_type": "markdown",
   "id": "8dc76aae",
   "metadata": {},
   "source": [
    "# <span style=\"color:#e0bda8\">0. Context</span>\n",
    "\n",
    "The New York Workers’ Compensation Board (WCB) handles claims related to workplace injuries, a process that is often time-consuming when done manually. This project aims to develop a machine learning model to predict the \"Claim Injury Type\" based on historical claims data from 2020 to 2022. By automating this classification, we can help the WCB make quicker and more accurate decisions.\n",
    "\n",
    "The project involves building and evaluating various multiclass classification models, optimizing their performance, and exploring key features that contribute to accurate predictions. Ultimately, the goal is to identify the best model that can efficiently assist in the decision-making process for new claims.\n"
   ]
  },
  {
   "cell_type": "markdown",
   "id": "d534df06",
   "metadata": {},
   "source": [
    "# <span style=\"color:#e0bda8\">1. Import Packages and Libraries</span>"
   ]
  },
  {
   "cell_type": "code",
   "execution_count": 1,
   "id": "577a8a2b",
   "metadata": {},
   "outputs": [],
   "source": [
    "import pandas as pd\n",
    "import numpy as np\n",
    "import matplotlib.pyplot as plt\n",
    "import seaborn as sns\n",
    "from math import ceil\n",
    "import os\n",
    "import sqlite3\n",
    "from itertools import product\n",
    "from matplotlib.colors import LinearSegmentedColormap\n",
    "from sklearn.preprocessing import LabelEncoder\n",
    "import math\n",
    "from datetime import datetime\n",
    "from datetime import timedelta\n"
   ]
  },
  {
   "cell_type": "markdown",
   "id": "a2795f24",
   "metadata": {},
   "source": [
    "# <span style=\"color:#e0bda8\">2. Reading the Data</span>"
   ]
  },
  {
   "cell_type": "code",
   "execution_count": 2,
   "id": "a8933cd8",
   "metadata": {},
   "outputs": [
    {
     "name": "stderr",
     "output_type": "stream",
     "text": [
      "C:\\Users\\pedro\\anaconda3\\lib\\site-packages\\IPython\\core\\interactiveshell.py:3165: DtypeWarning: Columns (29) have mixed types.Specify dtype option on import or set low_memory=False.\n",
      "  has_raised = await self.run_ast_nodes(code_ast.body, cell_name,\n"
     ]
    },
    {
     "data": {
      "text/html": [
       "<div>\n",
       "<style scoped>\n",
       "    .dataframe tbody tr th:only-of-type {\n",
       "        vertical-align: middle;\n",
       "    }\n",
       "\n",
       "    .dataframe tbody tr th {\n",
       "        vertical-align: top;\n",
       "    }\n",
       "\n",
       "    .dataframe thead th {\n",
       "        text-align: right;\n",
       "    }\n",
       "</style>\n",
       "<table border=\"1\" class=\"dataframe\">\n",
       "  <thead>\n",
       "    <tr style=\"text-align: right;\">\n",
       "      <th></th>\n",
       "      <th>Accident Date</th>\n",
       "      <th>Age at Injury</th>\n",
       "      <th>Alternative Dispute Resolution</th>\n",
       "      <th>Assembly Date</th>\n",
       "      <th>Attorney/Representative</th>\n",
       "      <th>Average Weekly Wage</th>\n",
       "      <th>Birth Year</th>\n",
       "      <th>C-2 Date</th>\n",
       "      <th>C-3 Date</th>\n",
       "      <th>Carrier Name</th>\n",
       "      <th>...</th>\n",
       "      <th>WCIO Cause of Injury Code</th>\n",
       "      <th>WCIO Cause of Injury Description</th>\n",
       "      <th>WCIO Nature of Injury Code</th>\n",
       "      <th>WCIO Nature of Injury Description</th>\n",
       "      <th>WCIO Part Of Body Code</th>\n",
       "      <th>WCIO Part Of Body Description</th>\n",
       "      <th>Zip Code</th>\n",
       "      <th>Agreement Reached</th>\n",
       "      <th>WCB Decision</th>\n",
       "      <th>Number of Dependents</th>\n",
       "    </tr>\n",
       "  </thead>\n",
       "  <tbody>\n",
       "    <tr>\n",
       "      <th>0</th>\n",
       "      <td>2019-12-30</td>\n",
       "      <td>31.0</td>\n",
       "      <td>N</td>\n",
       "      <td>2020-01-01</td>\n",
       "      <td>N</td>\n",
       "      <td>0.00</td>\n",
       "      <td>1988.0</td>\n",
       "      <td>2019-12-31</td>\n",
       "      <td>NaN</td>\n",
       "      <td>NEW HAMPSHIRE INSURANCE CO</td>\n",
       "      <td>...</td>\n",
       "      <td>27.0</td>\n",
       "      <td>FROM LIQUID OR GREASE SPILLS</td>\n",
       "      <td>10.0</td>\n",
       "      <td>CONTUSION</td>\n",
       "      <td>62.0</td>\n",
       "      <td>BUTTOCKS</td>\n",
       "      <td>13662</td>\n",
       "      <td>0.0</td>\n",
       "      <td>Not Work Related</td>\n",
       "      <td>1.0</td>\n",
       "    </tr>\n",
       "    <tr>\n",
       "      <th>1</th>\n",
       "      <td>2019-08-30</td>\n",
       "      <td>46.0</td>\n",
       "      <td>N</td>\n",
       "      <td>2020-01-01</td>\n",
       "      <td>Y</td>\n",
       "      <td>1745.93</td>\n",
       "      <td>1973.0</td>\n",
       "      <td>2020-01-01</td>\n",
       "      <td>2020-01-14</td>\n",
       "      <td>ZURICH AMERICAN INSURANCE CO</td>\n",
       "      <td>...</td>\n",
       "      <td>97.0</td>\n",
       "      <td>REPETITIVE MOTION</td>\n",
       "      <td>49.0</td>\n",
       "      <td>SPRAIN OR TEAR</td>\n",
       "      <td>38.0</td>\n",
       "      <td>SHOULDER(S)</td>\n",
       "      <td>14569</td>\n",
       "      <td>1.0</td>\n",
       "      <td>Not Work Related</td>\n",
       "      <td>4.0</td>\n",
       "    </tr>\n",
       "    <tr>\n",
       "      <th>2</th>\n",
       "      <td>2019-12-06</td>\n",
       "      <td>40.0</td>\n",
       "      <td>N</td>\n",
       "      <td>2020-01-01</td>\n",
       "      <td>N</td>\n",
       "      <td>1434.80</td>\n",
       "      <td>1979.0</td>\n",
       "      <td>2020-01-01</td>\n",
       "      <td>NaN</td>\n",
       "      <td>INDEMNITY INSURANCE CO OF</td>\n",
       "      <td>...</td>\n",
       "      <td>79.0</td>\n",
       "      <td>OBJECT BEING LIFTED OR HANDLED</td>\n",
       "      <td>7.0</td>\n",
       "      <td>CONCUSSION</td>\n",
       "      <td>10.0</td>\n",
       "      <td>MULTIPLE HEAD INJURY</td>\n",
       "      <td>12589</td>\n",
       "      <td>0.0</td>\n",
       "      <td>Not Work Related</td>\n",
       "      <td>6.0</td>\n",
       "    </tr>\n",
       "    <tr>\n",
       "      <th>3</th>\n",
       "      <td>NaN</td>\n",
       "      <td>NaN</td>\n",
       "      <td>NaN</td>\n",
       "      <td>2020-01-01</td>\n",
       "      <td>NaN</td>\n",
       "      <td>NaN</td>\n",
       "      <td>NaN</td>\n",
       "      <td>NaN</td>\n",
       "      <td>NaN</td>\n",
       "      <td>NaN</td>\n",
       "      <td>...</td>\n",
       "      <td>NaN</td>\n",
       "      <td>NaN</td>\n",
       "      <td>NaN</td>\n",
       "      <td>NaN</td>\n",
       "      <td>NaN</td>\n",
       "      <td>NaN</td>\n",
       "      <td>NaN</td>\n",
       "      <td>NaN</td>\n",
       "      <td>NaN</td>\n",
       "      <td>NaN</td>\n",
       "    </tr>\n",
       "    <tr>\n",
       "      <th>4</th>\n",
       "      <td>2019-12-30</td>\n",
       "      <td>61.0</td>\n",
       "      <td>N</td>\n",
       "      <td>2020-01-01</td>\n",
       "      <td>N</td>\n",
       "      <td>NaN</td>\n",
       "      <td>1958.0</td>\n",
       "      <td>2019-12-31</td>\n",
       "      <td>NaN</td>\n",
       "      <td>STATE INSURANCE FUND</td>\n",
       "      <td>...</td>\n",
       "      <td>16.0</td>\n",
       "      <td>HAND TOOL, UTENSIL; NOT POWERED</td>\n",
       "      <td>43.0</td>\n",
       "      <td>PUNCTURE</td>\n",
       "      <td>36.0</td>\n",
       "      <td>FINGER(S)</td>\n",
       "      <td>12603</td>\n",
       "      <td>0.0</td>\n",
       "      <td>Not Work Related</td>\n",
       "      <td>1.0</td>\n",
       "    </tr>\n",
       "    <tr>\n",
       "      <th>...</th>\n",
       "      <td>...</td>\n",
       "      <td>...</td>\n",
       "      <td>...</td>\n",
       "      <td>...</td>\n",
       "      <td>...</td>\n",
       "      <td>...</td>\n",
       "      <td>...</td>\n",
       "      <td>...</td>\n",
       "      <td>...</td>\n",
       "      <td>...</td>\n",
       "      <td>...</td>\n",
       "      <td>...</td>\n",
       "      <td>...</td>\n",
       "      <td>...</td>\n",
       "      <td>...</td>\n",
       "      <td>...</td>\n",
       "      <td>...</td>\n",
       "      <td>...</td>\n",
       "      <td>...</td>\n",
       "      <td>...</td>\n",
       "      <td>...</td>\n",
       "    </tr>\n",
       "    <tr>\n",
       "      <th>593466</th>\n",
       "      <td>NaN</td>\n",
       "      <td>NaN</td>\n",
       "      <td>NaN</td>\n",
       "      <td>2022-12-31</td>\n",
       "      <td>NaN</td>\n",
       "      <td>NaN</td>\n",
       "      <td>NaN</td>\n",
       "      <td>NaN</td>\n",
       "      <td>NaN</td>\n",
       "      <td>NaN</td>\n",
       "      <td>...</td>\n",
       "      <td>NaN</td>\n",
       "      <td>NaN</td>\n",
       "      <td>NaN</td>\n",
       "      <td>NaN</td>\n",
       "      <td>NaN</td>\n",
       "      <td>NaN</td>\n",
       "      <td>NaN</td>\n",
       "      <td>NaN</td>\n",
       "      <td>NaN</td>\n",
       "      <td>NaN</td>\n",
       "    </tr>\n",
       "    <tr>\n",
       "      <th>593467</th>\n",
       "      <td>2022-12-13</td>\n",
       "      <td>72.0</td>\n",
       "      <td>N</td>\n",
       "      <td>2022-12-31</td>\n",
       "      <td>N</td>\n",
       "      <td>0.00</td>\n",
       "      <td>1950.0</td>\n",
       "      <td>2022-12-31</td>\n",
       "      <td>NaN</td>\n",
       "      <td>TECHNOLOGY INSURANCE CO. INC.</td>\n",
       "      <td>...</td>\n",
       "      <td>25.0</td>\n",
       "      <td>FROM DIFFERENT LEVEL (ELEVATION)</td>\n",
       "      <td>90.0</td>\n",
       "      <td>MULTIPLE PHYSICAL INJURIES ONLY</td>\n",
       "      <td>-9.0</td>\n",
       "      <td>MULTIPLE</td>\n",
       "      <td>12779</td>\n",
       "      <td>0.0</td>\n",
       "      <td>Not Work Related</td>\n",
       "      <td>3.0</td>\n",
       "    </tr>\n",
       "    <tr>\n",
       "      <th>593468</th>\n",
       "      <td>NaN</td>\n",
       "      <td>NaN</td>\n",
       "      <td>NaN</td>\n",
       "      <td>2022-12-31</td>\n",
       "      <td>NaN</td>\n",
       "      <td>NaN</td>\n",
       "      <td>NaN</td>\n",
       "      <td>NaN</td>\n",
       "      <td>NaN</td>\n",
       "      <td>NaN</td>\n",
       "      <td>...</td>\n",
       "      <td>NaN</td>\n",
       "      <td>NaN</td>\n",
       "      <td>NaN</td>\n",
       "      <td>NaN</td>\n",
       "      <td>NaN</td>\n",
       "      <td>NaN</td>\n",
       "      <td>NaN</td>\n",
       "      <td>NaN</td>\n",
       "      <td>NaN</td>\n",
       "      <td>NaN</td>\n",
       "    </tr>\n",
       "    <tr>\n",
       "      <th>593469</th>\n",
       "      <td>NaN</td>\n",
       "      <td>NaN</td>\n",
       "      <td>NaN</td>\n",
       "      <td>2022-12-31</td>\n",
       "      <td>NaN</td>\n",
       "      <td>NaN</td>\n",
       "      <td>NaN</td>\n",
       "      <td>NaN</td>\n",
       "      <td>NaN</td>\n",
       "      <td>NaN</td>\n",
       "      <td>...</td>\n",
       "      <td>NaN</td>\n",
       "      <td>NaN</td>\n",
       "      <td>NaN</td>\n",
       "      <td>NaN</td>\n",
       "      <td>NaN</td>\n",
       "      <td>NaN</td>\n",
       "      <td>NaN</td>\n",
       "      <td>NaN</td>\n",
       "      <td>NaN</td>\n",
       "      <td>NaN</td>\n",
       "    </tr>\n",
       "    <tr>\n",
       "      <th>593470</th>\n",
       "      <td>NaN</td>\n",
       "      <td>NaN</td>\n",
       "      <td>NaN</td>\n",
       "      <td>2022-12-31</td>\n",
       "      <td>NaN</td>\n",
       "      <td>NaN</td>\n",
       "      <td>NaN</td>\n",
       "      <td>NaN</td>\n",
       "      <td>NaN</td>\n",
       "      <td>NaN</td>\n",
       "      <td>...</td>\n",
       "      <td>NaN</td>\n",
       "      <td>NaN</td>\n",
       "      <td>NaN</td>\n",
       "      <td>NaN</td>\n",
       "      <td>NaN</td>\n",
       "      <td>NaN</td>\n",
       "      <td>NaN</td>\n",
       "      <td>NaN</td>\n",
       "      <td>NaN</td>\n",
       "      <td>NaN</td>\n",
       "    </tr>\n",
       "  </tbody>\n",
       "</table>\n",
       "<p>593471 rows × 33 columns</p>\n",
       "</div>"
      ],
      "text/plain": [
       "       Accident Date  Age at Injury Alternative Dispute Resolution  \\\n",
       "0         2019-12-30           31.0                              N   \n",
       "1         2019-08-30           46.0                              N   \n",
       "2         2019-12-06           40.0                              N   \n",
       "3                NaN            NaN                            NaN   \n",
       "4         2019-12-30           61.0                              N   \n",
       "...              ...            ...                            ...   \n",
       "593466           NaN            NaN                            NaN   \n",
       "593467    2022-12-13           72.0                              N   \n",
       "593468           NaN            NaN                            NaN   \n",
       "593469           NaN            NaN                            NaN   \n",
       "593470           NaN            NaN                            NaN   \n",
       "\n",
       "       Assembly Date Attorney/Representative  Average Weekly Wage  Birth Year  \\\n",
       "0         2020-01-01                       N                 0.00      1988.0   \n",
       "1         2020-01-01                       Y              1745.93      1973.0   \n",
       "2         2020-01-01                       N              1434.80      1979.0   \n",
       "3         2020-01-01                     NaN                  NaN         NaN   \n",
       "4         2020-01-01                       N                  NaN      1958.0   \n",
       "...              ...                     ...                  ...         ...   \n",
       "593466    2022-12-31                     NaN                  NaN         NaN   \n",
       "593467    2022-12-31                       N                 0.00      1950.0   \n",
       "593468    2022-12-31                     NaN                  NaN         NaN   \n",
       "593469    2022-12-31                     NaN                  NaN         NaN   \n",
       "593470    2022-12-31                     NaN                  NaN         NaN   \n",
       "\n",
       "          C-2 Date    C-3 Date                   Carrier Name  ...  \\\n",
       "0       2019-12-31         NaN     NEW HAMPSHIRE INSURANCE CO  ...   \n",
       "1       2020-01-01  2020-01-14   ZURICH AMERICAN INSURANCE CO  ...   \n",
       "2       2020-01-01         NaN      INDEMNITY INSURANCE CO OF  ...   \n",
       "3              NaN         NaN                            NaN  ...   \n",
       "4       2019-12-31         NaN           STATE INSURANCE FUND  ...   \n",
       "...            ...         ...                            ...  ...   \n",
       "593466         NaN         NaN                            NaN  ...   \n",
       "593467  2022-12-31         NaN  TECHNOLOGY INSURANCE CO. INC.  ...   \n",
       "593468         NaN         NaN                            NaN  ...   \n",
       "593469         NaN         NaN                            NaN  ...   \n",
       "593470         NaN         NaN                            NaN  ...   \n",
       "\n",
       "       WCIO Cause of Injury Code  WCIO Cause of Injury Description  \\\n",
       "0                           27.0      FROM LIQUID OR GREASE SPILLS   \n",
       "1                           97.0                 REPETITIVE MOTION   \n",
       "2                           79.0    OBJECT BEING LIFTED OR HANDLED   \n",
       "3                            NaN                               NaN   \n",
       "4                           16.0   HAND TOOL, UTENSIL; NOT POWERED   \n",
       "...                          ...                               ...   \n",
       "593466                       NaN                               NaN   \n",
       "593467                      25.0  FROM DIFFERENT LEVEL (ELEVATION)   \n",
       "593468                       NaN                               NaN   \n",
       "593469                       NaN                               NaN   \n",
       "593470                       NaN                               NaN   \n",
       "\n",
       "       WCIO Nature of Injury Code WCIO Nature of Injury Description  \\\n",
       "0                            10.0                         CONTUSION   \n",
       "1                            49.0                    SPRAIN OR TEAR   \n",
       "2                             7.0                        CONCUSSION   \n",
       "3                             NaN                               NaN   \n",
       "4                            43.0                          PUNCTURE   \n",
       "...                           ...                               ...   \n",
       "593466                        NaN                               NaN   \n",
       "593467                       90.0   MULTIPLE PHYSICAL INJURIES ONLY   \n",
       "593468                        NaN                               NaN   \n",
       "593469                        NaN                               NaN   \n",
       "593470                        NaN                               NaN   \n",
       "\n",
       "       WCIO Part Of Body Code WCIO Part Of Body Description Zip Code  \\\n",
       "0                        62.0                      BUTTOCKS    13662   \n",
       "1                        38.0                   SHOULDER(S)    14569   \n",
       "2                        10.0          MULTIPLE HEAD INJURY    12589   \n",
       "3                         NaN                           NaN      NaN   \n",
       "4                        36.0                     FINGER(S)    12603   \n",
       "...                       ...                           ...      ...   \n",
       "593466                    NaN                           NaN      NaN   \n",
       "593467                   -9.0                      MULTIPLE    12779   \n",
       "593468                    NaN                           NaN      NaN   \n",
       "593469                    NaN                           NaN      NaN   \n",
       "593470                    NaN                           NaN      NaN   \n",
       "\n",
       "       Agreement Reached      WCB Decision  Number of Dependents  \n",
       "0                    0.0  Not Work Related                   1.0  \n",
       "1                    1.0  Not Work Related                   4.0  \n",
       "2                    0.0  Not Work Related                   6.0  \n",
       "3                    NaN               NaN                   NaN  \n",
       "4                    0.0  Not Work Related                   1.0  \n",
       "...                  ...               ...                   ...  \n",
       "593466               NaN               NaN                   NaN  \n",
       "593467               0.0  Not Work Related                   3.0  \n",
       "593468               NaN               NaN                   NaN  \n",
       "593469               NaN               NaN                   NaN  \n",
       "593470               NaN               NaN                   NaN  \n",
       "\n",
       "[593471 rows x 33 columns]"
      ]
     },
     "execution_count": 2,
     "metadata": {},
     "output_type": "execute_result"
    }
   ],
   "source": [
    "df = pd.read_csv('train_data.csv')\n",
    "df"
   ]
  },
  {
   "cell_type": "markdown",
   "id": "b0061467",
   "metadata": {},
   "source": [
    "# <span style=\"color:#e0bda8\">3. Metadata</span>\n",
    "- **Accident Date** - Injury date of the claim.\n",
    "- **Age at Injury** - Age of injured worker when the injury occured.\n",
    "- **Alternative Dispute Resolution** - Adjudication processes external to the Board.\n",
    "- **Assembly Date** - The date the claim was first assembled.\n",
    "- **Attorney/Representative** - Is the claim being represented by an Attorney?\n",
    "- **Average Weekly Wage** - The wage used to calculate workers' compensation, disability, or an Paid Leave wage replacement benefits.\n",
    "- **Birth Year** - The reported year of birth of the injured worker.\n",
    "- **C-2 Date** - Date of receipt of the Employer's Report of Work-Related Injury/Illness or equivalent (formerly Form C-2).\n",
    "- **C-3 Date** - Date Form C-3 (Employee Claim Form) was received.\n",
    "- **Carrier Name** - Name of primary insurance provider responsible for providing workers' compensation coverage to the injured worker's employer.\n",
    "- **Carrier Type** - Type of primary insurance provider responsible for providing workers' compensation coverage.\n",
    "- **Claim Identifier** - Unique identifier for each claim, assigned by WCB.\n",
    "- **Count of Injury** - Name of the New York County where the injury occured.\n",
    "- **COVID-19 Indicator** - Indication that the claim may be associated with COVID-19.\n",
    "- **District Name** - Name of the WCB district office that oversees claims for that region or area of the state.\n",
    "- **First Hearing Date** - Date the first hearing was held on a claim at a WCB hearing location. A blank date means the claim has not yet had a hearing held.\n",
    "- **Gender** - The reported gender of the injured worker.\n",
    "- **IME-4 Count** - Number of IME-4 forms received per claim. The IME-4 form is the \"Independent Examiner's Report of Independent Medical Examination\" form.\n",
    "- **Industry Code** - NAICS code and descriptions are available at: https://www.naics.com/search-naics-codes-by-industry/.\n",
    "- **Industry Code Description** - 2-digit NAICS industry code description used to classify businesses according to their economic activity.\n",
    "- **Medical Fee Region** - Approximate region where the injured worker would receive medical service.\n",
    "- **OIICS Nature of Injury Description** - The OIICS nature of injury codes & descriptions are available at: https://www.bls.gov/iif/oiics_manual_2007.pdf.\n",
    "- **WCIO Cause of Injury Code** - The WCIO cause of injury codes & descriptions are  at https://www.wcio.org/Active%20PNC/WCIO_Cause_Table.pdf.\n",
    "- **WCIO Cause of Injury Description** - See description of field above.\n",
    "- **WCIO Nature of Injury Code** - The WCIO nature of injury are available at\n",
    " https://www.wcio.org/Active%20PNC/WCIO_Nature_Table.pdf.\n",
    "- **WCIO Nature of Injury Description** - See description of field above.\n",
    "- **WCIO Part Of Body Code** - The WCIO part of body codes & descriptions are available at https://www.wcio.org/Active%20PNC/WCIO_Part_Table.pdf.\n",
    "- **WCIO Part Of Body Description** - See description of field above.\n",
    "- **Zip Code** - The reported ZIP code of the injured worker’s home address.\n",
    "- **Agreement Reached** - Binary variable: Yes if there is an agreement without the involvement of the WCB -> unknown at the start of a claim.\n",
    "- **WCB Decision** - Multiclass variable: Decision of the WCB relative to the claim: “Accident” means that claim refers to workplace accident, “Occupational Disease” means illness from the workplace. -> requires WCB deliberation so it is unknown at start of claim.\n",
    "- **Claim Injury Type** - Main target variable: Deliberation of the WCB relative to benefits awarded to the claim. Numbering indicates severity."
   ]
  },
  {
   "cell_type": "markdown",
   "id": "cffc7a0e",
   "metadata": {},
   "source": [
    "# <span style=\"color:#e0bda8\">4. Initial Analysis</span>"
   ]
  },
  {
   "cell_type": "markdown",
   "id": "9f9d9c4f",
   "metadata": {},
   "source": [
    "## What are some characteristics of our data?"
   ]
  },
  {
   "cell_type": "code",
   "execution_count": 3,
   "id": "39c1b99b",
   "metadata": {},
   "outputs": [
    {
     "data": {
      "text/plain": [
       "(593471, 33)"
      ]
     },
     "execution_count": 3,
     "metadata": {},
     "output_type": "execute_result"
    }
   ],
   "source": [
    "df.shape"
   ]
  },
  {
   "cell_type": "code",
   "execution_count": 4,
   "id": "b1f01463",
   "metadata": {},
   "outputs": [
    {
     "data": {
      "text/plain": [
       "Index(['Accident Date', 'Age at Injury', 'Alternative Dispute Resolution',\n",
       "       'Assembly Date', 'Attorney/Representative', 'Average Weekly Wage',\n",
       "       'Birth Year', 'C-2 Date', 'C-3 Date', 'Carrier Name', 'Carrier Type',\n",
       "       'Claim Identifier', 'Claim Injury Type', 'County of Injury',\n",
       "       'COVID-19 Indicator', 'District Name', 'First Hearing Date', 'Gender',\n",
       "       'IME-4 Count', 'Industry Code', 'Industry Code Description',\n",
       "       'Medical Fee Region', 'OIICS Nature of Injury Description',\n",
       "       'WCIO Cause of Injury Code', 'WCIO Cause of Injury Description',\n",
       "       'WCIO Nature of Injury Code', 'WCIO Nature of Injury Description',\n",
       "       'WCIO Part Of Body Code', 'WCIO Part Of Body Description', 'Zip Code',\n",
       "       'Agreement Reached', 'WCB Decision', 'Number of Dependents'],\n",
       "      dtype='object')"
      ]
     },
     "execution_count": 4,
     "metadata": {},
     "output_type": "execute_result"
    }
   ],
   "source": [
    "df.columns"
   ]
  },
  {
   "cell_type": "code",
   "execution_count": 5,
   "id": "180a8d99",
   "metadata": {},
   "outputs": [
    {
     "name": "stdout",
     "output_type": "stream",
     "text": [
      "<class 'pandas.core.frame.DataFrame'>\n",
      "RangeIndex: 593471 entries, 0 to 593470\n",
      "Data columns (total 33 columns):\n",
      " #   Column                              Non-Null Count   Dtype  \n",
      "---  ------                              --------------   -----  \n",
      " 0   Accident Date                       570337 non-null  object \n",
      " 1   Age at Injury                       574026 non-null  float64\n",
      " 2   Alternative Dispute Resolution      574026 non-null  object \n",
      " 3   Assembly Date                       593471 non-null  object \n",
      " 4   Attorney/Representative             574026 non-null  object \n",
      " 5   Average Weekly Wage                 545375 non-null  float64\n",
      " 6   Birth Year                          544948 non-null  float64\n",
      " 7   C-2 Date                            559466 non-null  object \n",
      " 8   C-3 Date                            187245 non-null  object \n",
      " 9   Carrier Name                        574026 non-null  object \n",
      " 10  Carrier Type                        574026 non-null  object \n",
      " 11  Claim Identifier                    593471 non-null  int64  \n",
      " 12  Claim Injury Type                   574026 non-null  object \n",
      " 13  County of Injury                    574026 non-null  object \n",
      " 14  COVID-19 Indicator                  574026 non-null  object \n",
      " 15  District Name                       574026 non-null  object \n",
      " 16  First Hearing Date                  150798 non-null  object \n",
      " 17  Gender                              574026 non-null  object \n",
      " 18  IME-4 Count                         132803 non-null  float64\n",
      " 19  Industry Code                       564068 non-null  float64\n",
      " 20  Industry Code Description           564068 non-null  object \n",
      " 21  Medical Fee Region                  574026 non-null  object \n",
      " 22  OIICS Nature of Injury Description  0 non-null       float64\n",
      " 23  WCIO Cause of Injury Code           558386 non-null  float64\n",
      " 24  WCIO Cause of Injury Description    558386 non-null  object \n",
      " 25  WCIO Nature of Injury Code          558369 non-null  float64\n",
      " 26  WCIO Nature of Injury Description   558369 non-null  object \n",
      " 27  WCIO Part Of Body Code              556944 non-null  float64\n",
      " 28  WCIO Part Of Body Description       556944 non-null  object \n",
      " 29  Zip Code                            545389 non-null  object \n",
      " 30  Agreement Reached                   574026 non-null  float64\n",
      " 31  WCB Decision                        574026 non-null  object \n",
      " 32  Number of Dependents                574026 non-null  float64\n",
      "dtypes: float64(11), int64(1), object(21)\n",
      "memory usage: 149.4+ MB\n"
     ]
    }
   ],
   "source": [
    "df.info()"
   ]
  },
  {
   "cell_type": "code",
   "execution_count": 6,
   "id": "d2d15d9c",
   "metadata": {},
   "outputs": [
    {
     "data": {
      "text/plain": [
       "NaN    593471\n",
       "Name: OIICS Nature of Injury Description, dtype: int64"
      ]
     },
     "execution_count": 6,
     "metadata": {},
     "output_type": "execute_result"
    }
   ],
   "source": [
    "df['OIICS Nature of Injury Description'].value_counts(dropna=False)"
   ]
  },
  {
   "cell_type": "markdown",
   "id": "1f5ec027",
   "metadata": {},
   "source": [
    "## Initial Data Insights\n",
    "\n",
    "After importing the dataset and using the `info()` method, we gathered the following key insights:\n",
    "\n",
    "### 1. Missing Values:\n",
    "   Almost all columns in the dataset have missing values, except for:\n",
    "- `Assembly Date`\n",
    "- `Claim Identifier`\n",
    "\n",
    "The variable `OIICS Nature of Injury Description` contains no non-null values, indicating that it is entirely missing across all entries in the dataset.\n",
    "\n",
    "\n",
    "### 2. Potential Data Type Issues:\n",
    "   - **Date Columns** (`Accident Date`, `Assembly Date`, `C-2 Date`, `C-3 Date`, `First Hearing Date`): These are currently stored as `object` types. They should be converted to `datetime` format for easier manipulation and analysis.\n",
    "   - **COVID-19 Indicator** and **Attorney/Representative**: These are likely binary variables but are stored as `object` types. Converting them to categorical or binary (`0` and `1`) might be more appropriate.\n",
    "   - **`Agreement Reached`**: Currently stored as `float64`. If this column represents a binary outcome (e.g., Yes/No), it should be converted to an integer or categorical type.\n",
    "\n",
    "These insights suggest that the dataset will require thorough preprocessing, including handling missing values and correcting data types to more suitable formats."
   ]
  },
  {
   "cell_type": "code",
   "execution_count": 7,
   "id": "823b320f",
   "metadata": {},
   "outputs": [
    {
     "data": {
      "text/html": [
       "<div>\n",
       "<style scoped>\n",
       "    .dataframe tbody tr th:only-of-type {\n",
       "        vertical-align: middle;\n",
       "    }\n",
       "\n",
       "    .dataframe tbody tr th {\n",
       "        vertical-align: top;\n",
       "    }\n",
       "\n",
       "    .dataframe thead th {\n",
       "        text-align: right;\n",
       "    }\n",
       "</style>\n",
       "<table border=\"1\" class=\"dataframe\">\n",
       "  <thead>\n",
       "    <tr style=\"text-align: right;\">\n",
       "      <th></th>\n",
       "      <th>count</th>\n",
       "      <th>unique</th>\n",
       "      <th>top</th>\n",
       "      <th>freq</th>\n",
       "      <th>mean</th>\n",
       "      <th>std</th>\n",
       "      <th>min</th>\n",
       "      <th>25%</th>\n",
       "      <th>50%</th>\n",
       "      <th>75%</th>\n",
       "      <th>max</th>\n",
       "    </tr>\n",
       "  </thead>\n",
       "  <tbody>\n",
       "    <tr>\n",
       "      <th>Accident Date</th>\n",
       "      <td>570337</td>\n",
       "      <td>5539</td>\n",
       "      <td>2020-03-01</td>\n",
       "      <td>1245</td>\n",
       "      <td>NaN</td>\n",
       "      <td>NaN</td>\n",
       "      <td>NaN</td>\n",
       "      <td>NaN</td>\n",
       "      <td>NaN</td>\n",
       "      <td>NaN</td>\n",
       "      <td>NaN</td>\n",
       "    </tr>\n",
       "    <tr>\n",
       "      <th>Age at Injury</th>\n",
       "      <td>574026.0</td>\n",
       "      <td>NaN</td>\n",
       "      <td>NaN</td>\n",
       "      <td>NaN</td>\n",
       "      <td>42.11</td>\n",
       "      <td>14.26</td>\n",
       "      <td>0.0</td>\n",
       "      <td>31.0</td>\n",
       "      <td>42.0</td>\n",
       "      <td>54.0</td>\n",
       "      <td>117.0</td>\n",
       "    </tr>\n",
       "    <tr>\n",
       "      <th>Alternative Dispute Resolution</th>\n",
       "      <td>574026</td>\n",
       "      <td>3</td>\n",
       "      <td>N</td>\n",
       "      <td>571412</td>\n",
       "      <td>NaN</td>\n",
       "      <td>NaN</td>\n",
       "      <td>NaN</td>\n",
       "      <td>NaN</td>\n",
       "      <td>NaN</td>\n",
       "      <td>NaN</td>\n",
       "      <td>NaN</td>\n",
       "    </tr>\n",
       "    <tr>\n",
       "      <th>Assembly Date</th>\n",
       "      <td>593471</td>\n",
       "      <td>1096</td>\n",
       "      <td>2020-03-06</td>\n",
       "      <td>1422</td>\n",
       "      <td>NaN</td>\n",
       "      <td>NaN</td>\n",
       "      <td>NaN</td>\n",
       "      <td>NaN</td>\n",
       "      <td>NaN</td>\n",
       "      <td>NaN</td>\n",
       "      <td>NaN</td>\n",
       "    </tr>\n",
       "    <tr>\n",
       "      <th>Attorney/Representative</th>\n",
       "      <td>574026</td>\n",
       "      <td>2</td>\n",
       "      <td>N</td>\n",
       "      <td>392291</td>\n",
       "      <td>NaN</td>\n",
       "      <td>NaN</td>\n",
       "      <td>NaN</td>\n",
       "      <td>NaN</td>\n",
       "      <td>NaN</td>\n",
       "      <td>NaN</td>\n",
       "      <td>NaN</td>\n",
       "    </tr>\n",
       "    <tr>\n",
       "      <th>Average Weekly Wage</th>\n",
       "      <td>545375.0</td>\n",
       "      <td>NaN</td>\n",
       "      <td>NaN</td>\n",
       "      <td>NaN</td>\n",
       "      <td>491.09</td>\n",
       "      <td>6092.92</td>\n",
       "      <td>0.0</td>\n",
       "      <td>0.0</td>\n",
       "      <td>0.0</td>\n",
       "      <td>841.0</td>\n",
       "      <td>2828079.0</td>\n",
       "    </tr>\n",
       "    <tr>\n",
       "      <th>Birth Year</th>\n",
       "      <td>544948.0</td>\n",
       "      <td>NaN</td>\n",
       "      <td>NaN</td>\n",
       "      <td>NaN</td>\n",
       "      <td>1886.77</td>\n",
       "      <td>414.64</td>\n",
       "      <td>0.0</td>\n",
       "      <td>1965.0</td>\n",
       "      <td>1977.0</td>\n",
       "      <td>1989.0</td>\n",
       "      <td>2018.0</td>\n",
       "    </tr>\n",
       "    <tr>\n",
       "      <th>C-2 Date</th>\n",
       "      <td>559466</td>\n",
       "      <td>2475</td>\n",
       "      <td>2021-05-11</td>\n",
       "      <td>1847</td>\n",
       "      <td>NaN</td>\n",
       "      <td>NaN</td>\n",
       "      <td>NaN</td>\n",
       "      <td>NaN</td>\n",
       "      <td>NaN</td>\n",
       "      <td>NaN</td>\n",
       "      <td>NaN</td>\n",
       "    </tr>\n",
       "    <tr>\n",
       "      <th>C-3 Date</th>\n",
       "      <td>187245</td>\n",
       "      <td>1648</td>\n",
       "      <td>2021-04-21</td>\n",
       "      <td>350</td>\n",
       "      <td>NaN</td>\n",
       "      <td>NaN</td>\n",
       "      <td>NaN</td>\n",
       "      <td>NaN</td>\n",
       "      <td>NaN</td>\n",
       "      <td>NaN</td>\n",
       "      <td>NaN</td>\n",
       "    </tr>\n",
       "    <tr>\n",
       "      <th>Carrier Name</th>\n",
       "      <td>574026</td>\n",
       "      <td>2046</td>\n",
       "      <td>STATE INSURANCE FUND</td>\n",
       "      <td>111144</td>\n",
       "      <td>NaN</td>\n",
       "      <td>NaN</td>\n",
       "      <td>NaN</td>\n",
       "      <td>NaN</td>\n",
       "      <td>NaN</td>\n",
       "      <td>NaN</td>\n",
       "      <td>NaN</td>\n",
       "    </tr>\n",
       "    <tr>\n",
       "      <th>Carrier Type</th>\n",
       "      <td>574026</td>\n",
       "      <td>8</td>\n",
       "      <td>1A. PRIVATE</td>\n",
       "      <td>285368</td>\n",
       "      <td>NaN</td>\n",
       "      <td>NaN</td>\n",
       "      <td>NaN</td>\n",
       "      <td>NaN</td>\n",
       "      <td>NaN</td>\n",
       "      <td>NaN</td>\n",
       "      <td>NaN</td>\n",
       "    </tr>\n",
       "    <tr>\n",
       "      <th>Claim Identifier</th>\n",
       "      <td>593471.0</td>\n",
       "      <td>NaN</td>\n",
       "      <td>NaN</td>\n",
       "      <td>NaN</td>\n",
       "      <td>23667598.79</td>\n",
       "      <td>107927137.91</td>\n",
       "      <td>5393066.0</td>\n",
       "      <td>5593414.5</td>\n",
       "      <td>5791212.0</td>\n",
       "      <td>5991000.5</td>\n",
       "      <td>999891667.0</td>\n",
       "    </tr>\n",
       "    <tr>\n",
       "      <th>Claim Injury Type</th>\n",
       "      <td>574026</td>\n",
       "      <td>8</td>\n",
       "      <td>2. NON-COMP</td>\n",
       "      <td>291078</td>\n",
       "      <td>NaN</td>\n",
       "      <td>NaN</td>\n",
       "      <td>NaN</td>\n",
       "      <td>NaN</td>\n",
       "      <td>NaN</td>\n",
       "      <td>NaN</td>\n",
       "      <td>NaN</td>\n",
       "    </tr>\n",
       "    <tr>\n",
       "      <th>County of Injury</th>\n",
       "      <td>574026</td>\n",
       "      <td>63</td>\n",
       "      <td>SUFFOLK</td>\n",
       "      <td>60430</td>\n",
       "      <td>NaN</td>\n",
       "      <td>NaN</td>\n",
       "      <td>NaN</td>\n",
       "      <td>NaN</td>\n",
       "      <td>NaN</td>\n",
       "      <td>NaN</td>\n",
       "      <td>NaN</td>\n",
       "    </tr>\n",
       "    <tr>\n",
       "      <th>COVID-19 Indicator</th>\n",
       "      <td>574026</td>\n",
       "      <td>2</td>\n",
       "      <td>N</td>\n",
       "      <td>546505</td>\n",
       "      <td>NaN</td>\n",
       "      <td>NaN</td>\n",
       "      <td>NaN</td>\n",
       "      <td>NaN</td>\n",
       "      <td>NaN</td>\n",
       "      <td>NaN</td>\n",
       "      <td>NaN</td>\n",
       "    </tr>\n",
       "    <tr>\n",
       "      <th>District Name</th>\n",
       "      <td>574026</td>\n",
       "      <td>8</td>\n",
       "      <td>NYC</td>\n",
       "      <td>270779</td>\n",
       "      <td>NaN</td>\n",
       "      <td>NaN</td>\n",
       "      <td>NaN</td>\n",
       "      <td>NaN</td>\n",
       "      <td>NaN</td>\n",
       "      <td>NaN</td>\n",
       "      <td>NaN</td>\n",
       "    </tr>\n",
       "    <tr>\n",
       "      <th>First Hearing Date</th>\n",
       "      <td>150798</td>\n",
       "      <td>1094</td>\n",
       "      <td>2022-04-15</td>\n",
       "      <td>440</td>\n",
       "      <td>NaN</td>\n",
       "      <td>NaN</td>\n",
       "      <td>NaN</td>\n",
       "      <td>NaN</td>\n",
       "      <td>NaN</td>\n",
       "      <td>NaN</td>\n",
       "      <td>NaN</td>\n",
       "    </tr>\n",
       "    <tr>\n",
       "      <th>Gender</th>\n",
       "      <td>574026</td>\n",
       "      <td>4</td>\n",
       "      <td>M</td>\n",
       "      <td>335218</td>\n",
       "      <td>NaN</td>\n",
       "      <td>NaN</td>\n",
       "      <td>NaN</td>\n",
       "      <td>NaN</td>\n",
       "      <td>NaN</td>\n",
       "      <td>NaN</td>\n",
       "      <td>NaN</td>\n",
       "    </tr>\n",
       "    <tr>\n",
       "      <th>IME-4 Count</th>\n",
       "      <td>132803.0</td>\n",
       "      <td>NaN</td>\n",
       "      <td>NaN</td>\n",
       "      <td>NaN</td>\n",
       "      <td>3.21</td>\n",
       "      <td>2.83</td>\n",
       "      <td>1.0</td>\n",
       "      <td>1.0</td>\n",
       "      <td>2.0</td>\n",
       "      <td>4.0</td>\n",
       "      <td>73.0</td>\n",
       "    </tr>\n",
       "    <tr>\n",
       "      <th>Industry Code</th>\n",
       "      <td>564068.0</td>\n",
       "      <td>NaN</td>\n",
       "      <td>NaN</td>\n",
       "      <td>NaN</td>\n",
       "      <td>58.65</td>\n",
       "      <td>19.64</td>\n",
       "      <td>11.0</td>\n",
       "      <td>45.0</td>\n",
       "      <td>61.0</td>\n",
       "      <td>71.0</td>\n",
       "      <td>92.0</td>\n",
       "    </tr>\n",
       "    <tr>\n",
       "      <th>Industry Code Description</th>\n",
       "      <td>564068</td>\n",
       "      <td>20</td>\n",
       "      <td>HEALTH CARE AND SOCIAL ASSISTANCE</td>\n",
       "      <td>114339</td>\n",
       "      <td>NaN</td>\n",
       "      <td>NaN</td>\n",
       "      <td>NaN</td>\n",
       "      <td>NaN</td>\n",
       "      <td>NaN</td>\n",
       "      <td>NaN</td>\n",
       "      <td>NaN</td>\n",
       "    </tr>\n",
       "    <tr>\n",
       "      <th>Medical Fee Region</th>\n",
       "      <td>574026</td>\n",
       "      <td>5</td>\n",
       "      <td>IV</td>\n",
       "      <td>265981</td>\n",
       "      <td>NaN</td>\n",
       "      <td>NaN</td>\n",
       "      <td>NaN</td>\n",
       "      <td>NaN</td>\n",
       "      <td>NaN</td>\n",
       "      <td>NaN</td>\n",
       "      <td>NaN</td>\n",
       "    </tr>\n",
       "    <tr>\n",
       "      <th>OIICS Nature of Injury Description</th>\n",
       "      <td>0.0</td>\n",
       "      <td>NaN</td>\n",
       "      <td>NaN</td>\n",
       "      <td>NaN</td>\n",
       "      <td>NaN</td>\n",
       "      <td>NaN</td>\n",
       "      <td>NaN</td>\n",
       "      <td>NaN</td>\n",
       "      <td>NaN</td>\n",
       "      <td>NaN</td>\n",
       "      <td>NaN</td>\n",
       "    </tr>\n",
       "    <tr>\n",
       "      <th>WCIO Cause of Injury Code</th>\n",
       "      <td>558386.0</td>\n",
       "      <td>NaN</td>\n",
       "      <td>NaN</td>\n",
       "      <td>NaN</td>\n",
       "      <td>54.38</td>\n",
       "      <td>25.87</td>\n",
       "      <td>1.0</td>\n",
       "      <td>31.0</td>\n",
       "      <td>56.0</td>\n",
       "      <td>75.0</td>\n",
       "      <td>99.0</td>\n",
       "    </tr>\n",
       "    <tr>\n",
       "      <th>WCIO Cause of Injury Description</th>\n",
       "      <td>558386</td>\n",
       "      <td>74</td>\n",
       "      <td>LIFTING</td>\n",
       "      <td>46610</td>\n",
       "      <td>NaN</td>\n",
       "      <td>NaN</td>\n",
       "      <td>NaN</td>\n",
       "      <td>NaN</td>\n",
       "      <td>NaN</td>\n",
       "      <td>NaN</td>\n",
       "      <td>NaN</td>\n",
       "    </tr>\n",
       "    <tr>\n",
       "      <th>WCIO Nature of Injury Code</th>\n",
       "      <td>558369.0</td>\n",
       "      <td>NaN</td>\n",
       "      <td>NaN</td>\n",
       "      <td>NaN</td>\n",
       "      <td>41.01</td>\n",
       "      <td>22.21</td>\n",
       "      <td>1.0</td>\n",
       "      <td>16.0</td>\n",
       "      <td>49.0</td>\n",
       "      <td>52.0</td>\n",
       "      <td>91.0</td>\n",
       "    </tr>\n",
       "    <tr>\n",
       "      <th>WCIO Nature of Injury Description</th>\n",
       "      <td>558369</td>\n",
       "      <td>56</td>\n",
       "      <td>STRAIN OR TEAR</td>\n",
       "      <td>153373</td>\n",
       "      <td>NaN</td>\n",
       "      <td>NaN</td>\n",
       "      <td>NaN</td>\n",
       "      <td>NaN</td>\n",
       "      <td>NaN</td>\n",
       "      <td>NaN</td>\n",
       "      <td>NaN</td>\n",
       "    </tr>\n",
       "    <tr>\n",
       "      <th>WCIO Part Of Body Code</th>\n",
       "      <td>556944.0</td>\n",
       "      <td>NaN</td>\n",
       "      <td>NaN</td>\n",
       "      <td>NaN</td>\n",
       "      <td>39.74</td>\n",
       "      <td>22.37</td>\n",
       "      <td>-9.0</td>\n",
       "      <td>33.0</td>\n",
       "      <td>38.0</td>\n",
       "      <td>53.0</td>\n",
       "      <td>99.0</td>\n",
       "    </tr>\n",
       "    <tr>\n",
       "      <th>WCIO Part Of Body Description</th>\n",
       "      <td>556944</td>\n",
       "      <td>54</td>\n",
       "      <td>LOWER BACK AREA</td>\n",
       "      <td>51862</td>\n",
       "      <td>NaN</td>\n",
       "      <td>NaN</td>\n",
       "      <td>NaN</td>\n",
       "      <td>NaN</td>\n",
       "      <td>NaN</td>\n",
       "      <td>NaN</td>\n",
       "      <td>NaN</td>\n",
       "    </tr>\n",
       "    <tr>\n",
       "      <th>Zip Code</th>\n",
       "      <td>545389</td>\n",
       "      <td>10060</td>\n",
       "      <td>11236</td>\n",
       "      <td>3302</td>\n",
       "      <td>NaN</td>\n",
       "      <td>NaN</td>\n",
       "      <td>NaN</td>\n",
       "      <td>NaN</td>\n",
       "      <td>NaN</td>\n",
       "      <td>NaN</td>\n",
       "      <td>NaN</td>\n",
       "    </tr>\n",
       "    <tr>\n",
       "      <th>Agreement Reached</th>\n",
       "      <td>574026.0</td>\n",
       "      <td>NaN</td>\n",
       "      <td>NaN</td>\n",
       "      <td>NaN</td>\n",
       "      <td>0.05</td>\n",
       "      <td>0.21</td>\n",
       "      <td>0.0</td>\n",
       "      <td>0.0</td>\n",
       "      <td>0.0</td>\n",
       "      <td>0.0</td>\n",
       "      <td>1.0</td>\n",
       "    </tr>\n",
       "    <tr>\n",
       "      <th>WCB Decision</th>\n",
       "      <td>574026</td>\n",
       "      <td>1</td>\n",
       "      <td>Not Work Related</td>\n",
       "      <td>574026</td>\n",
       "      <td>NaN</td>\n",
       "      <td>NaN</td>\n",
       "      <td>NaN</td>\n",
       "      <td>NaN</td>\n",
       "      <td>NaN</td>\n",
       "      <td>NaN</td>\n",
       "      <td>NaN</td>\n",
       "    </tr>\n",
       "    <tr>\n",
       "      <th>Number of Dependents</th>\n",
       "      <td>574026.0</td>\n",
       "      <td>NaN</td>\n",
       "      <td>NaN</td>\n",
       "      <td>NaN</td>\n",
       "      <td>3.01</td>\n",
       "      <td>2.0</td>\n",
       "      <td>0.0</td>\n",
       "      <td>1.0</td>\n",
       "      <td>3.0</td>\n",
       "      <td>5.0</td>\n",
       "      <td>6.0</td>\n",
       "    </tr>\n",
       "  </tbody>\n",
       "</table>\n",
       "</div>"
      ],
      "text/plain": [
       "                                       count unique  \\\n",
       "Accident Date                         570337   5539   \n",
       "Age at Injury                       574026.0    NaN   \n",
       "Alternative Dispute Resolution        574026      3   \n",
       "Assembly Date                         593471   1096   \n",
       "Attorney/Representative               574026      2   \n",
       "Average Weekly Wage                 545375.0    NaN   \n",
       "Birth Year                          544948.0    NaN   \n",
       "C-2 Date                              559466   2475   \n",
       "C-3 Date                              187245   1648   \n",
       "Carrier Name                          574026   2046   \n",
       "Carrier Type                          574026      8   \n",
       "Claim Identifier                    593471.0    NaN   \n",
       "Claim Injury Type                     574026      8   \n",
       "County of Injury                      574026     63   \n",
       "COVID-19 Indicator                    574026      2   \n",
       "District Name                         574026      8   \n",
       "First Hearing Date                    150798   1094   \n",
       "Gender                                574026      4   \n",
       "IME-4 Count                         132803.0    NaN   \n",
       "Industry Code                       564068.0    NaN   \n",
       "Industry Code Description             564068     20   \n",
       "Medical Fee Region                    574026      5   \n",
       "OIICS Nature of Injury Description       0.0    NaN   \n",
       "WCIO Cause of Injury Code           558386.0    NaN   \n",
       "WCIO Cause of Injury Description      558386     74   \n",
       "WCIO Nature of Injury Code          558369.0    NaN   \n",
       "WCIO Nature of Injury Description     558369     56   \n",
       "WCIO Part Of Body Code              556944.0    NaN   \n",
       "WCIO Part Of Body Description         556944     54   \n",
       "Zip Code                              545389  10060   \n",
       "Agreement Reached                   574026.0    NaN   \n",
       "WCB Decision                          574026      1   \n",
       "Number of Dependents                574026.0    NaN   \n",
       "\n",
       "                                                                  top    freq  \\\n",
       "Accident Date                                              2020-03-01    1245   \n",
       "Age at Injury                                                     NaN     NaN   \n",
       "Alternative Dispute Resolution                                      N  571412   \n",
       "Assembly Date                                              2020-03-06    1422   \n",
       "Attorney/Representative                                             N  392291   \n",
       "Average Weekly Wage                                               NaN     NaN   \n",
       "Birth Year                                                        NaN     NaN   \n",
       "C-2 Date                                                   2021-05-11    1847   \n",
       "C-3 Date                                                   2021-04-21     350   \n",
       "Carrier Name                                     STATE INSURANCE FUND  111144   \n",
       "Carrier Type                                              1A. PRIVATE  285368   \n",
       "Claim Identifier                                                  NaN     NaN   \n",
       "Claim Injury Type                                         2. NON-COMP  291078   \n",
       "County of Injury                                              SUFFOLK   60430   \n",
       "COVID-19 Indicator                                                  N  546505   \n",
       "District Name                                                     NYC  270779   \n",
       "First Hearing Date                                         2022-04-15     440   \n",
       "Gender                                                              M  335218   \n",
       "IME-4 Count                                                       NaN     NaN   \n",
       "Industry Code                                                     NaN     NaN   \n",
       "Industry Code Description           HEALTH CARE AND SOCIAL ASSISTANCE  114339   \n",
       "Medical Fee Region                                                 IV  265981   \n",
       "OIICS Nature of Injury Description                                NaN     NaN   \n",
       "WCIO Cause of Injury Code                                         NaN     NaN   \n",
       "WCIO Cause of Injury Description                              LIFTING   46610   \n",
       "WCIO Nature of Injury Code                                        NaN     NaN   \n",
       "WCIO Nature of Injury Description                      STRAIN OR TEAR  153373   \n",
       "WCIO Part Of Body Code                                            NaN     NaN   \n",
       "WCIO Part Of Body Description                         LOWER BACK AREA   51862   \n",
       "Zip Code                                                        11236    3302   \n",
       "Agreement Reached                                                 NaN     NaN   \n",
       "WCB Decision                                         Not Work Related  574026   \n",
       "Number of Dependents                                              NaN     NaN   \n",
       "\n",
       "                                           mean           std        min  \\\n",
       "Accident Date                               NaN           NaN        NaN   \n",
       "Age at Injury                             42.11         14.26        0.0   \n",
       "Alternative Dispute Resolution              NaN           NaN        NaN   \n",
       "Assembly Date                               NaN           NaN        NaN   \n",
       "Attorney/Representative                     NaN           NaN        NaN   \n",
       "Average Weekly Wage                      491.09       6092.92        0.0   \n",
       "Birth Year                              1886.77        414.64        0.0   \n",
       "C-2 Date                                    NaN           NaN        NaN   \n",
       "C-3 Date                                    NaN           NaN        NaN   \n",
       "Carrier Name                                NaN           NaN        NaN   \n",
       "Carrier Type                                NaN           NaN        NaN   \n",
       "Claim Identifier                    23667598.79  107927137.91  5393066.0   \n",
       "Claim Injury Type                           NaN           NaN        NaN   \n",
       "County of Injury                            NaN           NaN        NaN   \n",
       "COVID-19 Indicator                          NaN           NaN        NaN   \n",
       "District Name                               NaN           NaN        NaN   \n",
       "First Hearing Date                          NaN           NaN        NaN   \n",
       "Gender                                      NaN           NaN        NaN   \n",
       "IME-4 Count                                3.21          2.83        1.0   \n",
       "Industry Code                             58.65         19.64       11.0   \n",
       "Industry Code Description                   NaN           NaN        NaN   \n",
       "Medical Fee Region                          NaN           NaN        NaN   \n",
       "OIICS Nature of Injury Description          NaN           NaN        NaN   \n",
       "WCIO Cause of Injury Code                 54.38         25.87        1.0   \n",
       "WCIO Cause of Injury Description            NaN           NaN        NaN   \n",
       "WCIO Nature of Injury Code                41.01         22.21        1.0   \n",
       "WCIO Nature of Injury Description           NaN           NaN        NaN   \n",
       "WCIO Part Of Body Code                    39.74         22.37       -9.0   \n",
       "WCIO Part Of Body Description               NaN           NaN        NaN   \n",
       "Zip Code                                    NaN           NaN        NaN   \n",
       "Agreement Reached                          0.05          0.21        0.0   \n",
       "WCB Decision                                NaN           NaN        NaN   \n",
       "Number of Dependents                       3.01           2.0        0.0   \n",
       "\n",
       "                                          25%        50%        75%  \\\n",
       "Accident Date                             NaN        NaN        NaN   \n",
       "Age at Injury                            31.0       42.0       54.0   \n",
       "Alternative Dispute Resolution            NaN        NaN        NaN   \n",
       "Assembly Date                             NaN        NaN        NaN   \n",
       "Attorney/Representative                   NaN        NaN        NaN   \n",
       "Average Weekly Wage                       0.0        0.0      841.0   \n",
       "Birth Year                             1965.0     1977.0     1989.0   \n",
       "C-2 Date                                  NaN        NaN        NaN   \n",
       "C-3 Date                                  NaN        NaN        NaN   \n",
       "Carrier Name                              NaN        NaN        NaN   \n",
       "Carrier Type                              NaN        NaN        NaN   \n",
       "Claim Identifier                    5593414.5  5791212.0  5991000.5   \n",
       "Claim Injury Type                         NaN        NaN        NaN   \n",
       "County of Injury                          NaN        NaN        NaN   \n",
       "COVID-19 Indicator                        NaN        NaN        NaN   \n",
       "District Name                             NaN        NaN        NaN   \n",
       "First Hearing Date                        NaN        NaN        NaN   \n",
       "Gender                                    NaN        NaN        NaN   \n",
       "IME-4 Count                               1.0        2.0        4.0   \n",
       "Industry Code                            45.0       61.0       71.0   \n",
       "Industry Code Description                 NaN        NaN        NaN   \n",
       "Medical Fee Region                        NaN        NaN        NaN   \n",
       "OIICS Nature of Injury Description        NaN        NaN        NaN   \n",
       "WCIO Cause of Injury Code                31.0       56.0       75.0   \n",
       "WCIO Cause of Injury Description          NaN        NaN        NaN   \n",
       "WCIO Nature of Injury Code               16.0       49.0       52.0   \n",
       "WCIO Nature of Injury Description         NaN        NaN        NaN   \n",
       "WCIO Part Of Body Code                   33.0       38.0       53.0   \n",
       "WCIO Part Of Body Description             NaN        NaN        NaN   \n",
       "Zip Code                                  NaN        NaN        NaN   \n",
       "Agreement Reached                         0.0        0.0        0.0   \n",
       "WCB Decision                              NaN        NaN        NaN   \n",
       "Number of Dependents                      1.0        3.0        5.0   \n",
       "\n",
       "                                            max  \n",
       "Accident Date                               NaN  \n",
       "Age at Injury                             117.0  \n",
       "Alternative Dispute Resolution              NaN  \n",
       "Assembly Date                               NaN  \n",
       "Attorney/Representative                     NaN  \n",
       "Average Weekly Wage                   2828079.0  \n",
       "Birth Year                               2018.0  \n",
       "C-2 Date                                    NaN  \n",
       "C-3 Date                                    NaN  \n",
       "Carrier Name                                NaN  \n",
       "Carrier Type                                NaN  \n",
       "Claim Identifier                    999891667.0  \n",
       "Claim Injury Type                           NaN  \n",
       "County of Injury                            NaN  \n",
       "COVID-19 Indicator                          NaN  \n",
       "District Name                               NaN  \n",
       "First Hearing Date                          NaN  \n",
       "Gender                                      NaN  \n",
       "IME-4 Count                                73.0  \n",
       "Industry Code                              92.0  \n",
       "Industry Code Description                   NaN  \n",
       "Medical Fee Region                          NaN  \n",
       "OIICS Nature of Injury Description          NaN  \n",
       "WCIO Cause of Injury Code                  99.0  \n",
       "WCIO Cause of Injury Description            NaN  \n",
       "WCIO Nature of Injury Code                 91.0  \n",
       "WCIO Nature of Injury Description           NaN  \n",
       "WCIO Part Of Body Code                     99.0  \n",
       "WCIO Part Of Body Description               NaN  \n",
       "Zip Code                                    NaN  \n",
       "Agreement Reached                           1.0  \n",
       "WCB Decision                                NaN  \n",
       "Number of Dependents                        6.0  "
      ]
     },
     "execution_count": 7,
     "metadata": {},
     "output_type": "execute_result"
    }
   ],
   "source": [
    "df.describe(include = 'all').round(2).T"
   ]
  },
  {
   "cell_type": "markdown",
   "id": "6ecbbdb9",
   "metadata": {},
   "source": [
    "## Observations and Irregularities in Dataset\n",
    "\n",
    "### 1. Missing Values\n",
    "- The **OIICS Nature of Injury Description** column has no entries at all (`0.0 count`), indicating that this variable is entirely missing. This may require dropping the column from analysis or substituting it with an appropriate placeholder if needed.\n",
    "\n",
    "### 2. Extreme Values in Numerical Columns\n",
    "- **Average Weekly Wage**: The maximum value is **2,828,079**, which seems unusually high compared to the mean of **491.09**. This may indicate outliers or data entry errors.\n",
    "- **Claim Identifier**: The mean is very high at **23,667,598.79** with a maximum value of **999,891,667.0**, which could suggest an issue with how these identifiers are generated or logged. This high variability may require further examination.\n",
    "\n",
    "### 3. Unusual Values for Categorical Variables\n",
    "- **Gender**: There are **4 unique values** for this column, which is unexpected if it typically only represents male and female. Investigating these unique values could be helpful.\n",
    "- **WCB Decision**: The count indicates that every entry states “Not Work Related,” suggesting that this variable may not be functioning as expected, or it might require further investigation into why other categories are absent.\n",
    "\n",
    "### 4. Variability in Date Columns\n",
    "- Both **Accident Date** and **Assembly Date** have high unique counts (5539 and 1096, respectively), indicating diverse dates, but the frequency of specific dates (like `2020-03-01` for Accident Date) could suggest clustering or common reporting patterns.\n",
    "- **C-3 Date** has significantly fewer non-null entries (187,245), indicating that not all claims have received this form, which may impact analysis regarding claims processing times.\n",
    "\n",
    "### 5. Binary Variables with Low Variability\n",
    "- **Agreement Reached** has a mean of **0.05**, indicating that only about 5% of claims result in an agreement without the involvement of WCB. This could signal a lack of diversity in outcomes.\n",
    "- **COVID-19 Indicator** has a similar pattern, showing that the majority of claims do not appear to be related to COVID-19, which could skew insights if this factor is essential for analysis.\n",
    "\n",
    "### 6. High Cardinality in Categorical Variables\n",
    "- **Carrier Name** and **County of Injury** have a large number of unique values (2046 and 63, respectively). While this is expected in datasets with various providers and geographical locations, it may complicate analysis and visualization, leading to potential overfitting in models if not handled properly.\n",
    "\n",
    "## Recommendations\n",
    "- **Data Cleaning**: Consider dropping or filling in missing values for entirely missing columns. Outliers should be investigated to determine if they are legitimate data points or errors.\n",
    "- **Examine Unique Values**: Review categorical columns with unexpected unique counts to understand their implications on your analysis.\n",
    "- **Standardization**: Standardizing formats (e.g., for dates) and converting categorical variables into more manageable forms (e.g., one-hot encoding) may improve the analysis and modeling process.\n",
    "- **Outlier Handling**: Use methods such as IQR or z-scores to identify and potentially treat outliers in numerical columns."
   ]
  },
  {
   "cell_type": "markdown",
   "id": "bbd10d92",
   "metadata": {},
   "source": [
    "## Variance"
   ]
  },
  {
   "cell_type": "code",
   "execution_count": 8,
   "id": "14bfe987",
   "metadata": {},
   "outputs": [
    {
     "data": {
      "text/plain": [
       "Age at Injury                         2.032459e+02\n",
       "Average Weekly Wage                   3.712365e+07\n",
       "Birth Year                            1.719300e+05\n",
       "Claim Identifier                      1.164827e+16\n",
       "IME-4 Count                           8.021942e+00\n",
       "Industry Code                         3.858936e+02\n",
       "OIICS Nature of Injury Description             NaN\n",
       "WCIO Cause of Injury Code             6.694784e+02\n",
       "WCIO Nature of Injury Code            4.931740e+02\n",
       "WCIO Part Of Body Code                5.002353e+02\n",
       "Agreement Reached                     4.448758e-02\n",
       "Number of Dependents                  4.003206e+00\n",
       "dtype: float64"
      ]
     },
     "execution_count": 8,
     "metadata": {},
     "output_type": "execute_result"
    }
   ],
   "source": [
    "df.var(numeric_only=True)"
   ]
  },
  {
   "cell_type": "markdown",
   "id": "0d143fd8",
   "metadata": {},
   "source": [
    "## Insights from Variance Output of Numeric Variables\n",
    "\n",
    "### 1. **High Variability in Key Variables**\n",
    "- **Average Weekly Wage**: The variance of **37,123,650** suggests a significant disparity in wages among the claims. This indicates that while many claimants may earn a typical wage, there are outliers earning substantially higher amounts. This high variance could skew analyses related to compensation and benefits.\n",
    "  \n",
    "- **Claim Identifier**: With a variance of **1.164827e+16**, this suggests a large range of values. If this is truly an identifier, it should ideally have low variance, indicating a consistent format across entries. A high variance in claim identifiers may point to inconsistencies in data entry or generation processes.\n",
    "\n",
    "### 2. **Moderate to Low Variability in Other Variables**\n",
    "- **Age at Injury**: The variance of **203.25** indicates that most injured workers fall within a relatively similar age range, but with some variation. This could help identify demographic trends in workplace injuries.\n",
    "  \n",
    "- **IME-4 Count**: A variance of **8.02** suggests that the number of IME-4 forms received per claim does not vary widely, indicating that most claims are likely processed similarly in terms of medical evaluations.\n",
    "\n",
    "- **Number of Dependents**: The variance of **4.00** shows some variability, suggesting that claims can vary in the number of dependents involved. This may affect benefit calculations and eligibility for support.\n",
    "\n",
    "### 3. **Low Variance in Certain Injury Codes**\n",
    "- **Industry Code**: The variance of **385.89** indicates diversity in industries but also suggests that many claims likely come from a core set of industries, which could be explored further in analysis.\n",
    "\n",
    "- **WCIO Cause of Injury Code** and **WCIO Nature of Injury Code** have variances of **669.48** and **493.17**, respectively, suggesting a moderate amount of variability in the nature and causes of injuries, but still indicate some level of concentration in certain categories.\n",
    "\n",
    "### 4. **Variable with No Variance**\n",
    "- **OIICS Nature of Injury Description** has no entries (NaN), indicating a complete lack of data. This variable should either be addressed through data cleaning or removed from further analysis.\n",
    "\n",
    "### 5. **Binary Variable Variance**\n",
    "- **Agreement Reached** has a very low variance of **0.0445**, reflecting that the vast majority of claims do not result in an agreement without the involvement of WCB. This suggests that such outcomes are rare and may require special consideration in analyses.\n",
    "\n",
    "## Recommendations\n",
    "- **Investigate Outliers**: For variables with high variance, especially Average Weekly Wage, consider investigating outliers to determine if they represent legitimate data points or errors.\n",
    "- **Data Validation**: Ensure that the Claim Identifier is being generated and recorded consistently across the dataset to prevent issues in further analyses.\n",
    "- **Explore Demographics**: Utilize the Age at Injury variable to analyze trends related to age demographics in workplace injuries.\n",
    "- **Consider Variable Removal**: If certain variables (like OIICS Nature of Injury Description) are consistently NaN, they may not be useful for analysis and should be considered for removal.\n",
    "\n"
   ]
  },
  {
   "cell_type": "markdown",
   "id": "5ba200b9",
   "metadata": {},
   "source": [
    "# <span style=\"color:#e0bda8\">5. Data Preprocessing</span>"
   ]
  },
  {
   "cell_type": "markdown",
   "id": "5843c63c",
   "metadata": {},
   "source": [
    "## Conversion of the dates in the dataframe to datetime"
   ]
  },
  {
   "cell_type": "code",
   "execution_count": 9,
   "id": "31029768",
   "metadata": {},
   "outputs": [],
   "source": [
    "dates = ['Accident Date', 'Assembly Date', 'C-2 Date','C-3 Date', 'First Hearing Date' ]\n",
    "for date in dates: \n",
    "    df[date] = pd.to_datetime(df[date])"
   ]
  },
  {
   "cell_type": "markdown",
   "id": "762bae48",
   "metadata": {},
   "source": [
    "## Duplicates"
   ]
  },
  {
   "cell_type": "markdown",
   "id": "643ccf3e",
   "metadata": {},
   "source": [
    "Remove duplicates if there are any:"
   ]
  },
  {
   "cell_type": "code",
   "execution_count": 10,
   "id": "a0fbc796",
   "metadata": {},
   "outputs": [
    {
     "data": {
      "text/plain": [
       "False"
      ]
     },
     "execution_count": 10,
     "metadata": {},
     "output_type": "execute_result"
    }
   ],
   "source": [
    "df.duplicated().any() #there are no duplicates"
   ]
  },
  {
   "cell_type": "markdown",
   "id": "1c6143c7",
   "metadata": {},
   "source": [
    "## Missing Values"
   ]
  },
  {
   "cell_type": "code",
   "execution_count": 11,
   "id": "1fdf3a8d",
   "metadata": {},
   "outputs": [
    {
     "data": {
      "text/plain": [
       "Accident Date                          23134\n",
       "Age at Injury                          19445\n",
       "Alternative Dispute Resolution         19445\n",
       "Assembly Date                              0\n",
       "Attorney/Representative                19445\n",
       "Average Weekly Wage                    48096\n",
       "Birth Year                             48523\n",
       "C-2 Date                               34005\n",
       "C-3 Date                              406226\n",
       "Carrier Name                           19445\n",
       "Carrier Type                           19445\n",
       "Claim Identifier                           0\n",
       "Claim Injury Type                      19445\n",
       "County of Injury                       19445\n",
       "COVID-19 Indicator                     19445\n",
       "District Name                          19445\n",
       "First Hearing Date                    442673\n",
       "Gender                                 19445\n",
       "IME-4 Count                           460668\n",
       "Industry Code                          29403\n",
       "Industry Code Description              29403\n",
       "Medical Fee Region                     19445\n",
       "OIICS Nature of Injury Description    593471\n",
       "WCIO Cause of Injury Code              35085\n",
       "WCIO Cause of Injury Description       35085\n",
       "WCIO Nature of Injury Code             35102\n",
       "WCIO Nature of Injury Description      35102\n",
       "WCIO Part Of Body Code                 36527\n",
       "WCIO Part Of Body Description          36527\n",
       "Zip Code                               48082\n",
       "Agreement Reached                      19445\n",
       "WCB Decision                           19445\n",
       "Number of Dependents                   19445\n",
       "dtype: int64"
      ]
     },
     "execution_count": 11,
     "metadata": {},
     "output_type": "execute_result"
    }
   ],
   "source": [
    "# Check number of missing values\n",
    "df.isna().sum()"
   ]
  },
  {
   "cell_type": "markdown",
   "id": "873e2911",
   "metadata": {},
   "source": [
    "The column: 'OIICS Nature of Injury Description' is missing all its values, so we drop it."
   ]
  },
  {
   "cell_type": "code",
   "execution_count": 12,
   "id": "0a789b0c",
   "metadata": {},
   "outputs": [
    {
     "data": {
      "text/plain": [
       "True"
      ]
     },
     "execution_count": 12,
     "metadata": {},
     "output_type": "execute_result"
    }
   ],
   "source": [
    "df['OIICS Nature of Injury Description'].isna().all()"
   ]
  },
  {
   "cell_type": "code",
   "execution_count": 13,
   "id": "7cfa2549",
   "metadata": {},
   "outputs": [],
   "source": [
    "df = df.drop('OIICS Nature of Injury Description', axis=1)"
   ]
  },
  {
   "cell_type": "markdown",
   "id": "62ba0615",
   "metadata": {},
   "source": [
    "There's a lot of columns with the same number of missing values (19945) and none has less than that besides Assembly Date and Claim Identifier. Let's check if the 19945 missing values on all the remaining columns match. If they do, this means that there's no information on those patients so we should remove those rows."
   ]
  },
  {
   "cell_type": "code",
   "execution_count": 14,
   "id": "9724d57e",
   "metadata": {},
   "outputs": [],
   "source": [
    "no_district = df[df['District Name'].isna()] #example of column with 19945 missing values\n"
   ]
  },
  {
   "cell_type": "code",
   "execution_count": 15,
   "id": "e9c68723",
   "metadata": {},
   "outputs": [
    {
     "data": {
      "text/plain": [
       "Accident Date                         True\n",
       "Age at Injury                         True\n",
       "Alternative Dispute Resolution        True\n",
       "Assembly Date                        False\n",
       "Attorney/Representative               True\n",
       "Average Weekly Wage                   True\n",
       "Birth Year                            True\n",
       "C-2 Date                              True\n",
       "C-3 Date                              True\n",
       "Carrier Name                          True\n",
       "Carrier Type                          True\n",
       "Claim Identifier                     False\n",
       "Claim Injury Type                     True\n",
       "County of Injury                      True\n",
       "COVID-19 Indicator                    True\n",
       "District Name                         True\n",
       "First Hearing Date                    True\n",
       "Gender                                True\n",
       "IME-4 Count                           True\n",
       "Industry Code                         True\n",
       "Industry Code Description             True\n",
       "Medical Fee Region                    True\n",
       "WCIO Cause of Injury Code             True\n",
       "WCIO Cause of Injury Description      True\n",
       "WCIO Nature of Injury Code            True\n",
       "WCIO Nature of Injury Description     True\n",
       "WCIO Part Of Body Code                True\n",
       "WCIO Part Of Body Description         True\n",
       "Zip Code                              True\n",
       "Agreement Reached                     True\n",
       "WCB Decision                          True\n",
       "Number of Dependents                  True\n",
       "dtype: bool"
      ]
     },
     "execution_count": 15,
     "metadata": {},
     "output_type": "execute_result"
    }
   ],
   "source": [
    "no_district.isna().all()"
   ]
  },
  {
   "cell_type": "markdown",
   "id": "91365caa",
   "metadata": {},
   "source": [
    "As the assumption was verified, the rows from the dataset were removed."
   ]
  },
  {
   "cell_type": "code",
   "execution_count": 16,
   "id": "03189b65",
   "metadata": {},
   "outputs": [],
   "source": [
    "df = df.drop(no_district.index)"
   ]
  },
  {
   "cell_type": "markdown",
   "id": "18c7d745",
   "metadata": {},
   "source": [
    "IME-4 Count has many missing values, but maybe this means they didn't count any (so should be 0). After verifying that there are no 0s in IME-4 Count, the missing values were filled with 0."
   ]
  },
  {
   "cell_type": "code",
   "execution_count": 17,
   "id": "b353377d",
   "metadata": {},
   "outputs": [
    {
     "data": {
      "text/plain": [
       "array([nan,  4.,  1.,  3.,  2.,  6.,  7.,  5., 10., 12.,  8.,  9., 11.,\n",
       "       13., 14., 36., 15., 20., 19., 18., 27., 17., 16., 24., 22., 26.,\n",
       "       21., 23., 30., 32., 39., 25., 29., 47., 48., 34., 28., 37., 31.,\n",
       "       35., 33., 73.])"
      ]
     },
     "execution_count": 17,
     "metadata": {},
     "output_type": "execute_result"
    }
   ],
   "source": [
    "df['IME-4 Count'].unique() "
   ]
  },
  {
   "cell_type": "code",
   "execution_count": 18,
   "id": "7e17d12b",
   "metadata": {},
   "outputs": [],
   "source": [
    "df['IME-4 Count'] = df['IME-4 Count'].fillna(0)\n"
   ]
  },
  {
   "cell_type": "code",
   "execution_count": 19,
   "id": "4c1a73ca",
   "metadata": {},
   "outputs": [],
   "source": [
    "#missing values on first hearing are dates not scheduled yet, not sure how to handle it"
   ]
  },
  {
   "cell_type": "code",
   "execution_count": 20,
   "id": "919c3816",
   "metadata": {},
   "outputs": [
    {
     "data": {
      "text/plain": [
       "Accident Date                          3689\n",
       "Age at Injury                             0\n",
       "Alternative Dispute Resolution            0\n",
       "Assembly Date                             0\n",
       "Attorney/Representative                   0\n",
       "Average Weekly Wage                   28651\n",
       "Birth Year                            29078\n",
       "C-2 Date                              14560\n",
       "C-3 Date                             386781\n",
       "Carrier Name                              0\n",
       "Carrier Type                              0\n",
       "Claim Identifier                          0\n",
       "Claim Injury Type                         0\n",
       "County of Injury                          0\n",
       "COVID-19 Indicator                        0\n",
       "District Name                             0\n",
       "First Hearing Date                   423228\n",
       "Gender                                    0\n",
       "IME-4 Count                               0\n",
       "Industry Code                          9958\n",
       "Industry Code Description              9958\n",
       "Medical Fee Region                        0\n",
       "WCIO Cause of Injury Code             15640\n",
       "WCIO Cause of Injury Description      15640\n",
       "WCIO Nature of Injury Code            15657\n",
       "WCIO Nature of Injury Description     15657\n",
       "WCIO Part Of Body Code                17082\n",
       "WCIO Part Of Body Description         17082\n",
       "Zip Code                              28637\n",
       "Agreement Reached                         0\n",
       "WCB Decision                              0\n",
       "Number of Dependents                      0\n",
       "dtype: int64"
      ]
     },
     "execution_count": 20,
     "metadata": {},
     "output_type": "execute_result"
    }
   ],
   "source": [
    "# Check the updated number of missing values\n",
    "df.isna().sum() "
   ]
  },
  {
   "cell_type": "code",
   "execution_count": 21,
   "id": "98115bb2",
   "metadata": {},
   "outputs": [
    {
     "data": {
      "text/plain": [
       "Accident Date                         0.642654\n",
       "Age at Injury                         0.000000\n",
       "Alternative Dispute Resolution        0.000000\n",
       "Assembly Date                         0.000000\n",
       "Attorney/Representative               0.000000\n",
       "Average Weekly Wage                   4.991237\n",
       "Birth Year                            5.065624\n",
       "C-2 Date                              2.536470\n",
       "C-3 Date                             67.380397\n",
       "Carrier Name                          0.000000\n",
       "Carrier Type                          0.000000\n",
       "Claim Identifier                      0.000000\n",
       "Claim Injury Type                     0.000000\n",
       "County of Injury                      0.000000\n",
       "COVID-19 Indicator                    0.000000\n",
       "District Name                         0.000000\n",
       "First Hearing Date                   73.729761\n",
       "Gender                                0.000000\n",
       "IME-4 Count                           0.000000\n",
       "Industry Code                         1.734765\n",
       "Industry Code Description             1.734765\n",
       "Medical Fee Region                    0.000000\n",
       "WCIO Cause of Injury Code             2.724615\n",
       "WCIO Cause of Injury Description      2.724615\n",
       "WCIO Nature of Injury Code            2.727577\n",
       "WCIO Nature of Injury Description     2.727577\n",
       "WCIO Part Of Body Code                2.975823\n",
       "WCIO Part Of Body Description         2.975823\n",
       "Zip Code                              4.988798\n",
       "Agreement Reached                     0.000000\n",
       "WCB Decision                          0.000000\n",
       "Number of Dependents                  0.000000\n",
       "dtype: float64"
      ]
     },
     "execution_count": 21,
     "metadata": {},
     "output_type": "execute_result"
    }
   ],
   "source": [
    "#Check the percentage of missing values\n",
    "df.isna().sum() / df.shape[0] * 100"
   ]
  },
  {
   "cell_type": "markdown",
   "id": "6399583d",
   "metadata": {},
   "source": [
    "Check if there's information on the 'Age at Injury' for the rows where the accident date isn't stated. If it were, this would mean that we could estimate the accident date (we would also need the birth year, but we didn't check that because age only has 0s so it will already not work)."
   ]
  },
  {
   "cell_type": "code",
   "execution_count": 22,
   "id": "090ff5da",
   "metadata": {},
   "outputs": [
    {
     "data": {
      "text/plain": [
       "array([0.])"
      ]
     },
     "execution_count": 22,
     "metadata": {},
     "output_type": "execute_result"
    }
   ],
   "source": [
    "df[df['Accident Date'].isna()]['Age at Injury'].unique()"
   ]
  },
  {
   "cell_type": "code",
   "execution_count": 23,
   "id": "bc7d4c58",
   "metadata": {},
   "outputs": [],
   "source": [
    "#nao sei se devia remover estas datas ou nao (por serem uma percentagem tao pequena) mas fiz a mediana"
   ]
  },
  {
   "cell_type": "code",
   "execution_count": 24,
   "id": "e83003f1",
   "metadata": {},
   "outputs": [],
   "source": [
    "dates = df['Accident Date'].dropna().values\n",
    "dates_ordered = np.sort(dates)\n",
    "median_date = dates_ordered[int(len(dates)/2+1)]\n",
    "df['Accident Date'] = df['Accident Date'].fillna(median_date) "
   ]
  },
  {
   "cell_type": "markdown",
   "id": "7ef21440",
   "metadata": {},
   "source": [
    "## Outliers + rest of missing values on Birth Year"
   ]
  },
  {
   "cell_type": "markdown",
   "id": "815545ec",
   "metadata": {},
   "source": [
    "Analyzing the 'Age at Injury' and 'Birth Year' columns, we noticed that when a value on one of these informations is 0, the other is given most of the times. \n",
    "We decided to fill the values where that happens with the calculated value given the other factors provided."
   ]
  },
  {
   "cell_type": "code",
   "execution_count": 25,
   "id": "aa0c718e",
   "metadata": {},
   "outputs": [],
   "source": [
    "#fiz imensas cópias porque o código estava só a dar mal (por outros motivos acho) mas precisava de fazer coisas separadas sem adicionar colunas ao df ou sobrepor valores atualizados. provavelmente so precisava de duas copias ou até de uma"
   ]
  },
  {
   "cell_type": "code",
   "execution_count": 26,
   "id": "ee2b8c84",
   "metadata": {},
   "outputs": [],
   "source": [
    "copy = df.copy()\n",
    "copy2 = df.copy()\n",
    "copy3 = df.copy()"
   ]
  },
  {
   "cell_type": "code",
   "execution_count": 27,
   "id": "af4993c8",
   "metadata": {},
   "outputs": [
    {
     "data": {
      "text/plain": [
       "0.0      5464\n",
       "1.0         2\n",
       "5.0         1\n",
       "7.0         2\n",
       "8.0         6\n",
       "         ... \n",
       "112.0      24\n",
       "113.0       1\n",
       "114.0       1\n",
       "115.0       1\n",
       "117.0       2\n",
       "Name: Age at Injury, Length: 108, dtype: int64"
      ]
     },
     "execution_count": 27,
     "metadata": {},
     "output_type": "execute_result"
    }
   ],
   "source": [
    "df['Age at Injury'].value_counts().sort_index() #there are some ages wrongfully registered as 0 (lowest value)"
   ]
  },
  {
   "cell_type": "code",
   "execution_count": 28,
   "id": "e095feed",
   "metadata": {},
   "outputs": [
    {
     "data": {
      "text/plain": [
       "0.0       25081\n",
       "1900.0        2\n",
       "1901.0       30\n",
       "1902.0       28\n",
       "1903.0       35\n",
       "          ...  \n",
       "2011.0        6\n",
       "2012.0        2\n",
       "2013.0        1\n",
       "2014.0        2\n",
       "2018.0        2\n",
       "Name: Birth Year, Length: 107, dtype: int64"
      ]
     },
     "execution_count": 28,
     "metadata": {},
     "output_type": "execute_result"
    }
   ],
   "source": [
    "df['Birth Year'].value_counts().sort_index() # there are some birth years wrongfully registered as 0 (lowest value)"
   ]
  },
  {
   "cell_type": "markdown",
   "id": "c997d269",
   "metadata": {},
   "source": [
    "Creation of the calculated birth year and age at injury to see where they match the given ones. "
   ]
  },
  {
   "cell_type": "code",
   "execution_count": 29,
   "id": "e9bf2fc0",
   "metadata": {},
   "outputs": [],
   "source": [
    "copy['Calculated Birth Year'] = copy['Accident Date'].dt.year - copy['Age at Injury']\n",
    "copy['Calculated Age at Injury'] = copy['Accident Date'].dt.year - copy['Birth Year']\n",
    "copy2['Calculated Birth Year'] = copy2['Accident Date'].dt.year - copy2['Age at Injury']\n",
    "copy2['Calculated Age at Injury'] = copy2['Accident Date'].dt.year - copy2['Birth Year']\n",
    "copy3['Calculated Birth Year'] = copy3['Accident Date'].dt.year - copy3['Age at Injury']\n",
    "copy3['Calculated Age at Injury'] = copy3['Accident Date'].dt.year - copy3['Birth Year']"
   ]
  },
  {
   "cell_type": "markdown",
   "id": "67ffab41",
   "metadata": {},
   "source": [
    "Case 1: The birth year calculated and the one established in the 'Birth Year' column showed significant differences for some rows. Analyzing different_birth_years (all discrepancies where 'Birth Year' was not 0), we found that these differences were due to ages being incorrectly recorded as 0 in those rows. In these cases, we replaced the age with the calculated age."
   ]
  },
  {
   "cell_type": "code",
   "execution_count": 30,
   "id": "dad61d5e",
   "metadata": {},
   "outputs": [],
   "source": [
    "copy['Birth Years Comparison'] = abs(copy['Birth Year']-copy['Calculated Birth Year'])\n",
    "different_birth_years = copy[copy['Birth Years Comparison']>1]\n",
    "ages_wrong = different_birth_years[different_birth_years['Birth Year']>0]\n",
    "ages_indexes = ages_wrong.index\n",
    "df.loc[ages_indexes, 'Age at Injury'] = copy.loc[ages_indexes, 'Calculated Age at Injury']"
   ]
  },
  {
   "cell_type": "code",
   "execution_count": 31,
   "id": "d232f1cc",
   "metadata": {},
   "outputs": [
    {
     "data": {
      "text/plain": [
       "True"
      ]
     },
     "execution_count": 31,
     "metadata": {},
     "output_type": "execute_result"
    }
   ],
   "source": [
    "all(ages_wrong['Age at Injury']==0) #verification that all ages were 0 in that case"
   ]
  },
  {
   "cell_type": "markdown",
   "id": "8e100ef2",
   "metadata": {},
   "source": [
    "Case 2: Similar to Case 1, but this time the discrepancies in age (where it was larger than 0) occurred because all birth years were initially set to 0. We replaced the birth year in these rows with the calculated birth year."
   ]
  },
  {
   "cell_type": "code",
   "execution_count": 32,
   "id": "69bab770",
   "metadata": {},
   "outputs": [],
   "source": [
    "copy2['Ages Comparison'] = abs(copy2['Age at Injury']-copy2['Calculated Age at Injury'])\n",
    "different_ages = copy2[copy2['Ages Comparison']>1]\n",
    "birth_year_wrong = different_ages[different_ages['Age at Injury']>0]\n",
    "birth_year_indexes = birth_year_wrong.index\n",
    "df.loc[birth_year_indexes, 'Birth Year'] = copy2.loc[birth_year_indexes, 'Calculated Birth Year']"
   ]
  },
  {
   "cell_type": "code",
   "execution_count": 33,
   "id": "772ba43a",
   "metadata": {},
   "outputs": [
    {
     "data": {
      "text/plain": [
       "True"
      ]
     },
     "execution_count": 33,
     "metadata": {},
     "output_type": "execute_result"
    }
   ],
   "source": [
    "all(birth_year_wrong['Birth Year']==0) #verification that all birth years were 0 in that case"
   ]
  },
  {
   "cell_type": "markdown",
   "id": "07d77582",
   "metadata": {},
   "source": [
    "Case 3: Some birth years were missing values with the age at injury and accident date defined, so we replaced them with the calculated birth year."
   ]
  },
  {
   "cell_type": "code",
   "execution_count": 34,
   "id": "3e14965b",
   "metadata": {},
   "outputs": [],
   "source": [
    "birth_nas = copy3[copy3['Birth Year'].isna()]\n",
    "age_abv_0 = birth_nas[birth_nas['Age at Injury']>0]\n",
    "age_abv_0_indexes = age_abv_0.index\n",
    "df.loc[age_abv_0_indexes, 'Birth Year'] = copy3.loc[age_abv_0_indexes, 'Calculated Birth Year']"
   ]
  },
  {
   "cell_type": "code",
   "execution_count": 35,
   "id": "e1d39079",
   "metadata": {},
   "outputs": [
    {
     "data": {
      "text/plain": [
       "False"
      ]
     },
     "execution_count": 35,
     "metadata": {},
     "output_type": "execute_result"
    }
   ],
   "source": [
    "any(age_abv_0['Age at Injury']==0) #verification that there are no 0s in age for these cases (nor missing values as we've checked before). This means that calculating Birth Year using Age at Injury is possible "
   ]
  },
  {
   "cell_type": "markdown",
   "id": "074ccb8a",
   "metadata": {},
   "source": [
    "We could confirm at the end that the remaining 0 values on age at injury match the 0 + missing values on birth year."
   ]
  },
  {
   "cell_type": "code",
   "execution_count": 36,
   "id": "bc2a990d",
   "metadata": {},
   "outputs": [
    {
     "data": {
      "text/plain": [
       "0.0    1926\n",
       "NaN     260\n",
       "Name: Birth Year, dtype: int64"
      ]
     },
     "execution_count": 36,
     "metadata": {},
     "output_type": "execute_result"
    }
   ],
   "source": [
    "test_age = df[df['Age at Injury']==0]\n",
    "count_birth_year = test_age['Birth Year'].value_counts(dropna=False)\n",
    "count_birth_year"
   ]
  },
  {
   "cell_type": "code",
   "execution_count": 37,
   "id": "76a6ae22",
   "metadata": {},
   "outputs": [
    {
     "data": {
      "text/plain": [
       "1926"
      ]
     },
     "execution_count": 37,
     "metadata": {},
     "output_type": "execute_result"
    }
   ],
   "source": [
    "birth_year_0 = df[df['Birth Year']==0]\n",
    "len(birth_year_0)"
   ]
  },
  {
   "cell_type": "code",
   "execution_count": 38,
   "id": "f5b7d36e",
   "metadata": {},
   "outputs": [
    {
     "data": {
      "text/plain": [
       "260"
      ]
     },
     "execution_count": 38,
     "metadata": {},
     "output_type": "execute_result"
    }
   ],
   "source": [
    "birth_year_na = df[df['Birth Year'].isna()]\n",
    "len(birth_year_na) #all the 0 and missing values on Birth Year from df are also present when the age is 0. "
   ]
  },
  {
   "cell_type": "markdown",
   "id": "98deef55",
   "metadata": {},
   "source": [
    "After we solved the cases where we could estimate the missing values more precisely, we filled the remaining ones with the median age and the median year"
   ]
  },
  {
   "cell_type": "code",
   "execution_count": 39,
   "id": "5c0b05a0",
   "metadata": {},
   "outputs": [],
   "source": [
    "median_age = df.loc[df['Age at Injury'] != 0, 'Age at Injury'].median()\n",
    "df['Age at Injury'] = df['Age at Injury'].replace(0, median_age)"
   ]
  },
  {
   "cell_type": "code",
   "execution_count": 40,
   "id": "de7dab75",
   "metadata": {},
   "outputs": [],
   "source": [
    "median_year = df.loc[df['Birth Year'] != 0, 'Birth Year'].median()\n",
    "df['Birth Year'] = df['Birth Year'].replace(0, median_year)\n",
    "df['Birth Year']= df['Birth Year'].fillna(median_year)"
   ]
  },
  {
   "cell_type": "markdown",
   "id": "057b3f98",
   "metadata": {},
   "source": [
    "## Feature Engineering"
   ]
  },
  {
   "cell_type": "markdown",
   "id": "d625177f",
   "metadata": {},
   "source": [
    "### Time"
   ]
  },
  {
   "cell_type": "markdown",
   "id": "78fe9c1a",
   "metadata": {},
   "source": [
    "Some time parameters to see how fast the employee, employer and WCB acted in order to solve the problem. Most of the \"wrong\" cases are due to the median filler in Accident Date (there's still some other wrong cases, but are very few as follows)."
   ]
  },
  {
   "cell_type": "code",
   "execution_count": 41,
   "id": "8ae5b2d6",
   "metadata": {},
   "outputs": [],
   "source": [
    "df['Employees Promptness'] = (df['C-3 Date'] - df['Accident Date']).dt.days\n",
    "df['Employers Responsiveness'] = (df['C-2 Date'] - df['Accident Date']).dt.days\n",
    "df['WCB Assembly Responsiveness'] = (df['Assembly Date'] - df['Accident Date']).dt.days.astype(float) #unica sem missing values, fica int enquanto as outras ficam float\n",
    "df['WCB Hearing Responsiveness'] = (df['First Hearing Date']-df['Accident Date']).dt.days"
   ]
  },
  {
   "cell_type": "code",
   "execution_count": 42,
   "id": "6b4aed4f",
   "metadata": {},
   "outputs": [
    {
     "data": {
      "text/plain": [
       "2021-06-27    1922\n",
       "2020-02-26       8\n",
       "2020-09-23       7\n",
       "2022-07-19       6\n",
       "2021-09-30       6\n",
       "              ... \n",
       "2022-06-06       1\n",
       "2023-04-26       1\n",
       "2019-11-22       1\n",
       "2020-07-27       1\n",
       "2020-01-31       1\n",
       "Name: Accident Date, Length: 693, dtype: int64"
      ]
     },
     "execution_count": 42,
     "metadata": {},
     "output_type": "execute_result"
    }
   ],
   "source": [
    "wrong_promptness = df[df['Employees Promptness']<0]\n",
    "wrong_promptness['Accident Date'].value_counts() #verification that in these categories most wrong values are on the median date filler"
   ]
  },
  {
   "cell_type": "code",
   "execution_count": 43,
   "id": "29798036",
   "metadata": {},
   "outputs": [
    {
     "data": {
      "text/plain": [
       "2021-06-27    1012\n",
       "2021-01-05       7\n",
       "2021-09-30       6\n",
       "2020-09-09       5\n",
       "2022-08-09       5\n",
       "              ... \n",
       "2020-12-07       1\n",
       "2022-06-01       1\n",
       "2022-05-23       1\n",
       "2020-10-23       1\n",
       "2023-03-07       1\n",
       "Name: Accident Date, Length: 609, dtype: int64"
      ]
     },
     "execution_count": 43,
     "metadata": {},
     "output_type": "execute_result"
    }
   ],
   "source": [
    "wrong_employers = df[df['Employers Responsiveness']<0]\n",
    "wrong_employers['Accident Date'].value_counts()"
   ]
  },
  {
   "cell_type": "code",
   "execution_count": 44,
   "id": "c853231c",
   "metadata": {},
   "outputs": [
    {
     "data": {
      "text/plain": [
       "2021-06-27    2009\n",
       "2020-02-26       8\n",
       "2021-09-30       7\n",
       "2021-05-26       7\n",
       "2021-01-05       7\n",
       "              ... \n",
       "2021-11-06       1\n",
       "2020-09-02       1\n",
       "2023-03-02       1\n",
       "2022-05-20       1\n",
       "2023-03-07       1\n",
       "Name: Accident Date, Length: 703, dtype: int64"
      ]
     },
     "execution_count": 44,
     "metadata": {},
     "output_type": "execute_result"
    }
   ],
   "source": [
    "wrong_assembly = df[df['WCB Assembly Responsiveness']<0]\n",
    "wrong_assembly['Accident Date'].value_counts()"
   ]
  },
  {
   "cell_type": "code",
   "execution_count": 45,
   "id": "e1ae39c0",
   "metadata": {},
   "outputs": [
    {
     "data": {
      "text/plain": [
       "2021-06-27    482\n",
       "2021-11-08      2\n",
       "2022-08-09      2\n",
       "2021-04-01      2\n",
       "2021-09-14      2\n",
       "             ... \n",
       "2020-09-21      1\n",
       "2021-01-06      1\n",
       "2023-02-17      1\n",
       "2021-02-03      1\n",
       "2023-05-04      1\n",
       "Name: Accident Date, Length: 69, dtype: int64"
      ]
     },
     "execution_count": 45,
     "metadata": {},
     "output_type": "execute_result"
    }
   ],
   "source": [
    "wrong_hearing = df[df['WCB Hearing Responsiveness']<0]\n",
    "wrong_hearing['Accident Date'].value_counts()"
   ]
  },
  {
   "cell_type": "markdown",
   "id": "2824de48",
   "metadata": {},
   "source": [
    "### Age"
   ]
  },
  {
   "cell_type": "code",
   "execution_count": 46,
   "id": "262743d5",
   "metadata": {},
   "outputs": [],
   "source": [
    "def age_groups(n):\n",
    "        if n<25:\n",
    "            return 'Under 25' \n",
    "        elif 25<=n<=44:\n",
    "            return 'Between 25 and 44'\n",
    "        elif 45<=n<=64:\n",
    "            return 'Between 45 and 64'\n",
    "        else:\n",
    "            return '65 and above'"
   ]
  },
  {
   "cell_type": "code",
   "execution_count": 47,
   "id": "f2e30784",
   "metadata": {},
   "outputs": [],
   "source": [
    "df['Age Group'] = df['Age at Injury'].apply(age_groups)"
   ]
  },
  {
   "cell_type": "code",
   "execution_count": 48,
   "id": "817e7a5e",
   "metadata": {},
   "outputs": [],
   "source": [
    "#ainda nao sei bem o que fazer com o wage, são 30000 missing values mas depois mais uns 300000 são 0, são imensos a não dar informação"
   ]
  },
  {
   "cell_type": "markdown",
   "id": "f92c6c24",
   "metadata": {},
   "source": [
    "### Wage "
   ]
  },
  {
   "cell_type": "code",
   "execution_count": 49,
   "id": "3e01462b",
   "metadata": {},
   "outputs": [],
   "source": [
    "def abv_avg(df, col):\n",
    "    return df[col]> df[col].mean()\n",
    "        "
   ]
  },
  {
   "cell_type": "code",
   "execution_count": 50,
   "id": "6b0d76f4",
   "metadata": {},
   "outputs": [],
   "source": [
    "df['Wage Above Average'] = abv_avg(df, 'Average Weekly Wage')\n",
    "df['Wage Above Average'] = df['Wage Above Average'].astype(float) #conversion to binary"
   ]
  },
  {
   "cell_type": "markdown",
   "id": "1345e861",
   "metadata": {},
   "source": [
    "To know if there were filed many forms: "
   ]
  },
  {
   "cell_type": "markdown",
   "id": "2bd532f3",
   "metadata": {},
   "source": [
    "### IME  "
   ]
  },
  {
   "cell_type": "code",
   "execution_count": 51,
   "id": "cc788767",
   "metadata": {},
   "outputs": [],
   "source": [
    " def ime_groups(n):\n",
    "    if n==0:\n",
    "        return 'None'\n",
    "    elif 1<=n<=3:\n",
    "        return 'Low'\n",
    "    elif 4<=n<=10:\n",
    "        return 'Medium'\n",
    "    else:\n",
    "        return 'High'"
   ]
  },
  {
   "cell_type": "code",
   "execution_count": 52,
   "id": "a6925fa1",
   "metadata": {},
   "outputs": [],
   "source": [
    "df['IME Classification'] = df['IME-4 Count'].apply(ime_groups)"
   ]
  },
  {
   "cell_type": "code",
   "execution_count": 53,
   "id": "57a44b4f",
   "metadata": {},
   "outputs": [
    {
     "name": "stdout",
     "output_type": "stream",
     "text": [
      "<class 'pandas.core.frame.DataFrame'>\n",
      "Int64Index: 574026 entries, 0 to 593467\n",
      "Data columns (total 39 columns):\n",
      " #   Column                             Non-Null Count   Dtype         \n",
      "---  ------                             --------------   -----         \n",
      " 0   Accident Date                      574026 non-null  datetime64[ns]\n",
      " 1   Age at Injury                      574026 non-null  float64       \n",
      " 2   Alternative Dispute Resolution     574026 non-null  object        \n",
      " 3   Assembly Date                      574026 non-null  datetime64[ns]\n",
      " 4   Attorney/Representative            574026 non-null  object        \n",
      " 5   Average Weekly Wage                545375 non-null  float64       \n",
      " 6   Birth Year                         574026 non-null  float64       \n",
      " 7   C-2 Date                           559466 non-null  datetime64[ns]\n",
      " 8   C-3 Date                           187245 non-null  datetime64[ns]\n",
      " 9   Carrier Name                       574026 non-null  object        \n",
      " 10  Carrier Type                       574026 non-null  object        \n",
      " 11  Claim Identifier                   574026 non-null  int64         \n",
      " 12  Claim Injury Type                  574026 non-null  object        \n",
      " 13  County of Injury                   574026 non-null  object        \n",
      " 14  COVID-19 Indicator                 574026 non-null  object        \n",
      " 15  District Name                      574026 non-null  object        \n",
      " 16  First Hearing Date                 150798 non-null  datetime64[ns]\n",
      " 17  Gender                             574026 non-null  object        \n",
      " 18  IME-4 Count                        574026 non-null  float64       \n",
      " 19  Industry Code                      564068 non-null  float64       \n",
      " 20  Industry Code Description          564068 non-null  object        \n",
      " 21  Medical Fee Region                 574026 non-null  object        \n",
      " 22  WCIO Cause of Injury Code          558386 non-null  float64       \n",
      " 23  WCIO Cause of Injury Description   558386 non-null  object        \n",
      " 24  WCIO Nature of Injury Code         558369 non-null  float64       \n",
      " 25  WCIO Nature of Injury Description  558369 non-null  object        \n",
      " 26  WCIO Part Of Body Code             556944 non-null  float64       \n",
      " 27  WCIO Part Of Body Description      556944 non-null  object        \n",
      " 28  Zip Code                           545389 non-null  object        \n",
      " 29  Agreement Reached                  574026 non-null  float64       \n",
      " 30  WCB Decision                       574026 non-null  object        \n",
      " 31  Number of Dependents               574026 non-null  float64       \n",
      " 32  Employees Promptness               187245 non-null  float64       \n",
      " 33  Employers Responsiveness           559466 non-null  float64       \n",
      " 34  WCB Assembly Responsiveness        574026 non-null  float64       \n",
      " 35  WCB Hearing Responsiveness         150798 non-null  float64       \n",
      " 36  Age Group                          574026 non-null  object        \n",
      " 37  Wage Above Average                 574026 non-null  float64       \n",
      " 38  IME Classification                 574026 non-null  object        \n",
      "dtypes: datetime64[ns](5), float64(15), int64(1), object(18)\n",
      "memory usage: 191.3+ MB\n"
     ]
    }
   ],
   "source": [
    "df.info()"
   ]
  },
  {
   "cell_type": "markdown",
   "id": "bf01bab4",
   "metadata": {},
   "source": [
    "## Categorical and Numerical variables"
   ]
  },
  {
   "cell_type": "markdown",
   "id": "c0e79f19",
   "metadata": {},
   "source": [
    "We separated the categorical and numerical variables. There are some floats that we gotta be extra careful to move into categorical."
   ]
  },
  {
   "cell_type": "code",
   "execution_count": 54,
   "id": "7a1654af",
   "metadata": {},
   "outputs": [],
   "source": [
    "non_numerical_floats = ['Industry Code', 'WCIO Cause of Injury Code', 'WCIO Nature of Injury Code','WCIO Part Of Body Code', 'Agreement Reached', 'Wage Above Average']\n",
    "non_numerical_floats_df = df[non_numerical_floats]\n",
    "df_floats = df.select_dtypes(include=['float64'])\n",
    "numerical = df_floats.drop(columns=non_numerical_floats)\n",
    "non_floats = df.select_dtypes(include=['object', 'int64', 'datetime64[ns]'])\n",
    "categorical = pd.concat([non_floats, non_numerical_floats_df], axis=1)\n"
   ]
  },
  {
   "cell_type": "code",
   "execution_count": 55,
   "id": "0e1a2a83",
   "metadata": {},
   "outputs": [
    {
     "name": "stdout",
     "output_type": "stream",
     "text": [
      "<class 'pandas.core.frame.DataFrame'>\n",
      "Int64Index: 574026 entries, 0 to 593467\n",
      "Data columns (total 9 columns):\n",
      " #   Column                       Non-Null Count   Dtype  \n",
      "---  ------                       --------------   -----  \n",
      " 0   Age at Injury                574026 non-null  float64\n",
      " 1   Average Weekly Wage          545375 non-null  float64\n",
      " 2   Birth Year                   574026 non-null  float64\n",
      " 3   IME-4 Count                  574026 non-null  float64\n",
      " 4   Number of Dependents         574026 non-null  float64\n",
      " 5   Employees Promptness         187245 non-null  float64\n",
      " 6   Employers Responsiveness     559466 non-null  float64\n",
      " 7   WCB Assembly Responsiveness  574026 non-null  float64\n",
      " 8   WCB Hearing Responsiveness   150798 non-null  float64\n",
      "dtypes: float64(9)\n",
      "memory usage: 59.9 MB\n"
     ]
    }
   ],
   "source": [
    "numerical.info()"
   ]
  },
  {
   "cell_type": "code",
   "execution_count": 56,
   "id": "4022f1bc",
   "metadata": {},
   "outputs": [
    {
     "name": "stdout",
     "output_type": "stream",
     "text": [
      "<class 'pandas.core.frame.DataFrame'>\n",
      "Int64Index: 574026 entries, 0 to 593467\n",
      "Data columns (total 30 columns):\n",
      " #   Column                             Non-Null Count   Dtype         \n",
      "---  ------                             --------------   -----         \n",
      " 0   Accident Date                      574026 non-null  datetime64[ns]\n",
      " 1   Alternative Dispute Resolution     574026 non-null  object        \n",
      " 2   Assembly Date                      574026 non-null  datetime64[ns]\n",
      " 3   Attorney/Representative            574026 non-null  object        \n",
      " 4   C-2 Date                           559466 non-null  datetime64[ns]\n",
      " 5   C-3 Date                           187245 non-null  datetime64[ns]\n",
      " 6   Carrier Name                       574026 non-null  object        \n",
      " 7   Carrier Type                       574026 non-null  object        \n",
      " 8   Claim Identifier                   574026 non-null  int64         \n",
      " 9   Claim Injury Type                  574026 non-null  object        \n",
      " 10  County of Injury                   574026 non-null  object        \n",
      " 11  COVID-19 Indicator                 574026 non-null  object        \n",
      " 12  District Name                      574026 non-null  object        \n",
      " 13  First Hearing Date                 150798 non-null  datetime64[ns]\n",
      " 14  Gender                             574026 non-null  object        \n",
      " 15  Industry Code Description          564068 non-null  object        \n",
      " 16  Medical Fee Region                 574026 non-null  object        \n",
      " 17  WCIO Cause of Injury Description   558386 non-null  object        \n",
      " 18  WCIO Nature of Injury Description  558369 non-null  object        \n",
      " 19  WCIO Part Of Body Description      556944 non-null  object        \n",
      " 20  Zip Code                           545389 non-null  object        \n",
      " 21  WCB Decision                       574026 non-null  object        \n",
      " 22  Age Group                          574026 non-null  object        \n",
      " 23  IME Classification                 574026 non-null  object        \n",
      " 24  Industry Code                      564068 non-null  float64       \n",
      " 25  WCIO Cause of Injury Code          558386 non-null  float64       \n",
      " 26  WCIO Nature of Injury Code         558369 non-null  float64       \n",
      " 27  WCIO Part Of Body Code             556944 non-null  float64       \n",
      " 28  Agreement Reached                  574026 non-null  float64       \n",
      " 29  Wage Above Average                 574026 non-null  float64       \n",
      "dtypes: datetime64[ns](5), float64(6), int64(1), object(18)\n",
      "memory usage: 151.9+ MB\n"
     ]
    }
   ],
   "source": [
    "categorical.info()"
   ]
  },
  {
   "cell_type": "code",
   "execution_count": 57,
   "id": "3d4ecf51",
   "metadata": {},
   "outputs": [
    {
     "data": {
      "image/png": "[encoded data removed]",
      "text/plain": [
       "<Figure size 648x216 with 1 Axes>"
      ]
     },
     "metadata": {
      "needs_background": "light"
     },
     "output_type": "display_data"
    },
    {
     "data": {
      "image/png": "[encoded data removed]",
      "text/plain": [
       "<Figure size 648x216 with 1 Axes>"
      ]
     },
     "metadata": {
      "needs_background": "light"
     },
     "output_type": "display_data"
    },
    {
     "data": {
      "image/png": "[encoded data removed]",
      "text/plain": [
       "<Figure size 648x216 with 1 Axes>"
      ]
     },
     "metadata": {
      "needs_background": "light"
     },
     "output_type": "display_data"
    },
    {
     "data": {
      "image/png": "[encoded data removed]",
      "text/plain": [
       "<Figure size 648x216 with 1 Axes>"
      ]
     },
     "metadata": {
      "needs_background": "light"
     },
     "output_type": "display_data"
    },
    {
     "data": {
      "image/png": "[encoded data removed]",
      "text/plain": [
       "<Figure size 648x216 with 1 Axes>"
      ]
     },
     "metadata": {
      "needs_background": "light"
     },
     "output_type": "display_data"
    },
    {
     "data": {
      "image/png": "[encoded data removed]",
      "text/plain": [
       "<Figure size 648x216 with 1 Axes>"
      ]
     },
     "metadata": {
      "needs_background": "light"
     },
     "output_type": "display_data"
    },
    {
     "data": {
      "image/png": "[encoded data removed]",
      "text/plain": [
       "<Figure size 648x216 with 1 Axes>"
      ]
     },
     "metadata": {
      "needs_background": "light"
     },
     "output_type": "display_data"
    },
    {
     "data": {
      "image/png": "[encoded data removed]",
      "text/plain": [
       "<Figure size 648x216 with 1 Axes>"
      ]
     },
     "metadata": {
      "needs_background": "light"
     },
     "output_type": "display_data"
    },
    {
     "data": {
      "image/png": "[encoded data removed]",
      "text/plain": [
       "<Figure size 648x216 with 1 Axes>"
      ]
     },
     "metadata": {
      "needs_background": "light"
     },
     "output_type": "display_data"
    }
   ],
   "source": [
    "for var in numerical:\n",
    "    fig, (ax1) = plt.subplots(1, figsize=(9, 3))\n",
    "    sns.boxplot(ax=ax1, x=numerical[var])\n",
    "    ax1.set_title(f\"Boxplot of {var}\")\n",
    "    plt.show()\n",
    "    "
   ]
  },
  {
   "cell_type": "markdown",
   "id": "45a3eee5",
   "metadata": {},
   "source": [
    "## Categorical Encoding"
   ]
  },
  {
   "cell_type": "code",
   "execution_count": 58,
   "id": "d094c9c7",
   "metadata": {},
   "outputs": [],
   "source": [
    "#Count encoding for Carrier Name and County of Injury\n",
    "carrier_counts = df['Carrier Name'].value_counts()\n",
    "carrier_counts_dict = carrier_counts.to_dict()\n",
    "df['Carrier Name'] = df['Carrier Name'].map(carrier_counts_dict)\n",
    "county_counts = df['County of Injury'].value_counts()\n",
    "county_counts_dict = county_counts.to_dict()\n",
    "df['County of Injury'] = df['County of Injury'].map(county_counts_dict)"
   ]
  },
  {
   "cell_type": "code",
   "execution_count": 59,
   "id": "846cc7fa",
   "metadata": {},
   "outputs": [
    {
     "data": {
      "text/plain": [
       "N    571412\n",
       "Y      2609\n",
       "U         5\n",
       "Name: Alternative Dispute Resolution, dtype: int64"
      ]
     },
     "execution_count": 59,
     "metadata": {},
     "output_type": "execute_result"
    }
   ],
   "source": [
    "df['Alternative Dispute Resolution'].value_counts()"
   ]
  },
  {
   "cell_type": "code",
   "execution_count": 60,
   "id": "ea1b964d",
   "metadata": {},
   "outputs": [
    {
     "data": {
      "text/plain": [
       "0    N\n",
       "dtype: object"
      ]
     },
     "execution_count": 60,
     "metadata": {},
     "output_type": "execute_result"
    }
   ],
   "source": [
    "df['Alternative Dispute Resolution'].mode()"
   ]
  },
  {
   "cell_type": "code",
   "execution_count": 61,
   "id": "b7c03a3e",
   "metadata": {},
   "outputs": [],
   "source": [
    "#Binary encoding for WCB Decision, COVID-19 Indicator, Attorney/Representative, Alternative Dispute Resolution\n",
    "df['WCB Decision'] = df['WCB Decision'].fillna('Work Related')\n",
    "df['WCB Decision'] = df['WCB Decision'].map({'Not Work Related': 0, 'Work Related': 1})\n",
    "df['COVID-19 Indicator'] = df['COVID-19 Indicator'].map({'Y': 1, 'N': 0})\n",
    "df['Attorney/Representative'] = df['Attorney/Representative'].map({'Y': 1, 'N': 0})\n",
    "df['Alternative Dispute Resolution'] = df['Alternative Dispute Resolution'].map({'Y': 1, 'N': 0, 'U': 0})"
   ]
  },
  {
   "cell_type": "code",
   "execution_count": 62,
   "id": "1c5d0bd2",
   "metadata": {},
   "outputs": [],
   "source": [
    "#One-hot encoding for Carrier Type, District Name, Medical Fee Region, Gender and  Claim Injury Type \n",
    "df = pd.get_dummies(df, columns=['Carrier Type'], drop_first=True)\n",
    "df = pd.get_dummies(df, columns=['District Name'], drop_first=True)\n",
    "df = pd.get_dummies(df, columns=['Medical Fee Region'], drop_first=True)\n",
    "df = pd.get_dummies(df, columns=['Gender'], drop_first=True)\n"
   ]
  },
  {
   "cell_type": "code",
   "execution_count": 63,
   "id": "c2d228b3",
   "metadata": {},
   "outputs": [],
   "source": [
    "#Label encoding for Age Group and IME Classification\n",
    "\n",
    "age_group_mapping = {'Under 25': 0,'Between 25 and 44': 1,'Between 45 and 64': 2,'65 and above': 3}\n",
    "df['Age Group'] = df['Age Group'].map(age_group_mapping)\n",
    "IME_mapping = {'None': 0, 'Low': 1, 'Medium': 2, 'High': 3}\n",
    "df['IME Classification'] = df['IME Classification'].map(IME_mapping)\n",
    "injury_type_mapping = {'1. CANCELLED': 0, '2. NON-COMP':1, '3. MED ONLY':2,'4. TEMPORARY':3, '5. PPD SCH LOSS':4, '6. PPD NSL':5, '7. PTD':6, '8. DEATH':7}\n",
    "df['Claim Injury Type'] = df['Claim Injury Type'].map(injury_type_mapping)"
   ]
  },
  {
   "cell_type": "code",
   "execution_count": 64,
   "id": "2a878500",
   "metadata": {},
   "outputs": [],
   "source": [
    "to_drop = ['Claim Identifier', 'Zip Code','Industry Code Description', 'WCIO Cause of Injury Description', 'WCIO Nature of Injury Description', 'WCIO Part Of Body Description'] #removi as descriptions porque ja temos os codigos delas noutras colunas e removi o zip e identifier porque são coisas isoladas que não fornecem nenhuma informação sobre a pessoa"
   ]
  },
  {
   "cell_type": "code",
   "execution_count": 65,
   "id": "a89b18d4",
   "metadata": {},
   "outputs": [],
   "source": [
    "df = df.drop(to_drop, axis=1)"
   ]
  },
  {
   "cell_type": "code",
   "execution_count": 66,
   "id": "9cf2b2a4",
   "metadata": {},
   "outputs": [],
   "source": [
    "#não sei como abordar as datas nem os codes "
   ]
  },
  {
   "cell_type": "markdown",
   "id": "a45c2d3b",
   "metadata": {},
   "source": [
    "## Scaling"
   ]
  },
  {
   "cell_type": "code",
   "execution_count": 67,
   "id": "29a9e6c9",
   "metadata": {},
   "outputs": [],
   "source": [
    "from sklearn.preprocessing import MinMaxScaler\n",
    "from sklearn.preprocessing import StandardScaler\n",
    "from sklearn.preprocessing import RobustScaler"
   ]
  },
  {
   "cell_type": "code",
   "execution_count": 68,
   "id": "d9c3985b",
   "metadata": {},
   "outputs": [],
   "source": [
    "numerical_minmax = numerical.copy()\n",
    "numerical_standard = numerical.copy()\n",
    "numerical_robust = numerical.copy()\n",
    "\n",
    "scaler_minmax = MinMaxScaler()\n",
    "numerical_minmax = pd.DataFrame(scaler_minmax.fit_transform(numerical_minmax), columns=numerical.columns)\n",
    "\n",
    "scaler_standard = StandardScaler()\n",
    "numerical_standard = pd.DataFrame(scaler_standard.fit_transform(numerical_standard), columns=numerical.columns)\n",
    "\n",
    "scaler_robust = RobustScaler()\n",
    "numerical_robust = pd.DataFrame(scaler_robust.fit_transform(numerical_robust), columns=numerical.columns)"
   ]
  }
 ],
 "metadata": {
  "kernelspec": {
   "display_name": "Python 3",
   "language": "python",
   "name": "python3"
  },
  "language_info": {
   "codemirror_mode": {
    "name": "ipython",
    "version": 3
   },
   "file_extension": ".py",
   "mimetype": "text/x-python",
   "name": "python",
   "nbconvert_exporter": "python",
   "pygments_lexer": "ipython3",
   "version": "3.8.8"
  }
 },
 "nbformat": 4,
 "nbformat_minor": 5
}
